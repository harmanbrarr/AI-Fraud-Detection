{
 "cells": [
  {
   "cell_type": "markdown",
   "metadata": {},
   "source": [
    "# **Phase 2**"
   ]
  },
  {
   "cell_type": "code",
   "execution_count": 22,
   "metadata": {},
   "outputs": [],
   "source": [
    "import pandas as pd\n",
    "import numpy as np\n",
    "\n",
    "import matplotlib.pyplot as plt"
   ]
  },
  {
   "cell_type": "markdown",
   "metadata": {},
   "source": [
    "## **Exploratory Data Analysis (EDA)**"
   ]
  },
  {
   "cell_type": "code",
   "execution_count": 23,
   "metadata": {},
   "outputs": [],
   "source": [
    "df = pd.read_csv(DATASET_PATH)"
   ]
  },
  {
   "cell_type": "markdown",
   "metadata": {},
   "source": [
    "### Better Column Names"
   ]
  },
  {
   "cell_type": "code",
   "execution_count": 24,
   "metadata": {},
   "outputs": [],
   "source": [
    "df.rename(columns={'type':'paymentType', 'nameOrig':'accSender',\n",
    "                    'oldbalanceOrg':'oldBalanceSender', 'newbalanceOrig':\n",
    "                    'newBalanceSender', 'nameDest':'accRecipient',\n",
    "                    'oldbalanceDest':'oldBalanceRecipient',\n",
    "                    'newbalanceDest':'newBalanceRecipient'}, inplace=True)"
   ]
  },
  {
   "cell_type": "markdown",
   "metadata": {},
   "source": [
    "### Print DF info"
   ]
  },
  {
   "cell_type": "code",
   "execution_count": 25,
   "metadata": {},
   "outputs": [
    {
     "name": "stdout",
     "output_type": "stream",
     "text": [
      "<class 'pandas.core.frame.DataFrame'>\n",
      "RangeIndex: 6362620 entries, 0 to 6362619\n",
      "Data columns (total 11 columns):\n",
      " #   Column               Dtype  \n",
      "---  ------               -----  \n",
      " 0   step                 int64  \n",
      " 1   paymentType          object \n",
      " 2   amount               float64\n",
      " 3   accSender            object \n",
      " 4   oldBalanceSender     float64\n",
      " 5   newBalanceSender     float64\n",
      " 6   accRecipient         object \n",
      " 7   oldBalanceRecipient  float64\n",
      " 8   newBalanceRecipient  float64\n",
      " 9   isFraud              int64  \n",
      " 10  isFlaggedFraud       int64  \n",
      "dtypes: float64(5), int64(3), object(3)\n",
      "memory usage: 534.0+ MB\n",
      "None\n"
     ]
    }
   ],
   "source": [
    "print (df.info())"
   ]
  },
  {
   "cell_type": "markdown",
   "metadata": {},
   "source": [
    "### Feature Engineering"
   ]
  },
  {
   "cell_type": "markdown",
   "metadata": {},
   "source": [
    "Create two new columns showing how much the transaction changed the accounts of the sender and recipient, as a proportion of their account before the transaction. These features shows the magnitude of the transaction relative to their account."
   ]
  },
  {
   "cell_type": "code",
   "execution_count": 26,
   "metadata": {},
   "outputs": [],
   "source": [
    "# We added a +1 to the end to prevent the number going to infinity\n",
    "df['senderAccChangeRate'] = (df['oldBalanceSender'] - df['newBalanceSender']) / (df['oldBalanceSender'] + 1)\n",
    "df['recipientAccChangeRate'] = (df['oldBalanceRecipient'] - df['newBalanceRecipient']) / (df['oldBalanceRecipient'] + 1)\n"
   ]
  },
  {
   "cell_type": "code",
   "execution_count": 27,
   "metadata": {},
   "outputs": [
    {
     "data": {
      "text/html": [
       "<div>\n",
       "<style scoped>\n",
       "    .dataframe tbody tr th:only-of-type {\n",
       "        vertical-align: middle;\n",
       "    }\n",
       "\n",
       "    .dataframe tbody tr th {\n",
       "        vertical-align: top;\n",
       "    }\n",
       "\n",
       "    .dataframe thead th {\n",
       "        text-align: right;\n",
       "    }\n",
       "</style>\n",
       "<table border=\"1\" class=\"dataframe\">\n",
       "  <thead>\n",
       "    <tr style=\"text-align: right;\">\n",
       "      <th></th>\n",
       "      <th>step</th>\n",
       "      <th>paymentType</th>\n",
       "      <th>amount</th>\n",
       "      <th>accSender</th>\n",
       "      <th>oldBalanceSender</th>\n",
       "      <th>newBalanceSender</th>\n",
       "      <th>accRecipient</th>\n",
       "      <th>oldBalanceRecipient</th>\n",
       "      <th>newBalanceRecipient</th>\n",
       "      <th>isFraud</th>\n",
       "      <th>isFlaggedFraud</th>\n",
       "      <th>senderAccChangeRate</th>\n",
       "      <th>recipientAccChangeRate</th>\n",
       "    </tr>\n",
       "  </thead>\n",
       "  <tbody>\n",
       "    <tr>\n",
       "      <th>0</th>\n",
       "      <td>1</td>\n",
       "      <td>PAYMENT</td>\n",
       "      <td>9839.64</td>\n",
       "      <td>C1231006815</td>\n",
       "      <td>170136.0</td>\n",
       "      <td>160296.36</td>\n",
       "      <td>M1979787155</td>\n",
       "      <td>0.0</td>\n",
       "      <td>0.0</td>\n",
       "      <td>0</td>\n",
       "      <td>0</td>\n",
       "      <td>0.057834</td>\n",
       "      <td>0.000000</td>\n",
       "    </tr>\n",
       "    <tr>\n",
       "      <th>1</th>\n",
       "      <td>1</td>\n",
       "      <td>PAYMENT</td>\n",
       "      <td>1864.28</td>\n",
       "      <td>C1666544295</td>\n",
       "      <td>21249.0</td>\n",
       "      <td>19384.72</td>\n",
       "      <td>M2044282225</td>\n",
       "      <td>0.0</td>\n",
       "      <td>0.0</td>\n",
       "      <td>0</td>\n",
       "      <td>0</td>\n",
       "      <td>0.087731</td>\n",
       "      <td>0.000000</td>\n",
       "    </tr>\n",
       "    <tr>\n",
       "      <th>2</th>\n",
       "      <td>1</td>\n",
       "      <td>TRANSFER</td>\n",
       "      <td>181.00</td>\n",
       "      <td>C1305486145</td>\n",
       "      <td>181.0</td>\n",
       "      <td>0.00</td>\n",
       "      <td>C553264065</td>\n",
       "      <td>0.0</td>\n",
       "      <td>0.0</td>\n",
       "      <td>1</td>\n",
       "      <td>0</td>\n",
       "      <td>0.994505</td>\n",
       "      <td>0.000000</td>\n",
       "    </tr>\n",
       "    <tr>\n",
       "      <th>3</th>\n",
       "      <td>1</td>\n",
       "      <td>CASH_OUT</td>\n",
       "      <td>181.00</td>\n",
       "      <td>C840083671</td>\n",
       "      <td>181.0</td>\n",
       "      <td>0.00</td>\n",
       "      <td>C38997010</td>\n",
       "      <td>21182.0</td>\n",
       "      <td>0.0</td>\n",
       "      <td>1</td>\n",
       "      <td>0</td>\n",
       "      <td>0.994505</td>\n",
       "      <td>0.999953</td>\n",
       "    </tr>\n",
       "    <tr>\n",
       "      <th>4</th>\n",
       "      <td>1</td>\n",
       "      <td>PAYMENT</td>\n",
       "      <td>11668.14</td>\n",
       "      <td>C2048537720</td>\n",
       "      <td>41554.0</td>\n",
       "      <td>29885.86</td>\n",
       "      <td>M1230701703</td>\n",
       "      <td>0.0</td>\n",
       "      <td>0.0</td>\n",
       "      <td>0</td>\n",
       "      <td>0</td>\n",
       "      <td>0.280788</td>\n",
       "      <td>0.000000</td>\n",
       "    </tr>\n",
       "  </tbody>\n",
       "</table>\n",
       "</div>"
      ],
      "text/plain": [
       "   step paymentType    amount    accSender  oldBalanceSender  \\\n",
       "0     1     PAYMENT   9839.64  C1231006815          170136.0   \n",
       "1     1     PAYMENT   1864.28  C1666544295           21249.0   \n",
       "2     1    TRANSFER    181.00  C1305486145             181.0   \n",
       "3     1    CASH_OUT    181.00   C840083671             181.0   \n",
       "4     1     PAYMENT  11668.14  C2048537720           41554.0   \n",
       "\n",
       "   newBalanceSender accRecipient  oldBalanceRecipient  newBalanceRecipient  \\\n",
       "0         160296.36  M1979787155                  0.0                  0.0   \n",
       "1          19384.72  M2044282225                  0.0                  0.0   \n",
       "2              0.00   C553264065                  0.0                  0.0   \n",
       "3              0.00    C38997010              21182.0                  0.0   \n",
       "4          29885.86  M1230701703                  0.0                  0.0   \n",
       "\n",
       "   isFraud  isFlaggedFraud  senderAccChangeRate  recipientAccChangeRate  \n",
       "0        0               0             0.057834                0.000000  \n",
       "1        0               0             0.087731                0.000000  \n",
       "2        1               0             0.994505                0.000000  \n",
       "3        1               0             0.994505                0.999953  \n",
       "4        0               0             0.280788                0.000000  "
      ]
     },
     "execution_count": 27,
     "metadata": {},
     "output_type": "execute_result"
    }
   ],
   "source": [
    "df.head()"
   ]
  },
  {
   "cell_type": "markdown",
   "metadata": {},
   "source": [
    "## **Data Preprocessing**"
   ]
  },
  {
   "cell_type": "markdown",
   "metadata": {},
   "source": [
    "### One-Hot Encoding"
   ]
  },
  {
   "cell_type": "code",
   "execution_count": 28,
   "metadata": {},
   "outputs": [],
   "source": [
    "from sklearn.preprocessing import LabelEncoder, StandardScaler"
   ]
  },
  {
   "cell_type": "code",
   "execution_count": 29,
   "metadata": {},
   "outputs": [
    {
     "data": {
      "text/html": [
       "<div>\n",
       "<style scoped>\n",
       "    .dataframe tbody tr th:only-of-type {\n",
       "        vertical-align: middle;\n",
       "    }\n",
       "\n",
       "    .dataframe tbody tr th {\n",
       "        vertical-align: top;\n",
       "    }\n",
       "\n",
       "    .dataframe thead th {\n",
       "        text-align: right;\n",
       "    }\n",
       "</style>\n",
       "<table border=\"1\" class=\"dataframe\">\n",
       "  <thead>\n",
       "    <tr style=\"text-align: right;\">\n",
       "      <th></th>\n",
       "      <th>step</th>\n",
       "      <th>amount</th>\n",
       "      <th>accSender</th>\n",
       "      <th>oldBalanceSender</th>\n",
       "      <th>newBalanceSender</th>\n",
       "      <th>accRecipient</th>\n",
       "      <th>oldBalanceRecipient</th>\n",
       "      <th>newBalanceRecipient</th>\n",
       "      <th>isFraud</th>\n",
       "      <th>isFlaggedFraud</th>\n",
       "      <th>senderAccChangeRate</th>\n",
       "      <th>recipientAccChangeRate</th>\n",
       "      <th>paymentType_CASH_OUT</th>\n",
       "      <th>paymentType_DEBIT</th>\n",
       "      <th>paymentType_PAYMENT</th>\n",
       "      <th>paymentType_TRANSFER</th>\n",
       "    </tr>\n",
       "  </thead>\n",
       "  <tbody>\n",
       "    <tr>\n",
       "      <th>0</th>\n",
       "      <td>1</td>\n",
       "      <td>9839.64</td>\n",
       "      <td>C1231006815</td>\n",
       "      <td>170136.0</td>\n",
       "      <td>160296.36</td>\n",
       "      <td>M1979787155</td>\n",
       "      <td>0.0</td>\n",
       "      <td>0.0</td>\n",
       "      <td>0</td>\n",
       "      <td>0</td>\n",
       "      <td>0.057834</td>\n",
       "      <td>0.000000</td>\n",
       "      <td>0</td>\n",
       "      <td>0</td>\n",
       "      <td>1</td>\n",
       "      <td>0</td>\n",
       "    </tr>\n",
       "    <tr>\n",
       "      <th>1</th>\n",
       "      <td>1</td>\n",
       "      <td>1864.28</td>\n",
       "      <td>C1666544295</td>\n",
       "      <td>21249.0</td>\n",
       "      <td>19384.72</td>\n",
       "      <td>M2044282225</td>\n",
       "      <td>0.0</td>\n",
       "      <td>0.0</td>\n",
       "      <td>0</td>\n",
       "      <td>0</td>\n",
       "      <td>0.087731</td>\n",
       "      <td>0.000000</td>\n",
       "      <td>0</td>\n",
       "      <td>0</td>\n",
       "      <td>1</td>\n",
       "      <td>0</td>\n",
       "    </tr>\n",
       "    <tr>\n",
       "      <th>2</th>\n",
       "      <td>1</td>\n",
       "      <td>181.00</td>\n",
       "      <td>C1305486145</td>\n",
       "      <td>181.0</td>\n",
       "      <td>0.00</td>\n",
       "      <td>C553264065</td>\n",
       "      <td>0.0</td>\n",
       "      <td>0.0</td>\n",
       "      <td>1</td>\n",
       "      <td>0</td>\n",
       "      <td>0.994505</td>\n",
       "      <td>0.000000</td>\n",
       "      <td>0</td>\n",
       "      <td>0</td>\n",
       "      <td>0</td>\n",
       "      <td>1</td>\n",
       "    </tr>\n",
       "    <tr>\n",
       "      <th>3</th>\n",
       "      <td>1</td>\n",
       "      <td>181.00</td>\n",
       "      <td>C840083671</td>\n",
       "      <td>181.0</td>\n",
       "      <td>0.00</td>\n",
       "      <td>C38997010</td>\n",
       "      <td>21182.0</td>\n",
       "      <td>0.0</td>\n",
       "      <td>1</td>\n",
       "      <td>0</td>\n",
       "      <td>0.994505</td>\n",
       "      <td>0.999953</td>\n",
       "      <td>1</td>\n",
       "      <td>0</td>\n",
       "      <td>0</td>\n",
       "      <td>0</td>\n",
       "    </tr>\n",
       "    <tr>\n",
       "      <th>4</th>\n",
       "      <td>1</td>\n",
       "      <td>11668.14</td>\n",
       "      <td>C2048537720</td>\n",
       "      <td>41554.0</td>\n",
       "      <td>29885.86</td>\n",
       "      <td>M1230701703</td>\n",
       "      <td>0.0</td>\n",
       "      <td>0.0</td>\n",
       "      <td>0</td>\n",
       "      <td>0</td>\n",
       "      <td>0.280788</td>\n",
       "      <td>0.000000</td>\n",
       "      <td>0</td>\n",
       "      <td>0</td>\n",
       "      <td>1</td>\n",
       "      <td>0</td>\n",
       "    </tr>\n",
       "  </tbody>\n",
       "</table>\n",
       "</div>"
      ],
      "text/plain": [
       "   step    amount    accSender  oldBalanceSender  newBalanceSender  \\\n",
       "0     1   9839.64  C1231006815          170136.0         160296.36   \n",
       "1     1   1864.28  C1666544295           21249.0          19384.72   \n",
       "2     1    181.00  C1305486145             181.0              0.00   \n",
       "3     1    181.00   C840083671             181.0              0.00   \n",
       "4     1  11668.14  C2048537720           41554.0          29885.86   \n",
       "\n",
       "  accRecipient  oldBalanceRecipient  newBalanceRecipient  isFraud  \\\n",
       "0  M1979787155                  0.0                  0.0        0   \n",
       "1  M2044282225                  0.0                  0.0        0   \n",
       "2   C553264065                  0.0                  0.0        1   \n",
       "3    C38997010              21182.0                  0.0        1   \n",
       "4  M1230701703                  0.0                  0.0        0   \n",
       "\n",
       "   isFlaggedFraud  senderAccChangeRate  recipientAccChangeRate  \\\n",
       "0               0             0.057834                0.000000   \n",
       "1               0             0.087731                0.000000   \n",
       "2               0             0.994505                0.000000   \n",
       "3               0             0.994505                0.999953   \n",
       "4               0             0.280788                0.000000   \n",
       "\n",
       "   paymentType_CASH_OUT  paymentType_DEBIT  paymentType_PAYMENT  \\\n",
       "0                     0                  0                    1   \n",
       "1                     0                  0                    1   \n",
       "2                     0                  0                    0   \n",
       "3                     1                  0                    0   \n",
       "4                     0                  0                    1   \n",
       "\n",
       "   paymentType_TRANSFER  \n",
       "0                     0  \n",
       "1                     0  \n",
       "2                     1  \n",
       "3                     0  \n",
       "4                     0  "
      ]
     },
     "execution_count": 29,
     "metadata": {},
     "output_type": "execute_result"
    }
   ],
   "source": [
    "df = pd.get_dummies(df, columns=['paymentType'], drop_first=True)*1\n",
    "df.head()"
   ]
  },
  {
   "cell_type": "markdown",
   "metadata": {},
   "source": [
    "### Label Encoding\n",
    "Label-encode the sender and recipient account columns. These are categorical columns with hundreds of thousands of values, so we will have to label encoding rather than one-hot. After encoding, drop the original column to save some memory."
   ]
  },
  {
   "cell_type": "code",
   "execution_count": 30,
   "metadata": {},
   "outputs": [],
   "source": [
    "label_cols = ['accSender', 'accRecipient']\n",
    "\n",
    "for col in label_cols:\n",
    "    encoder = LabelEncoder()\n",
    "    df[col + 'Encoded'] = encoder.fit_transform(df[col])\n",
    "    df.drop(columns=[col], inplace=True)"
   ]
  },
  {
   "cell_type": "markdown",
   "metadata": {},
   "source": [
    "### Splitting Data"
   ]
  },
  {
   "cell_type": "code",
   "execution_count": 31,
   "metadata": {},
   "outputs": [],
   "source": [
    "from sklearn.model_selection import train_test_split"
   ]
  },
  {
   "cell_type": "code",
   "execution_count": 32,
   "metadata": {},
   "outputs": [],
   "source": [
    "X = df.drop(columns=['isFraud'])\n",
    "y = df['isFraud']"
   ]
  },
  {
   "cell_type": "code",
   "execution_count": 33,
   "metadata": {},
   "outputs": [],
   "source": [
    "X_train, X_test, y_train, y_test = train_test_split(X, y, \n",
    "                                                    test_size=0.2,\n",
    "                                                    stratify=y,\n",
    "                                                    random_state=777)"
   ]
  },
  {
   "cell_type": "markdown",
   "metadata": {},
   "source": [
    "### Scaling\n",
    "\n",
    "We picked RobustScaler because it is more appropriate when scaling datasets that are dependent on outliers. This decision was a recommendation gained from our Literature Review."
   ]
  },
  {
   "cell_type": "code",
   "execution_count": 34,
   "metadata": {},
   "outputs": [],
   "source": [
    "numerical_columns = X_train.select_dtypes(include=['float64']).columns"
   ]
  },
  {
   "cell_type": "code",
   "execution_count": 35,
   "metadata": {},
   "outputs": [],
   "source": [
    "from sklearn.preprocessing import RobustScaler \n",
    "\n",
    "scaler = RobustScaler()\n",
    "\n",
    "for col in numerical_columns:\n",
    "    # Fit and transform the train data\n",
    "    X_train[col] = scaler.fit_transform(X_train[[col]])\n",
    "\n",
    "    # Only transform on the test data, to prevent any data leakage\n",
    "    X_test[col] = scaler.transform(X_test[[col]])"
   ]
  },
  {
   "cell_type": "markdown",
   "metadata": {},
   "source": [
    "### Upsampling (SMOTE)\n",
    "\n",
    "Our dataset is imbalanced approximately 1:700, meaning we need to upsample as a means to counter the imbalance. From our literature review, SMOTE was used, hence we will take advantage of that insight for this project as well."
   ]
  },
  {
   "cell_type": "code",
   "execution_count": 36,
   "metadata": {},
   "outputs": [],
   "source": [
    "from imblearn.over_sampling import SMOTE\n",
    "\n",
    "smote = SMOTE(random_state=777)\n",
    "\n",
    "X_train_up, y_train_up = smote.fit_resample(X_train, y_train)"
   ]
  },
  {
   "cell_type": "markdown",
   "metadata": {},
   "source": [
    "### Write to File"
   ]
  },
  {
   "cell_type": "code",
   "execution_count": null,
   "metadata": {},
   "outputs": [],
   "source": [
    "X_train_up['isFraud'] = y_train_up\n",
    "X_train_up.to_csv('train_data.csv', index=False)"
   ]
  },
  {
   "cell_type": "code",
   "execution_count": null,
   "metadata": {},
   "outputs": [],
   "source": [
    "\n",
    "X_test['isFraud'] = y_test\n",
    "X_test.to_csv('test_data.csv', index=False)"
   ]
  }
 ],
 "metadata": {
  "kernelspec": {
   "display_name": ".venv",
   "language": "python",
   "name": "python3"
  },
  "language_info": {
   "codemirror_mode": {
    "name": "ipython",
    "version": 3
   },
   "file_extension": ".py",
   "mimetype": "text/x-python",
   "name": "python",
   "nbconvert_exporter": "python",
   "pygments_lexer": "ipython3",
   "version": "3.11.9"
  }
 },
 "nbformat": 4,
 "nbformat_minor": 2
}
