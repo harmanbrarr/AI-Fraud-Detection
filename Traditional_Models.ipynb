{
 "cells": [
  {
   "cell_type": "markdown",
   "metadata": {},
   "source": [
    "# **Traditional Models**"
   ]
  },
  {
   "cell_type": "markdown",
   "metadata": {},
   "source": [
    "According to our literature review, we decided to explore a variety of traditional ML algorithms to assist us in our problem.\n",
    "\n",
    "**Goal:** Find the best hyperparameters and train the following models:\n",
    "1. Logistic Regression\n",
    "2. KNN\n",
    "3. Support Vector Classifier (SVC)\n",
    "4. Decision Trees\n",
    "5. Random Forest\n",
    "\n",
    "6. XGBoost will be done separately at the end, since it requires custom data loading which is a different process that the other models."
   ]
  },
  {
   "cell_type": "markdown",
   "metadata": {},
   "source": [
    "### Imports"
   ]
  },
  {
   "cell_type": "code",
   "execution_count": 1,
   "metadata": {},
   "outputs": [],
   "source": [
    "import joblib"
   ]
  },
  {
   "cell_type": "code",
   "execution_count": 2,
   "metadata": {},
   "outputs": [],
   "source": [
    "import pandas as pd\n",
    "import numpy as np"
   ]
  },
  {
   "cell_type": "code",
   "execution_count": 3,
   "metadata": {},
   "outputs": [],
   "source": [
    "# Metrics\n",
    "from sklearn.metrics import make_scorer, confusion_matrix, classification_report"
   ]
  },
  {
   "cell_type": "code",
   "execution_count": 4,
   "metadata": {},
   "outputs": [],
   "source": [
    "# Tools\n",
    "from sklearn.model_selection import train_test_split, GridSearchCV"
   ]
  },
  {
   "cell_type": "code",
   "execution_count": 5,
   "metadata": {},
   "outputs": [],
   "source": [
    "# Models\n",
    "from sklearn.linear_model import LogisticRegression\n",
    "from sklearn.neighbors import KNeighborsClassifier\n",
    "from sklearn.tree import DecisionTreeClassifier\n",
    "from sklearn.ensemble import RandomForestClassifier, AdaBoostClassifier\n",
    "from sklearn.svm import SVC"
   ]
  },
  {
   "cell_type": "code",
   "execution_count": null,
   "metadata": {},
   "outputs": [],
   "source": [
    "TRAIN_PATH = 'data/train_data.csv'\n",
    "TEST_PATH = 'data/test_data.csv'"
   ]
  },
  {
   "cell_type": "code",
   "execution_count": 9,
   "metadata": {},
   "outputs": [],
   "source": [
    "train = pd.read_csv(TRAIN_PATH)\n",
    "test = pd.read_csv(TEST_PATH)"
   ]
  },
  {
   "cell_type": "markdown",
   "metadata": {},
   "source": [
    "### Retrieve Target Variable from .csv File"
   ]
  },
  {
   "cell_type": "code",
   "execution_count": 10,
   "metadata": {},
   "outputs": [],
   "source": [
    "X_train = train.drop(columns=['isFraud'], axis=1)\n",
    "y_train = train['isFraud']"
   ]
  },
  {
   "cell_type": "code",
   "execution_count": 11,
   "metadata": {},
   "outputs": [],
   "source": [
    "X_test = test.drop(columns=['isFraud'], axis=1)\n",
    "y_test = test['isFraud']"
   ]
  },
  {
   "cell_type": "markdown",
   "metadata": {},
   "source": [
    "### Sample 5% of Training Data (Dataset is too large)"
   ]
  },
  {
   "cell_type": "code",
   "execution_count": 12,
   "metadata": {},
   "outputs": [],
   "source": [
    "X_train, X_unused, y_train, y_unused = train_test_split(X_train, y_train, test_size=0.95, stratify=y_train, random_state=777)"
   ]
  },
  {
   "cell_type": "markdown",
   "metadata": {},
   "source": [
    "### Calculate Class Weights"
   ]
  },
  {
   "cell_type": "code",
   "execution_count": 13,
   "metadata": {},
   "outputs": [
    {
     "name": "stdout",
     "output_type": "stream",
     "text": [
      "{0: 0    0.001291\n",
      "dtype: float64, 1: 0    0.998709\n",
      "dtype: float64}\n"
     ]
    }
   ],
   "source": [
    "\n",
    "class_counts = test['isFraud'].value_counts()\n",
    "total_count = class_counts.sum()\n",
    "\n",
    "# Calculate inverse weight (total count / class count)\n",
    "weights = []\n",
    "for i in range(2):\n",
    "    weights.append(total_count/class_counts.loc[i])\n",
    "\n",
    "# Get the total weight\n",
    "total = pd.DataFrame(weights).sum()\n",
    "\n",
    "# Create the class weighting dictionary\n",
    "class_weighting = {}\n",
    "for i in range(2):\n",
    "    class_weighting[i] = weights[i]/total\n",
    "\n",
    "print ( class_weighting )"
   ]
  },
  {
   "cell_type": "markdown",
   "metadata": {},
   "source": [
    "### Define Models and Hyperparameter Search Range"
   ]
  },
  {
   "cell_type": "code",
   "execution_count": 14,
   "metadata": {},
   "outputs": [],
   "source": [
    "models = {\n",
    "\n",
    "\n",
    "    \"Logistic Regression\": {\n",
    "        \"instance\": LogisticRegression(penalty='l2',\n",
    "                                       solver='lbfgs',\n",
    "                                       class_weight=class_weighting\n",
    "                                       ),\n",
    "        \"params\": {\n",
    "            \"C\": [0.001, 0.01, 0.1, 1, 10],\n",
    "            'max_iter': [100, 200, 300],\n",
    "            }\n",
    "        },\n",
    "        \n",
    "        \"K-Nearest Neighbors\": {\n",
    "        \"instance\": KNeighborsClassifier(n_jobs=-1),\n",
    "        \"params\": {\n",
    "            \"n_neighbors\": list(range(5, 50, 2)),\n",
    "            \"weights\": [\"uniform\", \"distance\"]\n",
    "            }\n",
    "        },\n",
    "\n",
    "\n",
    "\n",
    "    \"Random Forest\": {\n",
    "        \"instance\": RandomForestClassifier(n_jobs=-1,\n",
    "                                           class_weight=class_weighting),\n",
    "        \"params\": {\n",
    "            \"n_estimators\": [100, 200, 300, 500],\n",
    "            \"max_depth\": [None, 10, 20, 30]\n",
    "            }\n",
    "        },\n",
    "    \n",
    "\n",
    "\n",
    "    \"Decision Tree\": {\n",
    "        \"instance\": DecisionTreeClassifier(class_weight=class_weighting),\n",
    "        \"params\": {\n",
    "            \"max_depth\": [10, 20, 30, 40],\n",
    "            \"min_samples_split\": [2, 5, 10]\n",
    "            }\n",
    "        }\n",
    "\n",
    "    }"
   ]
  },
  {
   "cell_type": "markdown",
   "metadata": {},
   "source": [
    "### Perform Grid Search\n",
    "Find the best parameters for each of the five models and then save best model info, like estimator, params, and score to a file for later use."
   ]
  },
  {
   "cell_type": "code",
   "execution_count": null,
   "metadata": {},
   "outputs": [
    {
     "name": "stdout",
     "output_type": "stream",
     "text": [
      "Fitting 5 folds for each of 15 candidates, totalling 75 fits\n"
     ]
    },
    {
     "name": "stderr",
     "output_type": "stream",
     "text": [
      "/Users/admin/Downloads/anaconda/anaconda3/envs/my_environment_A5005da/lib/python3.12/site-packages/sklearn/utils/class_weight.py:81: FutureWarning: Calling float on a single element Series is deprecated and will raise a TypeError in the future. Use float(ser.iloc[0]) instead\n",
      "  weight[i] = class_weight[c]\n",
      "/Users/admin/Downloads/anaconda/anaconda3/envs/my_environment_A5005da/lib/python3.12/site-packages/sklearn/utils/class_weight.py:81: FutureWarning: Calling float on a single element Series is deprecated and will raise a TypeError in the future. Use float(ser.iloc[0]) instead\n",
      "  weight[i] = class_weight[c]\n",
      "/Users/admin/Downloads/anaconda/anaconda3/envs/my_environment_A5005da/lib/python3.12/site-packages/sklearn/utils/class_weight.py:81: FutureWarning: Calling float on a single element Series is deprecated and will raise a TypeError in the future. Use float(ser.iloc[0]) instead\n",
      "  weight[i] = class_weight[c]\n",
      "/Users/admin/Downloads/anaconda/anaconda3/envs/my_environment_A5005da/lib/python3.12/site-packages/sklearn/utils/class_weight.py:81: FutureWarning: Calling float on a single element Series is deprecated and will raise a TypeError in the future. Use float(ser.iloc[0]) instead\n",
      "  weight[i] = class_weight[c]\n",
      "/Users/admin/Downloads/anaconda/anaconda3/envs/my_environment_A5005da/lib/python3.12/site-packages/sklearn/utils/class_weight.py:81: FutureWarning: Calling float on a single element Series is deprecated and will raise a TypeError in the future. Use float(ser.iloc[0]) instead\n",
      "  weight[i] = class_weight[c]\n",
      "/Users/admin/Downloads/anaconda/anaconda3/envs/my_environment_A5005da/lib/python3.12/site-packages/sklearn/utils/class_weight.py:81: FutureWarning: Calling float on a single element Series is deprecated and will raise a TypeError in the future. Use float(ser.iloc[0]) instead\n",
      "  weight[i] = class_weight[c]\n",
      "/Users/admin/Downloads/anaconda/anaconda3/envs/my_environment_A5005da/lib/python3.12/site-packages/sklearn/utils/class_weight.py:81: FutureWarning: Calling float on a single element Series is deprecated and will raise a TypeError in the future. Use float(ser.iloc[0]) instead\n",
      "  weight[i] = class_weight[c]\n",
      "/Users/admin/Downloads/anaconda/anaconda3/envs/my_environment_A5005da/lib/python3.12/site-packages/sklearn/utils/class_weight.py:81: FutureWarning: Calling float on a single element Series is deprecated and will raise a TypeError in the future. Use float(ser.iloc[0]) instead\n",
      "  weight[i] = class_weight[c]\n",
      "/Users/admin/Downloads/anaconda/anaconda3/envs/my_environment_A5005da/lib/python3.12/site-packages/sklearn/linear_model/_logistic.py:469: ConvergenceWarning: lbfgs failed to converge (status=1):\n",
      "STOP: TOTAL NO. of ITERATIONS REACHED LIMIT.\n",
      "\n",
      "Increase the number of iterations (max_iter) or scale the data as shown in:\n",
      "    https://scikit-learn.org/stable/modules/preprocessing.html\n",
      "Please also refer to the documentation for alternative solver options:\n",
      "    https://scikit-learn.org/stable/modules/linear_model.html#logistic-regression\n",
      "  n_iter_i = _check_optimize_result(\n",
      "/Users/admin/Downloads/anaconda/anaconda3/envs/my_environment_A5005da/lib/python3.12/site-packages/sklearn/linear_model/_logistic.py:469: ConvergenceWarning: lbfgs failed to converge (status=1):\n",
      "STOP: TOTAL NO. of ITERATIONS REACHED LIMIT.\n",
      "\n",
      "Increase the number of iterations (max_iter) or scale the data as shown in:\n",
      "    https://scikit-learn.org/stable/modules/preprocessing.html\n",
      "Please also refer to the documentation for alternative solver options:\n",
      "    https://scikit-learn.org/stable/modules/linear_model.html#logistic-regression\n",
      "  n_iter_i = _check_optimize_result(\n"
     ]
    },
    {
     "name": "stdout",
     "output_type": "stream",
     "text": [
      "[CV] END ..............................C=0.001, max_iter=100; total time=  20.1s\n",
      "[CV] END ..............................C=0.001, max_iter=100; total time=  20.2s\n"
     ]
    },
    {
     "name": "stderr",
     "output_type": "stream",
     "text": [
      "/Users/admin/Downloads/anaconda/anaconda3/envs/my_environment_A5005da/lib/python3.12/site-packages/sklearn/linear_model/_logistic.py:469: ConvergenceWarning: lbfgs failed to converge (status=1):\n",
      "STOP: TOTAL NO. of ITERATIONS REACHED LIMIT.\n",
      "\n",
      "Increase the number of iterations (max_iter) or scale the data as shown in:\n",
      "    https://scikit-learn.org/stable/modules/preprocessing.html\n",
      "Please also refer to the documentation for alternative solver options:\n",
      "    https://scikit-learn.org/stable/modules/linear_model.html#logistic-regression\n",
      "  n_iter_i = _check_optimize_result(\n",
      "/Users/admin/Downloads/anaconda/anaconda3/envs/my_environment_A5005da/lib/python3.12/site-packages/sklearn/linear_model/_logistic.py:469: ConvergenceWarning: lbfgs failed to converge (status=1):\n",
      "STOP: TOTAL NO. of ITERATIONS REACHED LIMIT.\n",
      "\n",
      "Increase the number of iterations (max_iter) or scale the data as shown in:\n",
      "    https://scikit-learn.org/stable/modules/preprocessing.html\n",
      "Please also refer to the documentation for alternative solver options:\n",
      "    https://scikit-learn.org/stable/modules/linear_model.html#logistic-regression\n",
      "  n_iter_i = _check_optimize_result(\n"
     ]
    },
    {
     "name": "stdout",
     "output_type": "stream",
     "text": [
      "[CV] END ..............................C=0.001, max_iter=100; total time=  21.7s\n",
      "[CV] END ..............................C=0.001, max_iter=100; total time=  21.9s\n"
     ]
    },
    {
     "name": "stderr",
     "output_type": "stream",
     "text": [
      "/Users/admin/Downloads/anaconda/anaconda3/envs/my_environment_A5005da/lib/python3.12/site-packages/sklearn/linear_model/_logistic.py:469: ConvergenceWarning: lbfgs failed to converge (status=1):\n",
      "STOP: TOTAL NO. of ITERATIONS REACHED LIMIT.\n",
      "\n",
      "Increase the number of iterations (max_iter) or scale the data as shown in:\n",
      "    https://scikit-learn.org/stable/modules/preprocessing.html\n",
      "Please also refer to the documentation for alternative solver options:\n",
      "    https://scikit-learn.org/stable/modules/linear_model.html#logistic-regression\n",
      "  n_iter_i = _check_optimize_result(\n",
      "/Users/admin/Downloads/anaconda/anaconda3/envs/my_environment_A5005da/lib/python3.12/site-packages/sklearn/utils/class_weight.py:81: FutureWarning: Calling float on a single element Series is deprecated and will raise a TypeError in the future. Use float(ser.iloc[0]) instead\n",
      "  weight[i] = class_weight[c]\n",
      "/Users/admin/Downloads/anaconda/anaconda3/envs/my_environment_A5005da/lib/python3.12/site-packages/sklearn/utils/class_weight.py:81: FutureWarning: Calling float on a single element Series is deprecated and will raise a TypeError in the future. Use float(ser.iloc[0]) instead\n",
      "  weight[i] = class_weight[c]\n"
     ]
    },
    {
     "name": "stdout",
     "output_type": "stream",
     "text": [
      "[CV] END ..............................C=0.001, max_iter=100; total time=  22.3s\n"
     ]
    },
    {
     "name": "stderr",
     "output_type": "stream",
     "text": [
      "/Users/admin/Downloads/anaconda/anaconda3/envs/my_environment_A5005da/lib/python3.12/site-packages/sklearn/utils/class_weight.py:81: FutureWarning: Calling float on a single element Series is deprecated and will raise a TypeError in the future. Use float(ser.iloc[0]) instead\n",
      "  weight[i] = class_weight[c]\n",
      "/Users/admin/Downloads/anaconda/anaconda3/envs/my_environment_A5005da/lib/python3.12/site-packages/sklearn/utils/class_weight.py:81: FutureWarning: Calling float on a single element Series is deprecated and will raise a TypeError in the future. Use float(ser.iloc[0]) instead\n",
      "  weight[i] = class_weight[c]\n",
      "/Users/admin/Downloads/anaconda/anaconda3/envs/my_environment_A5005da/lib/python3.12/site-packages/sklearn/utils/class_weight.py:81: FutureWarning: Calling float on a single element Series is deprecated and will raise a TypeError in the future. Use float(ser.iloc[0]) instead\n",
      "  weight[i] = class_weight[c]\n"
     ]
    },
    {
     "name": "stdout",
     "output_type": "stream",
     "text": [
      "[CV] END ..............................C=0.001, max_iter=200; total time=  24.4s\n"
     ]
    },
    {
     "name": "stderr",
     "output_type": "stream",
     "text": [
      "/Users/admin/Downloads/anaconda/anaconda3/envs/my_environment_A5005da/lib/python3.12/site-packages/sklearn/utils/class_weight.py:81: FutureWarning: Calling float on a single element Series is deprecated and will raise a TypeError in the future. Use float(ser.iloc[0]) instead\n",
      "  weight[i] = class_weight[c]\n",
      "/Users/admin/Downloads/anaconda/anaconda3/envs/my_environment_A5005da/lib/python3.12/site-packages/sklearn/linear_model/_logistic.py:469: ConvergenceWarning: lbfgs failed to converge (status=1):\n",
      "STOP: TOTAL NO. of ITERATIONS REACHED LIMIT.\n",
      "\n",
      "Increase the number of iterations (max_iter) or scale the data as shown in:\n",
      "    https://scikit-learn.org/stable/modules/preprocessing.html\n",
      "Please also refer to the documentation for alternative solver options:\n",
      "    https://scikit-learn.org/stable/modules/linear_model.html#logistic-regression\n",
      "  n_iter_i = _check_optimize_result(\n",
      "/Users/admin/Downloads/anaconda/anaconda3/envs/my_environment_A5005da/lib/python3.12/site-packages/sklearn/linear_model/_logistic.py:469: ConvergenceWarning: lbfgs failed to converge (status=1):\n",
      "STOP: TOTAL NO. of ITERATIONS REACHED LIMIT.\n",
      "\n",
      "Increase the number of iterations (max_iter) or scale the data as shown in:\n",
      "    https://scikit-learn.org/stable/modules/preprocessing.html\n",
      "Please also refer to the documentation for alternative solver options:\n",
      "    https://scikit-learn.org/stable/modules/linear_model.html#logistic-regression\n",
      "  n_iter_i = _check_optimize_result(\n"
     ]
    },
    {
     "name": "stdout",
     "output_type": "stream",
     "text": [
      "[CV] END ..............................C=0.001, max_iter=200; total time=  32.0s\n",
      "[CV] END ..............................C=0.001, max_iter=200; total time=  32.1s\n"
     ]
    },
    {
     "name": "stderr",
     "output_type": "stream",
     "text": [
      "/Users/admin/Downloads/anaconda/anaconda3/envs/my_environment_A5005da/lib/python3.12/site-packages/sklearn/utils/class_weight.py:81: FutureWarning: Calling float on a single element Series is deprecated and will raise a TypeError in the future. Use float(ser.iloc[0]) instead\n",
      "  weight[i] = class_weight[c]\n",
      "/Users/admin/Downloads/anaconda/anaconda3/envs/my_environment_A5005da/lib/python3.12/site-packages/sklearn/utils/class_weight.py:81: FutureWarning: Calling float on a single element Series is deprecated and will raise a TypeError in the future. Use float(ser.iloc[0]) instead\n",
      "  weight[i] = class_weight[c]\n"
     ]
    },
    {
     "name": "stdout",
     "output_type": "stream",
     "text": [
      "[CV] END ..............................C=0.001, max_iter=200; total time=  19.2s\n"
     ]
    },
    {
     "name": "stderr",
     "output_type": "stream",
     "text": [
      "/Users/admin/Downloads/anaconda/anaconda3/envs/my_environment_A5005da/lib/python3.12/site-packages/sklearn/utils/class_weight.py:81: FutureWarning: Calling float on a single element Series is deprecated and will raise a TypeError in the future. Use float(ser.iloc[0]) instead\n",
      "  weight[i] = class_weight[c]\n"
     ]
    },
    {
     "name": "stdout",
     "output_type": "stream",
     "text": [
      "[CV] END ..............................C=0.001, max_iter=300; total time=  19.0s\n"
     ]
    },
    {
     "name": "stderr",
     "output_type": "stream",
     "text": [
      "/Users/admin/Downloads/anaconda/anaconda3/envs/my_environment_A5005da/lib/python3.12/site-packages/sklearn/utils/class_weight.py:81: FutureWarning: Calling float on a single element Series is deprecated and will raise a TypeError in the future. Use float(ser.iloc[0]) instead\n",
      "  weight[i] = class_weight[c]\n",
      "/Users/admin/Downloads/anaconda/anaconda3/envs/my_environment_A5005da/lib/python3.12/site-packages/sklearn/linear_model/_logistic.py:469: ConvergenceWarning: lbfgs failed to converge (status=1):\n",
      "STOP: TOTAL NO. of ITERATIONS REACHED LIMIT.\n",
      "\n",
      "Increase the number of iterations (max_iter) or scale the data as shown in:\n",
      "    https://scikit-learn.org/stable/modules/preprocessing.html\n",
      "Please also refer to the documentation for alternative solver options:\n",
      "    https://scikit-learn.org/stable/modules/linear_model.html#logistic-regression\n",
      "  n_iter_i = _check_optimize_result(\n"
     ]
    },
    {
     "name": "stdout",
     "output_type": "stream",
     "text": [
      "[CV] END ...............................C=0.01, max_iter=100; total time=  14.1s\n"
     ]
    },
    {
     "name": "stderr",
     "output_type": "stream",
     "text": [
      "/Users/admin/Downloads/anaconda/anaconda3/envs/my_environment_A5005da/lib/python3.12/site-packages/sklearn/utils/class_weight.py:81: FutureWarning: Calling float on a single element Series is deprecated and will raise a TypeError in the future. Use float(ser.iloc[0]) instead\n",
      "  weight[i] = class_weight[c]\n",
      "/Users/admin/Downloads/anaconda/anaconda3/envs/my_environment_A5005da/lib/python3.12/site-packages/sklearn/linear_model/_logistic.py:469: ConvergenceWarning: lbfgs failed to converge (status=1):\n",
      "STOP: TOTAL NO. of ITERATIONS REACHED LIMIT.\n",
      "\n",
      "Increase the number of iterations (max_iter) or scale the data as shown in:\n",
      "    https://scikit-learn.org/stable/modules/preprocessing.html\n",
      "Please also refer to the documentation for alternative solver options:\n",
      "    https://scikit-learn.org/stable/modules/linear_model.html#logistic-regression\n",
      "  n_iter_i = _check_optimize_result(\n"
     ]
    },
    {
     "name": "stdout",
     "output_type": "stream",
     "text": [
      "[CV] END ..............................C=0.001, max_iter=200; total time=  26.8s\n"
     ]
    },
    {
     "name": "stderr",
     "output_type": "stream",
     "text": [
      "/Users/admin/Downloads/anaconda/anaconda3/envs/my_environment_A5005da/lib/python3.12/site-packages/sklearn/utils/class_weight.py:81: FutureWarning: Calling float on a single element Series is deprecated and will raise a TypeError in the future. Use float(ser.iloc[0]) instead\n",
      "  weight[i] = class_weight[c]\n"
     ]
    },
    {
     "name": "stdout",
     "output_type": "stream",
     "text": [
      "[CV] END ..............................C=0.001, max_iter=300; total time=  19.8s\n"
     ]
    },
    {
     "name": "stderr",
     "output_type": "stream",
     "text": [
      "/Users/admin/Downloads/anaconda/anaconda3/envs/my_environment_A5005da/lib/python3.12/site-packages/sklearn/utils/class_weight.py:81: FutureWarning: Calling float on a single element Series is deprecated and will raise a TypeError in the future. Use float(ser.iloc[0]) instead\n",
      "  weight[i] = class_weight[c]\n"
     ]
    },
    {
     "name": "stdout",
     "output_type": "stream",
     "text": [
      "[CV] END ..............................C=0.001, max_iter=300; total time=  32.4s\n",
      "[CV] END ...............................C=0.01, max_iter=100; total time=  13.3s\n"
     ]
    },
    {
     "name": "stderr",
     "output_type": "stream",
     "text": [
      "/Users/admin/Downloads/anaconda/anaconda3/envs/my_environment_A5005da/lib/python3.12/site-packages/sklearn/linear_model/_logistic.py:469: ConvergenceWarning: lbfgs failed to converge (status=1):\n",
      "STOP: TOTAL NO. of ITERATIONS REACHED LIMIT.\n",
      "\n",
      "Increase the number of iterations (max_iter) or scale the data as shown in:\n",
      "    https://scikit-learn.org/stable/modules/preprocessing.html\n",
      "Please also refer to the documentation for alternative solver options:\n",
      "    https://scikit-learn.org/stable/modules/linear_model.html#logistic-regression\n",
      "  n_iter_i = _check_optimize_result(\n",
      "/Users/admin/Downloads/anaconda/anaconda3/envs/my_environment_A5005da/lib/python3.12/site-packages/sklearn/linear_model/_logistic.py:469: ConvergenceWarning: lbfgs failed to converge (status=1):\n",
      "STOP: TOTAL NO. of ITERATIONS REACHED LIMIT.\n",
      "\n",
      "Increase the number of iterations (max_iter) or scale the data as shown in:\n",
      "    https://scikit-learn.org/stable/modules/preprocessing.html\n",
      "Please also refer to the documentation for alternative solver options:\n",
      "    https://scikit-learn.org/stable/modules/linear_model.html#logistic-regression\n",
      "  n_iter_i = _check_optimize_result(\n"
     ]
    },
    {
     "name": "stdout",
     "output_type": "stream",
     "text": [
      "[CV] END ...............................C=0.01, max_iter=100; total time=  14.9s\n"
     ]
    },
    {
     "name": "stderr",
     "output_type": "stream",
     "text": [
      "/Users/admin/Downloads/anaconda/anaconda3/envs/my_environment_A5005da/lib/python3.12/site-packages/sklearn/utils/class_weight.py:81: FutureWarning: Calling float on a single element Series is deprecated and will raise a TypeError in the future. Use float(ser.iloc[0]) instead\n",
      "  weight[i] = class_weight[c]\n",
      "/Users/admin/Downloads/anaconda/anaconda3/envs/my_environment_A5005da/lib/python3.12/site-packages/sklearn/utils/class_weight.py:81: FutureWarning: Calling float on a single element Series is deprecated and will raise a TypeError in the future. Use float(ser.iloc[0]) instead\n",
      "  weight[i] = class_weight[c]\n",
      "/Users/admin/Downloads/anaconda/anaconda3/envs/my_environment_A5005da/lib/python3.12/site-packages/sklearn/utils/class_weight.py:81: FutureWarning: Calling float on a single element Series is deprecated and will raise a TypeError in the future. Use float(ser.iloc[0]) instead\n",
      "  weight[i] = class_weight[c]\n",
      "/Users/admin/Downloads/anaconda/anaconda3/envs/my_environment_A5005da/lib/python3.12/site-packages/sklearn/linear_model/_logistic.py:469: ConvergenceWarning: lbfgs failed to converge (status=1):\n",
      "STOP: TOTAL NO. of ITERATIONS REACHED LIMIT.\n",
      "\n",
      "Increase the number of iterations (max_iter) or scale the data as shown in:\n",
      "    https://scikit-learn.org/stable/modules/preprocessing.html\n",
      "Please also refer to the documentation for alternative solver options:\n",
      "    https://scikit-learn.org/stable/modules/linear_model.html#logistic-regression\n",
      "  n_iter_i = _check_optimize_result(\n"
     ]
    },
    {
     "name": "stdout",
     "output_type": "stream",
     "text": [
      "[CV] END ..............................C=0.001, max_iter=300; total time=  38.0s\n"
     ]
    },
    {
     "name": "stderr",
     "output_type": "stream",
     "text": [
      "/Users/admin/Downloads/anaconda/anaconda3/envs/my_environment_A5005da/lib/python3.12/site-packages/sklearn/linear_model/_logistic.py:469: ConvergenceWarning: lbfgs failed to converge (status=1):\n",
      "STOP: TOTAL NO. of ITERATIONS REACHED LIMIT.\n",
      "\n",
      "Increase the number of iterations (max_iter) or scale the data as shown in:\n",
      "    https://scikit-learn.org/stable/modules/preprocessing.html\n",
      "Please also refer to the documentation for alternative solver options:\n",
      "    https://scikit-learn.org/stable/modules/linear_model.html#logistic-regression\n",
      "  n_iter_i = _check_optimize_result(\n"
     ]
    },
    {
     "name": "stdout",
     "output_type": "stream",
     "text": [
      "[CV] END ...............................C=0.01, max_iter=100; total time=  14.9s\n"
     ]
    },
    {
     "name": "stderr",
     "output_type": "stream",
     "text": [
      "/Users/admin/Downloads/anaconda/anaconda3/envs/my_environment_A5005da/lib/python3.12/site-packages/sklearn/utils/class_weight.py:81: FutureWarning: Calling float on a single element Series is deprecated and will raise a TypeError in the future. Use float(ser.iloc[0]) instead\n",
      "  weight[i] = class_weight[c]\n",
      "/Users/admin/Downloads/anaconda/anaconda3/envs/my_environment_A5005da/lib/python3.12/site-packages/sklearn/linear_model/_logistic.py:469: ConvergenceWarning: lbfgs failed to converge (status=1):\n",
      "STOP: TOTAL NO. of ITERATIONS REACHED LIMIT.\n",
      "\n",
      "Increase the number of iterations (max_iter) or scale the data as shown in:\n",
      "    https://scikit-learn.org/stable/modules/preprocessing.html\n",
      "Please also refer to the documentation for alternative solver options:\n",
      "    https://scikit-learn.org/stable/modules/linear_model.html#logistic-regression\n",
      "  n_iter_i = _check_optimize_result(\n",
      "/Users/admin/Downloads/anaconda/anaconda3/envs/my_environment_A5005da/lib/python3.12/site-packages/sklearn/utils/class_weight.py:81: FutureWarning: Calling float on a single element Series is deprecated and will raise a TypeError in the future. Use float(ser.iloc[0]) instead\n",
      "  weight[i] = class_weight[c]\n"
     ]
    },
    {
     "name": "stdout",
     "output_type": "stream",
     "text": [
      "[CV] END ..............................C=0.001, max_iter=300; total time=  37.8s\n"
     ]
    },
    {
     "name": "stderr",
     "output_type": "stream",
     "text": [
      "/Users/admin/Downloads/anaconda/anaconda3/envs/my_environment_A5005da/lib/python3.12/site-packages/sklearn/linear_model/_logistic.py:469: ConvergenceWarning: lbfgs failed to converge (status=1):\n",
      "STOP: TOTAL NO. of ITERATIONS REACHED LIMIT.\n",
      "\n",
      "Increase the number of iterations (max_iter) or scale the data as shown in:\n",
      "    https://scikit-learn.org/stable/modules/preprocessing.html\n",
      "Please also refer to the documentation for alternative solver options:\n",
      "    https://scikit-learn.org/stable/modules/linear_model.html#logistic-regression\n",
      "  n_iter_i = _check_optimize_result(\n"
     ]
    },
    {
     "name": "stdout",
     "output_type": "stream",
     "text": [
      "[CV] END ...............................C=0.01, max_iter=100; total time=  15.0s\n"
     ]
    },
    {
     "name": "stderr",
     "output_type": "stream",
     "text": [
      "/Users/admin/Downloads/anaconda/anaconda3/envs/my_environment_A5005da/lib/python3.12/site-packages/sklearn/utils/class_weight.py:81: FutureWarning: Calling float on a single element Series is deprecated and will raise a TypeError in the future. Use float(ser.iloc[0]) instead\n",
      "  weight[i] = class_weight[c]\n",
      "/Users/admin/Downloads/anaconda/anaconda3/envs/my_environment_A5005da/lib/python3.12/site-packages/sklearn/utils/class_weight.py:81: FutureWarning: Calling float on a single element Series is deprecated and will raise a TypeError in the future. Use float(ser.iloc[0]) instead\n",
      "  weight[i] = class_weight[c]\n",
      "/Users/admin/Downloads/anaconda/anaconda3/envs/my_environment_A5005da/lib/python3.12/site-packages/sklearn/linear_model/_logistic.py:469: ConvergenceWarning: lbfgs failed to converge (status=1):\n",
      "STOP: TOTAL NO. of ITERATIONS REACHED LIMIT.\n",
      "\n",
      "Increase the number of iterations (max_iter) or scale the data as shown in:\n",
      "    https://scikit-learn.org/stable/modules/preprocessing.html\n",
      "Please also refer to the documentation for alternative solver options:\n",
      "    https://scikit-learn.org/stable/modules/linear_model.html#logistic-regression\n",
      "  n_iter_i = _check_optimize_result(\n"
     ]
    },
    {
     "name": "stdout",
     "output_type": "stream",
     "text": [
      "[CV] END ...............................C=0.01, max_iter=200; total time=  25.9s\n",
      "[CV] END ...............................C=0.01, max_iter=200; total time=  22.2s\n"
     ]
    },
    {
     "name": "stderr",
     "output_type": "stream",
     "text": [
      "/Users/admin/Downloads/anaconda/anaconda3/envs/my_environment_A5005da/lib/python3.12/site-packages/sklearn/utils/class_weight.py:81: FutureWarning: Calling float on a single element Series is deprecated and will raise a TypeError in the future. Use float(ser.iloc[0]) instead\n",
      "  weight[i] = class_weight[c]\n",
      "/Users/admin/Downloads/anaconda/anaconda3/envs/my_environment_A5005da/lib/python3.12/site-packages/sklearn/utils/class_weight.py:81: FutureWarning: Calling float on a single element Series is deprecated and will raise a TypeError in the future. Use float(ser.iloc[0]) instead\n",
      "  weight[i] = class_weight[c]\n",
      "/Users/admin/Downloads/anaconda/anaconda3/envs/my_environment_A5005da/lib/python3.12/site-packages/sklearn/linear_model/_logistic.py:469: ConvergenceWarning: lbfgs failed to converge (status=1):\n",
      "STOP: TOTAL NO. of ITERATIONS REACHED LIMIT.\n",
      "\n",
      "Increase the number of iterations (max_iter) or scale the data as shown in:\n",
      "    https://scikit-learn.org/stable/modules/preprocessing.html\n",
      "Please also refer to the documentation for alternative solver options:\n",
      "    https://scikit-learn.org/stable/modules/linear_model.html#logistic-regression\n",
      "  n_iter_i = _check_optimize_result(\n"
     ]
    },
    {
     "name": "stdout",
     "output_type": "stream",
     "text": [
      "[CV] END ...............................C=0.01, max_iter=200; total time=  26.5s\n"
     ]
    },
    {
     "name": "stderr",
     "output_type": "stream",
     "text": [
      "/Users/admin/Downloads/anaconda/anaconda3/envs/my_environment_A5005da/lib/python3.12/site-packages/sklearn/utils/class_weight.py:81: FutureWarning: Calling float on a single element Series is deprecated and will raise a TypeError in the future. Use float(ser.iloc[0]) instead\n",
      "  weight[i] = class_weight[c]\n",
      "/Users/admin/Downloads/anaconda/anaconda3/envs/my_environment_A5005da/lib/python3.12/site-packages/sklearn/linear_model/_logistic.py:469: ConvergenceWarning: lbfgs failed to converge (status=1):\n",
      "STOP: TOTAL NO. of ITERATIONS REACHED LIMIT.\n",
      "\n",
      "Increase the number of iterations (max_iter) or scale the data as shown in:\n",
      "    https://scikit-learn.org/stable/modules/preprocessing.html\n",
      "Please also refer to the documentation for alternative solver options:\n",
      "    https://scikit-learn.org/stable/modules/linear_model.html#logistic-regression\n",
      "  n_iter_i = _check_optimize_result(\n"
     ]
    },
    {
     "name": "stdout",
     "output_type": "stream",
     "text": [
      "[CV] END ...............................C=0.01, max_iter=200; total time=  30.7s\n"
     ]
    },
    {
     "name": "stderr",
     "output_type": "stream",
     "text": [
      "/Users/admin/Downloads/anaconda/anaconda3/envs/my_environment_A5005da/lib/python3.12/site-packages/sklearn/utils/class_weight.py:81: FutureWarning: Calling float on a single element Series is deprecated and will raise a TypeError in the future. Use float(ser.iloc[0]) instead\n",
      "  weight[i] = class_weight[c]\n"
     ]
    },
    {
     "name": "stdout",
     "output_type": "stream",
     "text": [
      "[CV] END ...............................C=0.01, max_iter=200; total time=  27.2s\n"
     ]
    },
    {
     "name": "stderr",
     "output_type": "stream",
     "text": [
      "/Users/admin/Downloads/anaconda/anaconda3/envs/my_environment_A5005da/lib/python3.12/site-packages/sklearn/utils/class_weight.py:81: FutureWarning: Calling float on a single element Series is deprecated and will raise a TypeError in the future. Use float(ser.iloc[0]) instead\n",
      "  weight[i] = class_weight[c]\n"
     ]
    },
    {
     "name": "stdout",
     "output_type": "stream",
     "text": [
      "[CV] END ...............................C=0.01, max_iter=300; total time=  31.8s\n"
     ]
    },
    {
     "name": "stderr",
     "output_type": "stream",
     "text": [
      "/Users/admin/Downloads/anaconda/anaconda3/envs/my_environment_A5005da/lib/python3.12/site-packages/sklearn/utils/class_weight.py:81: FutureWarning: Calling float on a single element Series is deprecated and will raise a TypeError in the future. Use float(ser.iloc[0]) instead\n",
      "  weight[i] = class_weight[c]\n",
      "/Users/admin/Downloads/anaconda/anaconda3/envs/my_environment_A5005da/lib/python3.12/site-packages/sklearn/linear_model/_logistic.py:469: ConvergenceWarning: lbfgs failed to converge (status=1):\n",
      "STOP: TOTAL NO. of ITERATIONS REACHED LIMIT.\n",
      "\n",
      "Increase the number of iterations (max_iter) or scale the data as shown in:\n",
      "    https://scikit-learn.org/stable/modules/preprocessing.html\n",
      "Please also refer to the documentation for alternative solver options:\n",
      "    https://scikit-learn.org/stable/modules/linear_model.html#logistic-regression\n",
      "  n_iter_i = _check_optimize_result(\n"
     ]
    },
    {
     "name": "stdout",
     "output_type": "stream",
     "text": [
      "[CV] END ................................C=0.1, max_iter=100; total time=  17.2s\n"
     ]
    },
    {
     "name": "stderr",
     "output_type": "stream",
     "text": [
      "/Users/admin/Downloads/anaconda/anaconda3/envs/my_environment_A5005da/lib/python3.12/site-packages/sklearn/utils/class_weight.py:81: FutureWarning: Calling float on a single element Series is deprecated and will raise a TypeError in the future. Use float(ser.iloc[0]) instead\n",
      "  weight[i] = class_weight[c]\n"
     ]
    },
    {
     "name": "stdout",
     "output_type": "stream",
     "text": [
      "[CV] END ...............................C=0.01, max_iter=300; total time=  25.6s\n"
     ]
    },
    {
     "name": "stderr",
     "output_type": "stream",
     "text": [
      "/Users/admin/Downloads/anaconda/anaconda3/envs/my_environment_A5005da/lib/python3.12/site-packages/sklearn/linear_model/_logistic.py:469: ConvergenceWarning: lbfgs failed to converge (status=1):\n",
      "STOP: TOTAL NO. of ITERATIONS REACHED LIMIT.\n",
      "\n",
      "Increase the number of iterations (max_iter) or scale the data as shown in:\n",
      "    https://scikit-learn.org/stable/modules/preprocessing.html\n",
      "Please also refer to the documentation for alternative solver options:\n",
      "    https://scikit-learn.org/stable/modules/linear_model.html#logistic-regression\n",
      "  n_iter_i = _check_optimize_result(\n"
     ]
    },
    {
     "name": "stdout",
     "output_type": "stream",
     "text": [
      "[CV] END ...............................C=0.01, max_iter=300; total time=  43.3s\n"
     ]
    },
    {
     "name": "stderr",
     "output_type": "stream",
     "text": [
      "/Users/admin/Downloads/anaconda/anaconda3/envs/my_environment_A5005da/lib/python3.12/site-packages/sklearn/linear_model/_logistic.py:469: ConvergenceWarning: lbfgs failed to converge (status=1):\n",
      "STOP: TOTAL NO. of ITERATIONS REACHED LIMIT.\n",
      "\n",
      "Increase the number of iterations (max_iter) or scale the data as shown in:\n",
      "    https://scikit-learn.org/stable/modules/preprocessing.html\n",
      "Please also refer to the documentation for alternative solver options:\n",
      "    https://scikit-learn.org/stable/modules/linear_model.html#logistic-regression\n",
      "  n_iter_i = _check_optimize_result(\n"
     ]
    },
    {
     "name": "stdout",
     "output_type": "stream",
     "text": [
      "[CV] END ................................C=0.1, max_iter=100; total time=  18.8s\n"
     ]
    },
    {
     "name": "stderr",
     "output_type": "stream",
     "text": [
      "/Users/admin/Downloads/anaconda/anaconda3/envs/my_environment_A5005da/lib/python3.12/site-packages/sklearn/utils/class_weight.py:81: FutureWarning: Calling float on a single element Series is deprecated and will raise a TypeError in the future. Use float(ser.iloc[0]) instead\n",
      "  weight[i] = class_weight[c]\n",
      "/Users/admin/Downloads/anaconda/anaconda3/envs/my_environment_A5005da/lib/python3.12/site-packages/sklearn/linear_model/_logistic.py:469: ConvergenceWarning: lbfgs failed to converge (status=1):\n",
      "STOP: TOTAL NO. of ITERATIONS REACHED LIMIT.\n",
      "\n",
      "Increase the number of iterations (max_iter) or scale the data as shown in:\n",
      "    https://scikit-learn.org/stable/modules/preprocessing.html\n",
      "Please also refer to the documentation for alternative solver options:\n",
      "    https://scikit-learn.org/stable/modules/linear_model.html#logistic-regression\n",
      "  n_iter_i = _check_optimize_result(\n"
     ]
    },
    {
     "name": "stdout",
     "output_type": "stream",
     "text": [
      "[CV] END ................................C=0.1, max_iter=100; total time=  16.8s\n"
     ]
    },
    {
     "name": "stderr",
     "output_type": "stream",
     "text": [
      "/Users/admin/Downloads/anaconda/anaconda3/envs/my_environment_A5005da/lib/python3.12/site-packages/sklearn/utils/class_weight.py:81: FutureWarning: Calling float on a single element Series is deprecated and will raise a TypeError in the future. Use float(ser.iloc[0]) instead\n",
      "  weight[i] = class_weight[c]\n"
     ]
    },
    {
     "name": "stdout",
     "output_type": "stream",
     "text": [
      "[CV] END ...............................C=0.01, max_iter=300; total time=  28.2s\n"
     ]
    },
    {
     "name": "stderr",
     "output_type": "stream",
     "text": [
      "/Users/admin/Downloads/anaconda/anaconda3/envs/my_environment_A5005da/lib/python3.12/site-packages/sklearn/utils/class_weight.py:81: FutureWarning: Calling float on a single element Series is deprecated and will raise a TypeError in the future. Use float(ser.iloc[0]) instead\n",
      "  weight[i] = class_weight[c]\n",
      "/Users/admin/Downloads/anaconda/anaconda3/envs/my_environment_A5005da/lib/python3.12/site-packages/sklearn/utils/class_weight.py:81: FutureWarning: Calling float on a single element Series is deprecated and will raise a TypeError in the future. Use float(ser.iloc[0]) instead\n",
      "  weight[i] = class_weight[c]\n",
      "/Users/admin/Downloads/anaconda/anaconda3/envs/my_environment_A5005da/lib/python3.12/site-packages/sklearn/linear_model/_logistic.py:469: ConvergenceWarning: lbfgs failed to converge (status=1):\n",
      "STOP: TOTAL NO. of ITERATIONS REACHED LIMIT.\n",
      "\n",
      "Increase the number of iterations (max_iter) or scale the data as shown in:\n",
      "    https://scikit-learn.org/stable/modules/preprocessing.html\n",
      "Please also refer to the documentation for alternative solver options:\n",
      "    https://scikit-learn.org/stable/modules/linear_model.html#logistic-regression\n",
      "  n_iter_i = _check_optimize_result(\n"
     ]
    },
    {
     "name": "stdout",
     "output_type": "stream",
     "text": [
      "[CV] END ...............................C=0.01, max_iter=300; total time=  45.2s\n"
     ]
    },
    {
     "name": "stderr",
     "output_type": "stream",
     "text": [
      "/Users/admin/Downloads/anaconda/anaconda3/envs/my_environment_A5005da/lib/python3.12/site-packages/sklearn/utils/class_weight.py:81: FutureWarning: Calling float on a single element Series is deprecated and will raise a TypeError in the future. Use float(ser.iloc[0]) instead\n",
      "  weight[i] = class_weight[c]\n",
      "/Users/admin/Downloads/anaconda/anaconda3/envs/my_environment_A5005da/lib/python3.12/site-packages/sklearn/utils/class_weight.py:81: FutureWarning: Calling float on a single element Series is deprecated and will raise a TypeError in the future. Use float(ser.iloc[0]) instead\n",
      "  weight[i] = class_weight[c]\n",
      "/Users/admin/Downloads/anaconda/anaconda3/envs/my_environment_A5005da/lib/python3.12/site-packages/sklearn/linear_model/_logistic.py:469: ConvergenceWarning: lbfgs failed to converge (status=1):\n",
      "STOP: TOTAL NO. of ITERATIONS REACHED LIMIT.\n",
      "\n",
      "Increase the number of iterations (max_iter) or scale the data as shown in:\n",
      "    https://scikit-learn.org/stable/modules/preprocessing.html\n",
      "Please also refer to the documentation for alternative solver options:\n",
      "    https://scikit-learn.org/stable/modules/linear_model.html#logistic-regression\n",
      "  n_iter_i = _check_optimize_result(\n"
     ]
    },
    {
     "name": "stdout",
     "output_type": "stream",
     "text": [
      "[CV] END ................................C=0.1, max_iter=100; total time=  19.9s\n"
     ]
    },
    {
     "name": "stderr",
     "output_type": "stream",
     "text": [
      "/Users/admin/Downloads/anaconda/anaconda3/envs/my_environment_A5005da/lib/python3.12/site-packages/sklearn/utils/class_weight.py:81: FutureWarning: Calling float on a single element Series is deprecated and will raise a TypeError in the future. Use float(ser.iloc[0]) instead\n",
      "  weight[i] = class_weight[c]\n",
      "/Users/admin/Downloads/anaconda/anaconda3/envs/my_environment_A5005da/lib/python3.12/site-packages/sklearn/linear_model/_logistic.py:469: ConvergenceWarning: lbfgs failed to converge (status=1):\n",
      "STOP: TOTAL NO. of ITERATIONS REACHED LIMIT.\n",
      "\n",
      "Increase the number of iterations (max_iter) or scale the data as shown in:\n",
      "    https://scikit-learn.org/stable/modules/preprocessing.html\n",
      "Please also refer to the documentation for alternative solver options:\n",
      "    https://scikit-learn.org/stable/modules/linear_model.html#logistic-regression\n",
      "  n_iter_i = _check_optimize_result(\n"
     ]
    },
    {
     "name": "stdout",
     "output_type": "stream",
     "text": [
      "[CV] END ................................C=0.1, max_iter=100; total time=  18.3s\n"
     ]
    },
    {
     "name": "stderr",
     "output_type": "stream",
     "text": [
      "/Users/admin/Downloads/anaconda/anaconda3/envs/my_environment_A5005da/lib/python3.12/site-packages/sklearn/utils/class_weight.py:81: FutureWarning: Calling float on a single element Series is deprecated and will raise a TypeError in the future. Use float(ser.iloc[0]) instead\n",
      "  weight[i] = class_weight[c]\n"
     ]
    },
    {
     "name": "stdout",
     "output_type": "stream",
     "text": [
      "[CV] END ................................C=0.1, max_iter=200; total time=  26.2s\n",
      "[CV] END ................................C=0.1, max_iter=200; total time=  28.1s\n",
      "[CV] END ................................C=0.1, max_iter=200; total time=  26.9s\n",
      "[CV] END ................................C=0.1, max_iter=200; total time=  26.5s\n",
      "[CV] END ................................C=0.1, max_iter=200; total time=  29.3s\n"
     ]
    },
    {
     "name": "stderr",
     "output_type": "stream",
     "text": [
      "/Users/admin/Downloads/anaconda/anaconda3/envs/my_environment_A5005da/lib/python3.12/site-packages/sklearn/utils/class_weight.py:81: FutureWarning: Calling float on a single element Series is deprecated and will raise a TypeError in the future. Use float(ser.iloc[0]) instead\n",
      "  weight[i] = class_weight[c]\n",
      "/Users/admin/Downloads/anaconda/anaconda3/envs/my_environment_A5005da/lib/python3.12/site-packages/sklearn/utils/class_weight.py:81: FutureWarning: Calling float on a single element Series is deprecated and will raise a TypeError in the future. Use float(ser.iloc[0]) instead\n",
      "  weight[i] = class_weight[c]\n",
      "/Users/admin/Downloads/anaconda/anaconda3/envs/my_environment_A5005da/lib/python3.12/site-packages/sklearn/utils/class_weight.py:81: FutureWarning: Calling float on a single element Series is deprecated and will raise a TypeError in the future. Use float(ser.iloc[0]) instead\n",
      "  weight[i] = class_weight[c]\n",
      "/Users/admin/Downloads/anaconda/anaconda3/envs/my_environment_A5005da/lib/python3.12/site-packages/sklearn/utils/class_weight.py:81: FutureWarning: Calling float on a single element Series is deprecated and will raise a TypeError in the future. Use float(ser.iloc[0]) instead\n",
      "  weight[i] = class_weight[c]\n",
      "/Users/admin/Downloads/anaconda/anaconda3/envs/my_environment_A5005da/lib/python3.12/site-packages/sklearn/utils/class_weight.py:81: FutureWarning: Calling float on a single element Series is deprecated and will raise a TypeError in the future. Use float(ser.iloc[0]) instead\n",
      "  weight[i] = class_weight[c]\n"
     ]
    },
    {
     "name": "stdout",
     "output_type": "stream",
     "text": [
      "[CV] END ................................C=0.1, max_iter=300; total time=  27.8s\n"
     ]
    },
    {
     "name": "stderr",
     "output_type": "stream",
     "text": [
      "/Users/admin/Downloads/anaconda/anaconda3/envs/my_environment_A5005da/lib/python3.12/site-packages/sklearn/utils/class_weight.py:81: FutureWarning: Calling float on a single element Series is deprecated and will raise a TypeError in the future. Use float(ser.iloc[0]) instead\n",
      "  weight[i] = class_weight[c]\n"
     ]
    },
    {
     "name": "stdout",
     "output_type": "stream",
     "text": [
      "[CV] END ................................C=0.1, max_iter=300; total time=  25.0s\n"
     ]
    },
    {
     "name": "stderr",
     "output_type": "stream",
     "text": [
      "/Users/admin/Downloads/anaconda/anaconda3/envs/my_environment_A5005da/lib/python3.12/site-packages/sklearn/utils/class_weight.py:81: FutureWarning: Calling float on a single element Series is deprecated and will raise a TypeError in the future. Use float(ser.iloc[0]) instead\n",
      "  weight[i] = class_weight[c]\n"
     ]
    },
    {
     "name": "stdout",
     "output_type": "stream",
     "text": [
      "[CV] END ................................C=0.1, max_iter=300; total time=  28.8s\n"
     ]
    },
    {
     "name": "stderr",
     "output_type": "stream",
     "text": [
      "/Users/admin/Downloads/anaconda/anaconda3/envs/my_environment_A5005da/lib/python3.12/site-packages/sklearn/utils/class_weight.py:81: FutureWarning: Calling float on a single element Series is deprecated and will raise a TypeError in the future. Use float(ser.iloc[0]) instead\n",
      "  weight[i] = class_weight[c]\n",
      "/Users/admin/Downloads/anaconda/anaconda3/envs/my_environment_A5005da/lib/python3.12/site-packages/sklearn/linear_model/_logistic.py:469: ConvergenceWarning: lbfgs failed to converge (status=1):\n",
      "STOP: TOTAL NO. of ITERATIONS REACHED LIMIT.\n",
      "\n",
      "Increase the number of iterations (max_iter) or scale the data as shown in:\n",
      "    https://scikit-learn.org/stable/modules/preprocessing.html\n",
      "Please also refer to the documentation for alternative solver options:\n",
      "    https://scikit-learn.org/stable/modules/linear_model.html#logistic-regression\n",
      "  n_iter_i = _check_optimize_result(\n"
     ]
    },
    {
     "name": "stdout",
     "output_type": "stream",
     "text": [
      "[CV] END ..................................C=1, max_iter=100; total time=  14.7s\n"
     ]
    },
    {
     "name": "stderr",
     "output_type": "stream",
     "text": [
      "/Users/admin/Downloads/anaconda/anaconda3/envs/my_environment_A5005da/lib/python3.12/site-packages/sklearn/utils/class_weight.py:81: FutureWarning: Calling float on a single element Series is deprecated and will raise a TypeError in the future. Use float(ser.iloc[0]) instead\n",
      "  weight[i] = class_weight[c]\n",
      "/Users/admin/Downloads/anaconda/anaconda3/envs/my_environment_A5005da/lib/python3.12/site-packages/sklearn/linear_model/_logistic.py:469: ConvergenceWarning: lbfgs failed to converge (status=1):\n",
      "STOP: TOTAL NO. of ITERATIONS REACHED LIMIT.\n",
      "\n",
      "Increase the number of iterations (max_iter) or scale the data as shown in:\n",
      "    https://scikit-learn.org/stable/modules/preprocessing.html\n",
      "Please also refer to the documentation for alternative solver options:\n",
      "    https://scikit-learn.org/stable/modules/linear_model.html#logistic-regression\n",
      "  n_iter_i = _check_optimize_result(\n"
     ]
    },
    {
     "name": "stdout",
     "output_type": "stream",
     "text": [
      "[CV] END ..................................C=1, max_iter=100; total time=  15.4s\n"
     ]
    },
    {
     "name": "stderr",
     "output_type": "stream",
     "text": [
      "/Users/admin/Downloads/anaconda/anaconda3/envs/my_environment_A5005da/lib/python3.12/site-packages/sklearn/linear_model/_logistic.py:469: ConvergenceWarning: lbfgs failed to converge (status=1):\n",
      "STOP: TOTAL NO. of ITERATIONS REACHED LIMIT.\n",
      "\n",
      "Increase the number of iterations (max_iter) or scale the data as shown in:\n",
      "    https://scikit-learn.org/stable/modules/preprocessing.html\n",
      "Please also refer to the documentation for alternative solver options:\n",
      "    https://scikit-learn.org/stable/modules/linear_model.html#logistic-regression\n",
      "  n_iter_i = _check_optimize_result(\n"
     ]
    },
    {
     "name": "stdout",
     "output_type": "stream",
     "text": [
      "[CV] END ..................................C=1, max_iter=100; total time=  17.1s\n"
     ]
    },
    {
     "name": "stderr",
     "output_type": "stream",
     "text": [
      "/Users/admin/Downloads/anaconda/anaconda3/envs/my_environment_A5005da/lib/python3.12/site-packages/sklearn/utils/class_weight.py:81: FutureWarning: Calling float on a single element Series is deprecated and will raise a TypeError in the future. Use float(ser.iloc[0]) instead\n",
      "  weight[i] = class_weight[c]\n",
      "/Users/admin/Downloads/anaconda/anaconda3/envs/my_environment_A5005da/lib/python3.12/site-packages/sklearn/linear_model/_logistic.py:469: ConvergenceWarning: lbfgs failed to converge (status=1):\n",
      "STOP: TOTAL NO. of ITERATIONS REACHED LIMIT.\n",
      "\n",
      "Increase the number of iterations (max_iter) or scale the data as shown in:\n",
      "    https://scikit-learn.org/stable/modules/preprocessing.html\n",
      "Please also refer to the documentation for alternative solver options:\n",
      "    https://scikit-learn.org/stable/modules/linear_model.html#logistic-regression\n",
      "  n_iter_i = _check_optimize_result(\n"
     ]
    },
    {
     "name": "stdout",
     "output_type": "stream",
     "text": [
      "[CV] END ..................................C=1, max_iter=100; total time=  15.8s\n"
     ]
    },
    {
     "name": "stderr",
     "output_type": "stream",
     "text": [
      "/Users/admin/Downloads/anaconda/anaconda3/envs/my_environment_A5005da/lib/python3.12/site-packages/sklearn/utils/class_weight.py:81: FutureWarning: Calling float on a single element Series is deprecated and will raise a TypeError in the future. Use float(ser.iloc[0]) instead\n",
      "  weight[i] = class_weight[c]\n",
      "/Users/admin/Downloads/anaconda/anaconda3/envs/my_environment_A5005da/lib/python3.12/site-packages/sklearn/utils/class_weight.py:81: FutureWarning: Calling float on a single element Series is deprecated and will raise a TypeError in the future. Use float(ser.iloc[0]) instead\n",
      "  weight[i] = class_weight[c]\n"
     ]
    },
    {
     "name": "stdout",
     "output_type": "stream",
     "text": [
      "[CV] END ................................C=0.1, max_iter=300; total time=  22.6s\n",
      "[CV] END ................................C=0.1, max_iter=300; total time=  23.5s\n"
     ]
    },
    {
     "name": "stderr",
     "output_type": "stream",
     "text": [
      "/Users/admin/Downloads/anaconda/anaconda3/envs/my_environment_A5005da/lib/python3.12/site-packages/sklearn/utils/class_weight.py:81: FutureWarning: Calling float on a single element Series is deprecated and will raise a TypeError in the future. Use float(ser.iloc[0]) instead\n",
      "  weight[i] = class_weight[c]\n",
      "/Users/admin/Downloads/anaconda/anaconda3/envs/my_environment_A5005da/lib/python3.12/site-packages/sklearn/utils/class_weight.py:81: FutureWarning: Calling float on a single element Series is deprecated and will raise a TypeError in the future. Use float(ser.iloc[0]) instead\n",
      "  weight[i] = class_weight[c]\n",
      "/Users/admin/Downloads/anaconda/anaconda3/envs/my_environment_A5005da/lib/python3.12/site-packages/sklearn/linear_model/_logistic.py:469: ConvergenceWarning: lbfgs failed to converge (status=1):\n",
      "STOP: TOTAL NO. of ITERATIONS REACHED LIMIT.\n",
      "\n",
      "Increase the number of iterations (max_iter) or scale the data as shown in:\n",
      "    https://scikit-learn.org/stable/modules/preprocessing.html\n",
      "Please also refer to the documentation for alternative solver options:\n",
      "    https://scikit-learn.org/stable/modules/linear_model.html#logistic-regression\n",
      "  n_iter_i = _check_optimize_result(\n"
     ]
    },
    {
     "name": "stdout",
     "output_type": "stream",
     "text": [
      "[CV] END ..................................C=1, max_iter=100; total time=  16.2s\n"
     ]
    },
    {
     "name": "stderr",
     "output_type": "stream",
     "text": [
      "/Users/admin/Downloads/anaconda/anaconda3/envs/my_environment_A5005da/lib/python3.12/site-packages/sklearn/utils/class_weight.py:81: FutureWarning: Calling float on a single element Series is deprecated and will raise a TypeError in the future. Use float(ser.iloc[0]) instead\n",
      "  weight[i] = class_weight[c]\n"
     ]
    },
    {
     "name": "stdout",
     "output_type": "stream",
     "text": [
      "[CV] END ..................................C=1, max_iter=200; total time=  22.1s\n"
     ]
    },
    {
     "name": "stderr",
     "output_type": "stream",
     "text": [
      "/Users/admin/Downloads/anaconda/anaconda3/envs/my_environment_A5005da/lib/python3.12/site-packages/sklearn/utils/class_weight.py:81: FutureWarning: Calling float on a single element Series is deprecated and will raise a TypeError in the future. Use float(ser.iloc[0]) instead\n",
      "  weight[i] = class_weight[c]\n"
     ]
    },
    {
     "name": "stdout",
     "output_type": "stream",
     "text": [
      "[CV] END ..................................C=1, max_iter=200; total time=  22.0s\n"
     ]
    },
    {
     "name": "stderr",
     "output_type": "stream",
     "text": [
      "/Users/admin/Downloads/anaconda/anaconda3/envs/my_environment_A5005da/lib/python3.12/site-packages/sklearn/utils/class_weight.py:81: FutureWarning: Calling float on a single element Series is deprecated and will raise a TypeError in the future. Use float(ser.iloc[0]) instead\n",
      "  weight[i] = class_weight[c]\n",
      "/Users/admin/Downloads/anaconda/anaconda3/envs/my_environment_A5005da/lib/python3.12/site-packages/sklearn/linear_model/_logistic.py:469: ConvergenceWarning: lbfgs failed to converge (status=1):\n",
      "STOP: TOTAL NO. of ITERATIONS REACHED LIMIT.\n",
      "\n",
      "Increase the number of iterations (max_iter) or scale the data as shown in:\n",
      "    https://scikit-learn.org/stable/modules/preprocessing.html\n",
      "Please also refer to the documentation for alternative solver options:\n",
      "    https://scikit-learn.org/stable/modules/linear_model.html#logistic-regression\n",
      "  n_iter_i = _check_optimize_result(\n"
     ]
    },
    {
     "name": "stdout",
     "output_type": "stream",
     "text": [
      "[CV] END ..................................C=1, max_iter=200; total time=  28.2s\n",
      "[CV] END ..................................C=1, max_iter=200; total time=  26.1s\n"
     ]
    },
    {
     "name": "stderr",
     "output_type": "stream",
     "text": [
      "/Users/admin/Downloads/anaconda/anaconda3/envs/my_environment_A5005da/lib/python3.12/site-packages/sklearn/utils/class_weight.py:81: FutureWarning: Calling float on a single element Series is deprecated and will raise a TypeError in the future. Use float(ser.iloc[0]) instead\n",
      "  weight[i] = class_weight[c]\n"
     ]
    },
    {
     "name": "stdout",
     "output_type": "stream",
     "text": [
      "[CV] END ..................................C=1, max_iter=300; total time=  21.9s\n"
     ]
    },
    {
     "name": "stderr",
     "output_type": "stream",
     "text": [
      "/Users/admin/Downloads/anaconda/anaconda3/envs/my_environment_A5005da/lib/python3.12/site-packages/sklearn/utils/class_weight.py:81: FutureWarning: Calling float on a single element Series is deprecated and will raise a TypeError in the future. Use float(ser.iloc[0]) instead\n",
      "  weight[i] = class_weight[c]\n",
      "/Users/admin/Downloads/anaconda/anaconda3/envs/my_environment_A5005da/lib/python3.12/site-packages/sklearn/utils/class_weight.py:81: FutureWarning: Calling float on a single element Series is deprecated and will raise a TypeError in the future. Use float(ser.iloc[0]) instead\n",
      "  weight[i] = class_weight[c]\n",
      "/Users/admin/Downloads/anaconda/anaconda3/envs/my_environment_A5005da/lib/python3.12/site-packages/sklearn/linear_model/_logistic.py:469: ConvergenceWarning: lbfgs failed to converge (status=1):\n",
      "STOP: TOTAL NO. of ITERATIONS REACHED LIMIT.\n",
      "\n",
      "Increase the number of iterations (max_iter) or scale the data as shown in:\n",
      "    https://scikit-learn.org/stable/modules/preprocessing.html\n",
      "Please also refer to the documentation for alternative solver options:\n",
      "    https://scikit-learn.org/stable/modules/linear_model.html#logistic-regression\n",
      "  n_iter_i = _check_optimize_result(\n"
     ]
    },
    {
     "name": "stdout",
     "output_type": "stream",
     "text": [
      "[CV] END ..................................C=1, max_iter=200; total time=  28.9s\n"
     ]
    },
    {
     "name": "stderr",
     "output_type": "stream",
     "text": [
      "/Users/admin/Downloads/anaconda/anaconda3/envs/my_environment_A5005da/lib/python3.12/site-packages/sklearn/utils/class_weight.py:81: FutureWarning: Calling float on a single element Series is deprecated and will raise a TypeError in the future. Use float(ser.iloc[0]) instead\n",
      "  weight[i] = class_weight[c]\n"
     ]
    },
    {
     "name": "stdout",
     "output_type": "stream",
     "text": [
      "[CV] END ..................................C=1, max_iter=300; total time=  23.0s\n"
     ]
    },
    {
     "name": "stderr",
     "output_type": "stream",
     "text": [
      "/Users/admin/Downloads/anaconda/anaconda3/envs/my_environment_A5005da/lib/python3.12/site-packages/sklearn/utils/class_weight.py:81: FutureWarning: Calling float on a single element Series is deprecated and will raise a TypeError in the future. Use float(ser.iloc[0]) instead\n",
      "  weight[i] = class_weight[c]\n",
      "/Users/admin/Downloads/anaconda/anaconda3/envs/my_environment_A5005da/lib/python3.12/site-packages/sklearn/linear_model/_logistic.py:469: ConvergenceWarning: lbfgs failed to converge (status=1):\n",
      "STOP: TOTAL NO. of ITERATIONS REACHED LIMIT.\n",
      "\n",
      "Increase the number of iterations (max_iter) or scale the data as shown in:\n",
      "    https://scikit-learn.org/stable/modules/preprocessing.html\n",
      "Please also refer to the documentation for alternative solver options:\n",
      "    https://scikit-learn.org/stable/modules/linear_model.html#logistic-regression\n",
      "  n_iter_i = _check_optimize_result(\n"
     ]
    },
    {
     "name": "stdout",
     "output_type": "stream",
     "text": [
      "[CV] END .................................C=10, max_iter=100; total time=  15.0s\n",
      "[CV] END ..................................C=1, max_iter=300; total time=  26.6s\n"
     ]
    },
    {
     "name": "stderr",
     "output_type": "stream",
     "text": [
      "/Users/admin/Downloads/anaconda/anaconda3/envs/my_environment_A5005da/lib/python3.12/site-packages/sklearn/utils/class_weight.py:81: FutureWarning: Calling float on a single element Series is deprecated and will raise a TypeError in the future. Use float(ser.iloc[0]) instead\n",
      "  weight[i] = class_weight[c]\n",
      "/Users/admin/Downloads/anaconda/anaconda3/envs/my_environment_A5005da/lib/python3.12/site-packages/sklearn/linear_model/_logistic.py:469: ConvergenceWarning: lbfgs failed to converge (status=1):\n",
      "STOP: TOTAL NO. of ITERATIONS REACHED LIMIT.\n",
      "\n",
      "Increase the number of iterations (max_iter) or scale the data as shown in:\n",
      "    https://scikit-learn.org/stable/modules/preprocessing.html\n",
      "Please also refer to the documentation for alternative solver options:\n",
      "    https://scikit-learn.org/stable/modules/linear_model.html#logistic-regression\n",
      "  n_iter_i = _check_optimize_result(\n"
     ]
    },
    {
     "name": "stdout",
     "output_type": "stream",
     "text": [
      "[CV] END .................................C=10, max_iter=100; total time=  14.9s\n"
     ]
    },
    {
     "name": "stderr",
     "output_type": "stream",
     "text": [
      "/Users/admin/Downloads/anaconda/anaconda3/envs/my_environment_A5005da/lib/python3.12/site-packages/sklearn/utils/class_weight.py:81: FutureWarning: Calling float on a single element Series is deprecated and will raise a TypeError in the future. Use float(ser.iloc[0]) instead\n",
      "  weight[i] = class_weight[c]\n",
      "/Users/admin/Downloads/anaconda/anaconda3/envs/my_environment_A5005da/lib/python3.12/site-packages/sklearn/utils/class_weight.py:81: FutureWarning: Calling float on a single element Series is deprecated and will raise a TypeError in the future. Use float(ser.iloc[0]) instead\n",
      "  weight[i] = class_weight[c]\n",
      "/Users/admin/Downloads/anaconda/anaconda3/envs/my_environment_A5005da/lib/python3.12/site-packages/sklearn/linear_model/_logistic.py:469: ConvergenceWarning: lbfgs failed to converge (status=1):\n",
      "STOP: TOTAL NO. of ITERATIONS REACHED LIMIT.\n",
      "\n",
      "Increase the number of iterations (max_iter) or scale the data as shown in:\n",
      "    https://scikit-learn.org/stable/modules/preprocessing.html\n",
      "Please also refer to the documentation for alternative solver options:\n",
      "    https://scikit-learn.org/stable/modules/linear_model.html#logistic-regression\n",
      "  n_iter_i = _check_optimize_result(\n"
     ]
    },
    {
     "name": "stdout",
     "output_type": "stream",
     "text": [
      "[CV] END .................................C=10, max_iter=100; total time=  17.7s\n"
     ]
    },
    {
     "name": "stderr",
     "output_type": "stream",
     "text": [
      "/Users/admin/Downloads/anaconda/anaconda3/envs/my_environment_A5005da/lib/python3.12/site-packages/sklearn/utils/class_weight.py:81: FutureWarning: Calling float on a single element Series is deprecated and will raise a TypeError in the future. Use float(ser.iloc[0]) instead\n",
      "  weight[i] = class_weight[c]\n",
      "/Users/admin/Downloads/anaconda/anaconda3/envs/my_environment_A5005da/lib/python3.12/site-packages/sklearn/linear_model/_logistic.py:469: ConvergenceWarning: lbfgs failed to converge (status=1):\n",
      "STOP: TOTAL NO. of ITERATIONS REACHED LIMIT.\n",
      "\n",
      "Increase the number of iterations (max_iter) or scale the data as shown in:\n",
      "    https://scikit-learn.org/stable/modules/preprocessing.html\n",
      "Please also refer to the documentation for alternative solver options:\n",
      "    https://scikit-learn.org/stable/modules/linear_model.html#logistic-regression\n",
      "  n_iter_i = _check_optimize_result(\n",
      "/Users/admin/Downloads/anaconda/anaconda3/envs/my_environment_A5005da/lib/python3.12/site-packages/sklearn/linear_model/_logistic.py:469: ConvergenceWarning: lbfgs failed to converge (status=1):\n",
      "STOP: TOTAL NO. of ITERATIONS REACHED LIMIT.\n",
      "\n",
      "Increase the number of iterations (max_iter) or scale the data as shown in:\n",
      "    https://scikit-learn.org/stable/modules/preprocessing.html\n",
      "Please also refer to the documentation for alternative solver options:\n",
      "    https://scikit-learn.org/stable/modules/linear_model.html#logistic-regression\n",
      "  n_iter_i = _check_optimize_result(\n"
     ]
    },
    {
     "name": "stdout",
     "output_type": "stream",
     "text": [
      "[CV] END .................................C=10, max_iter=100; total time=  17.3s\n",
      "[CV] END .................................C=10, max_iter=100; total time=  16.4s\n"
     ]
    },
    {
     "name": "stderr",
     "output_type": "stream",
     "text": [
      "/Users/admin/Downloads/anaconda/anaconda3/envs/my_environment_A5005da/lib/python3.12/site-packages/sklearn/utils/class_weight.py:81: FutureWarning: Calling float on a single element Series is deprecated and will raise a TypeError in the future. Use float(ser.iloc[0]) instead\n",
      "  weight[i] = class_weight[c]\n",
      "/Users/admin/Downloads/anaconda/anaconda3/envs/my_environment_A5005da/lib/python3.12/site-packages/sklearn/utils/class_weight.py:81: FutureWarning: Calling float on a single element Series is deprecated and will raise a TypeError in the future. Use float(ser.iloc[0]) instead\n",
      "  weight[i] = class_weight[c]\n",
      "/Users/admin/Downloads/anaconda/anaconda3/envs/my_environment_A5005da/lib/python3.12/site-packages/sklearn/linear_model/_logistic.py:469: ConvergenceWarning: lbfgs failed to converge (status=1):\n",
      "STOP: TOTAL NO. of ITERATIONS REACHED LIMIT.\n",
      "\n",
      "Increase the number of iterations (max_iter) or scale the data as shown in:\n",
      "    https://scikit-learn.org/stable/modules/preprocessing.html\n",
      "Please also refer to the documentation for alternative solver options:\n",
      "    https://scikit-learn.org/stable/modules/linear_model.html#logistic-regression\n",
      "  n_iter_i = _check_optimize_result(\n"
     ]
    },
    {
     "name": "stdout",
     "output_type": "stream",
     "text": [
      "[CV] END ..................................C=1, max_iter=300; total time=  43.0s\n"
     ]
    },
    {
     "name": "stderr",
     "output_type": "stream",
     "text": [
      "/Users/admin/Downloads/anaconda/anaconda3/envs/my_environment_A5005da/lib/python3.12/site-packages/sklearn/utils/class_weight.py:81: FutureWarning: Calling float on a single element Series is deprecated and will raise a TypeError in the future. Use float(ser.iloc[0]) instead\n",
      "  weight[i] = class_weight[c]\n"
     ]
    },
    {
     "name": "stdout",
     "output_type": "stream",
     "text": [
      "[CV] END ..................................C=1, max_iter=300; total time=  36.8s\n"
     ]
    },
    {
     "name": "stderr",
     "output_type": "stream",
     "text": [
      "/Users/admin/Downloads/anaconda/anaconda3/envs/my_environment_A5005da/lib/python3.12/site-packages/sklearn/utils/class_weight.py:81: FutureWarning: Calling float on a single element Series is deprecated and will raise a TypeError in the future. Use float(ser.iloc[0]) instead\n",
      "  weight[i] = class_weight[c]\n"
     ]
    },
    {
     "name": "stdout",
     "output_type": "stream",
     "text": [
      "[CV] END .................................C=10, max_iter=200; total time=  21.3s\n",
      "[CV] END .................................C=10, max_iter=200; total time=  20.1s\n"
     ]
    },
    {
     "name": "stderr",
     "output_type": "stream",
     "text": [
      "/Users/admin/Downloads/anaconda/anaconda3/envs/my_environment_A5005da/lib/python3.12/site-packages/sklearn/utils/class_weight.py:81: FutureWarning: Calling float on a single element Series is deprecated and will raise a TypeError in the future. Use float(ser.iloc[0]) instead\n",
      "  weight[i] = class_weight[c]\n",
      "/Users/admin/Downloads/anaconda/anaconda3/envs/my_environment_A5005da/lib/python3.12/site-packages/sklearn/utils/class_weight.py:81: FutureWarning: Calling float on a single element Series is deprecated and will raise a TypeError in the future. Use float(ser.iloc[0]) instead\n",
      "  weight[i] = class_weight[c]\n"
     ]
    },
    {
     "name": "stdout",
     "output_type": "stream",
     "text": [
      "[CV] END .................................C=10, max_iter=200; total time=  22.7s\n",
      "[CV] END .................................C=10, max_iter=200; total time=  22.4s\n",
      "[CV] END .................................C=10, max_iter=200; total time=  19.9s\n",
      "[CV] END .................................C=10, max_iter=300; total time=  19.9s\n",
      "[CV] END .................................C=10, max_iter=300; total time=  19.7s\n",
      "[CV] END .................................C=10, max_iter=300; total time=  13.2s\n",
      "[CV] END .................................C=10, max_iter=300; total time=  11.2s\n",
      "[CV] END .................................C=10, max_iter=300; total time=  12.2s\n"
     ]
    },
    {
     "name": "stderr",
     "output_type": "stream",
     "text": [
      "/Users/admin/Downloads/anaconda/anaconda3/envs/my_environment_A5005da/lib/python3.12/site-packages/sklearn/utils/class_weight.py:81: FutureWarning: Calling float on a single element Series is deprecated and will raise a TypeError in the future. Use float(ser.iloc[0]) instead\n",
      "  weight[i] = class_weight[c]\n"
     ]
    },
    {
     "name": "stdout",
     "output_type": "stream",
     "text": [
      "Fitting 5 folds for each of 46 candidates, totalling 230 fits\n",
      "[CV] END ....................n_neighbors=5, weights=distance; total time=  17.8s\n",
      "[CV] END ....................n_neighbors=5, weights=distance; total time=  17.9s\n",
      "[CV] END ....................n_neighbors=5, weights=distance; total time=  17.9s\n",
      "[CV] END ....................n_neighbors=5, weights=distance; total time=  10.0s\n",
      "[CV] END ....................n_neighbors=5, weights=distance; total time=  10.6s\n",
      "[CV] END .....................n_neighbors=5, weights=uniform; total time=  41.4s\n",
      "[CV] END .....................n_neighbors=5, weights=uniform; total time=  41.5s\n",
      "[CV] END .....................n_neighbors=5, weights=uniform; total time=  41.6s\n",
      "[CV] END .....................n_neighbors=5, weights=uniform; total time=  41.6s\n",
      "[CV] END .....................n_neighbors=5, weights=uniform; total time=  41.6s\n",
      "[CV] END .....................n_neighbors=7, weights=uniform; total time=  32.3s\n",
      "[CV] END ....................n_neighbors=7, weights=distance; total time=  12.0s\n",
      "[CV] END ....................n_neighbors=7, weights=distance; total time=  12.0s\n",
      "[CV] END ....................n_neighbors=7, weights=distance; total time=  12.1s\n",
      "[CV] END .....................n_neighbors=7, weights=uniform; total time=  29.9s\n",
      "[CV] END .....................n_neighbors=7, weights=uniform; total time=  31.4s\n",
      "[CV] END ....................n_neighbors=7, weights=distance; total time=  10.7s\n",
      "[CV] END ....................n_neighbors=7, weights=distance; total time=  11.1s\n",
      "[CV] END ....................n_neighbors=9, weights=distance; total time=  11.1s\n",
      "[CV] END .....................n_neighbors=7, weights=uniform; total time=  39.7s\n",
      "[CV] END .....................n_neighbors=7, weights=uniform; total time=  40.2s\n",
      "[CV] END ....................n_neighbors=9, weights=distance; total time=   7.9s\n",
      "[CV] END ....................n_neighbors=9, weights=distance; total time=   7.6s\n",
      "[CV] END .....................n_neighbors=9, weights=uniform; total time=  36.9s\n",
      "[CV] END ....................n_neighbors=9, weights=distance; total time=   7.4s\n",
      "[CV] END .....................n_neighbors=9, weights=uniform; total time=  36.9s\n",
      "[CV] END .....................n_neighbors=9, weights=uniform; total time=  36.9s\n",
      "[CV] END ....................n_neighbors=9, weights=distance; total time=   8.4s\n",
      "[CV] END .....................n_neighbors=9, weights=uniform; total time=  35.7s\n",
      "[CV] END .....................n_neighbors=9, weights=uniform; total time=  34.8s\n",
      "[CV] END ...................n_neighbors=11, weights=distance; total time=  17.7s\n",
      "[CV] END ...................n_neighbors=11, weights=distance; total time=  17.7s\n",
      "[CV] END ...................n_neighbors=11, weights=distance; total time=  17.5s\n",
      "[CV] END ...................n_neighbors=11, weights=distance; total time=   8.9s\n",
      "[CV] END ...................n_neighbors=11, weights=distance; total time=   9.4s\n",
      "[CV] END ....................n_neighbors=11, weights=uniform; total time=  40.2s\n",
      "[CV] END ....................n_neighbors=11, weights=uniform; total time=  40.6s\n",
      "[CV] END ....................n_neighbors=11, weights=uniform; total time=  40.6s\n",
      "[CV] END ....................n_neighbors=11, weights=uniform; total time=  40.8s\n",
      "[CV] END ....................n_neighbors=11, weights=uniform; total time=  38.9s\n",
      "[CV] END ...................n_neighbors=13, weights=distance; total time=  12.4s\n",
      "[CV] END ...................n_neighbors=13, weights=distance; total time=  12.7s\n",
      "[CV] END ...................n_neighbors=13, weights=distance; total time=  13.7s\n",
      "[CV] END ....................n_neighbors=13, weights=uniform; total time=  34.3s\n",
      "[CV] END ...................n_neighbors=13, weights=distance; total time=  10.0s\n",
      "[CV] END ...................n_neighbors=13, weights=distance; total time=   9.6s\n",
      "[CV] END ....................n_neighbors=13, weights=uniform; total time=  34.6s\n",
      "[CV] END ....................n_neighbors=13, weights=uniform; total time=  34.6s\n",
      "[CV] END ....................n_neighbors=13, weights=uniform; total time=  40.3s\n",
      "[CV] END ...................n_neighbors=15, weights=distance; total time=  13.4s\n",
      "[CV] END ....................n_neighbors=13, weights=uniform; total time=  40.5s\n",
      "[CV] END ...................n_neighbors=15, weights=distance; total time=   9.5s\n",
      "[CV] END ...................n_neighbors=15, weights=distance; total time=   9.9s\n",
      "[CV] END ...................n_neighbors=15, weights=distance; total time=  10.7s\n",
      "[CV] END ....................n_neighbors=15, weights=uniform; total time=  41.0s\n",
      "[CV] END ....................n_neighbors=15, weights=uniform; total time=  41.6s\n",
      "[CV] END ...................n_neighbors=15, weights=distance; total time=  11.5s\n",
      "[CV] END ....................n_neighbors=15, weights=uniform; total time=  40.6s\n",
      "[CV] END ....................n_neighbors=15, weights=uniform; total time=  40.7s\n",
      "[CV] END ....................n_neighbors=15, weights=uniform; total time=  42.0s\n",
      "[CV] END ...................n_neighbors=17, weights=distance; total time=  17.8s\n",
      "[CV] END ...................n_neighbors=17, weights=distance; total time=  18.1s\n",
      "[CV] END ...................n_neighbors=17, weights=distance; total time=  14.3s\n",
      "[CV] END ...................n_neighbors=17, weights=distance; total time=  10.0s\n",
      "[CV] END ...................n_neighbors=17, weights=distance; total time=  10.0s\n",
      "[CV] END ....................n_neighbors=17, weights=uniform; total time=  44.2s\n",
      "[CV] END ....................n_neighbors=17, weights=uniform; total time=  43.7s\n",
      "[CV] END ....................n_neighbors=17, weights=uniform; total time=  43.2s\n",
      "[CV] END ....................n_neighbors=17, weights=uniform; total time=  43.3s\n",
      "[CV] END ....................n_neighbors=17, weights=uniform; total time=  42.9s\n",
      "[CV] END ...................n_neighbors=19, weights=distance; total time=  12.0s\n",
      "[CV] END ...................n_neighbors=19, weights=distance; total time=  11.6s\n",
      "[CV] END ...................n_neighbors=19, weights=distance; total time=  10.9s\n",
      "[CV] END ....................n_neighbors=19, weights=uniform; total time=  37.5s\n",
      "[CV] END ...................n_neighbors=19, weights=distance; total time=   9.5s\n",
      "[CV] END ...................n_neighbors=19, weights=distance; total time=  10.2s\n",
      "[CV] END ....................n_neighbors=19, weights=uniform; total time=  36.0s\n",
      "[CV] END ....................n_neighbors=19, weights=uniform; total time=  36.6s\n",
      "[CV] END ....................n_neighbors=19, weights=uniform; total time=  38.7s\n",
      "[CV] END ....................n_neighbors=19, weights=uniform; total time=  40.1s\n",
      "[CV] END ...................n_neighbors=21, weights=distance; total time=  14.1s\n",
      "[CV] END ...................n_neighbors=21, weights=distance; total time=  13.0s\n",
      "[CV] END ...................n_neighbors=21, weights=distance; total time=  11.8s\n",
      "[CV] END ...................n_neighbors=21, weights=distance; total time=  10.1s\n",
      "[CV] END ....................n_neighbors=21, weights=uniform; total time=  39.5s\n",
      "[CV] END ...................n_neighbors=21, weights=distance; total time=  10.1s\n",
      "[CV] END ....................n_neighbors=21, weights=uniform; total time=  40.2s\n",
      "[CV] END ....................n_neighbors=21, weights=uniform; total time=  39.6s\n",
      "[CV] END ....................n_neighbors=21, weights=uniform; total time=  40.7s\n",
      "[CV] END ....................n_neighbors=21, weights=uniform; total time=  41.3s\n",
      "[CV] END ...................n_neighbors=23, weights=distance; total time=  12.4s\n",
      "[CV] END ...................n_neighbors=23, weights=distance; total time=  11.9s\n",
      "[CV] END ...................n_neighbors=23, weights=distance; total time=  11.8s\n",
      "[CV] END ...................n_neighbors=23, weights=distance; total time=  10.5s\n",
      "[CV] END ....................n_neighbors=23, weights=uniform; total time=  40.1s\n",
      "[CV] END ...................n_neighbors=23, weights=distance; total time=  11.0s\n",
      "[CV] END ....................n_neighbors=23, weights=uniform; total time=  40.3s\n",
      "[CV] END ....................n_neighbors=23, weights=uniform; total time=  39.2s\n",
      "[CV] END ....................n_neighbors=23, weights=uniform; total time=  41.5s\n",
      "[CV] END ....................n_neighbors=23, weights=uniform; total time=  42.7s\n",
      "[CV] END ...................n_neighbors=25, weights=distance; total time=  15.4s\n",
      "[CV] END ...................n_neighbors=25, weights=distance; total time=  13.2s\n",
      "[CV] END ...................n_neighbors=25, weights=distance; total time=  11.0s\n",
      "[CV] END ...................n_neighbors=25, weights=distance; total time=  11.7s\n",
      "[CV] END ...................n_neighbors=25, weights=distance; total time=  12.9s\n",
      "[CV] END ....................n_neighbors=25, weights=uniform; total time=  43.8s\n",
      "[CV] END ....................n_neighbors=25, weights=uniform; total time=  43.2s\n",
      "[CV] END ....................n_neighbors=25, weights=uniform; total time=  44.2s\n",
      "[CV] END ....................n_neighbors=25, weights=uniform; total time=  44.6s\n",
      "[CV] END ....................n_neighbors=25, weights=uniform; total time=  45.9s\n",
      "[CV] END ...................n_neighbors=27, weights=distance; total time=  14.0s\n",
      "[CV] END ...................n_neighbors=27, weights=distance; total time=  14.3s\n",
      "[CV] END ...................n_neighbors=27, weights=distance; total time=  12.4s\n",
      "[CV] END ...................n_neighbors=27, weights=distance; total time=  10.4s\n",
      "[CV] END ...................n_neighbors=27, weights=distance; total time=  10.4s\n",
      "[CV] END ....................n_neighbors=27, weights=uniform; total time=  43.6s\n",
      "[CV] END ....................n_neighbors=27, weights=uniform; total time=  40.7s\n",
      "[CV] END ....................n_neighbors=27, weights=uniform; total time=  40.9s\n",
      "[CV] END ....................n_neighbors=27, weights=uniform; total time=  41.8s\n",
      "[CV] END ....................n_neighbors=27, weights=uniform; total time=  43.2s\n",
      "[CV] END ...................n_neighbors=29, weights=distance; total time=  16.2s\n",
      "[CV] END ...................n_neighbors=29, weights=distance; total time=  15.6s\n",
      "[CV] END ...................n_neighbors=29, weights=distance; total time=  12.3s\n",
      "[CV] END ...................n_neighbors=29, weights=distance; total time=  10.1s\n",
      "[CV] END ...................n_neighbors=29, weights=distance; total time=  10.3s\n",
      "[CV] END ....................n_neighbors=29, weights=uniform; total time=  42.2s\n",
      "[CV] END ....................n_neighbors=29, weights=uniform; total time=  40.6s\n",
      "[CV] END ....................n_neighbors=29, weights=uniform; total time=  41.1s\n",
      "[CV] END ....................n_neighbors=29, weights=uniform; total time=  41.5s\n",
      "[CV] END ....................n_neighbors=29, weights=uniform; total time=  42.3s\n",
      "[CV] END ...................n_neighbors=31, weights=distance; total time=  17.6s\n",
      "[CV] END ...................n_neighbors=31, weights=distance; total time=  17.4s\n",
      "[CV] END ...................n_neighbors=31, weights=distance; total time=  15.2s\n",
      "[CV] END ....................n_neighbors=31, weights=uniform; total time=  43.2s\n",
      "[CV] END ...................n_neighbors=31, weights=distance; total time=  11.2s\n",
      "[CV] END ...................n_neighbors=31, weights=distance; total time=  11.0s\n",
      "[CV] END ....................n_neighbors=31, weights=uniform; total time=  40.6s\n",
      "[CV] END ....................n_neighbors=31, weights=uniform; total time=  40.3s\n",
      "[CV] END ....................n_neighbors=31, weights=uniform; total time=  42.5s\n",
      "[CV] END ....................n_neighbors=31, weights=uniform; total time=  44.4s\n",
      "[CV] END ...................n_neighbors=33, weights=distance; total time=  16.0s\n",
      "[CV] END ...................n_neighbors=33, weights=distance; total time=  14.7s\n",
      "[CV] END ...................n_neighbors=33, weights=distance; total time=  13.1s\n",
      "[CV] END ....................n_neighbors=33, weights=uniform; total time=  42.1s\n",
      "[CV] END ...................n_neighbors=33, weights=distance; total time=  12.3s\n",
      "[CV] END ...................n_neighbors=33, weights=distance; total time=  12.2s\n",
      "[CV] END ....................n_neighbors=33, weights=uniform; total time=  41.3s\n",
      "[CV] END ....................n_neighbors=33, weights=uniform; total time=  41.5s\n",
      "[CV] END ....................n_neighbors=33, weights=uniform; total time=  42.5s\n",
      "[CV] END ....................n_neighbors=33, weights=uniform; total time=  44.8s\n",
      "[CV] END ...................n_neighbors=35, weights=distance; total time=  15.7s\n",
      "[CV] END ...................n_neighbors=35, weights=distance; total time=  15.1s\n",
      "[CV] END ...................n_neighbors=35, weights=distance; total time=  13.6s\n",
      "[CV] END ...................n_neighbors=35, weights=distance; total time=  11.8s\n",
      "[CV] END ....................n_neighbors=35, weights=uniform; total time=  42.8s\n",
      "[CV] END ...................n_neighbors=35, weights=distance; total time=  12.0s\n",
      "[CV] END ....................n_neighbors=35, weights=uniform; total time=  41.9s\n",
      "[CV] END ....................n_neighbors=35, weights=uniform; total time=  42.5s\n",
      "[CV] END ....................n_neighbors=35, weights=uniform; total time=  44.9s\n",
      "[CV] END ....................n_neighbors=35, weights=uniform; total time=  46.2s\n",
      "[CV] END ...................n_neighbors=37, weights=distance; total time=  18.3s\n",
      "[CV] END ...................n_neighbors=37, weights=distance; total time=  16.3s\n",
      "[CV] END ...................n_neighbors=37, weights=distance; total time=  13.3s\n",
      "[CV] END ...................n_neighbors=37, weights=distance; total time=  12.0s\n",
      "[CV] END ....................n_neighbors=37, weights=uniform; total time=  45.6s\n",
      "[CV] END ...................n_neighbors=37, weights=distance; total time=  11.8s\n",
      "[CV] END ....................n_neighbors=37, weights=uniform; total time=  43.9s\n",
      "[CV] END ....................n_neighbors=37, weights=uniform; total time=  44.3s\n",
      "[CV] END ....................n_neighbors=37, weights=uniform; total time=  45.1s\n",
      "[CV] END ....................n_neighbors=37, weights=uniform; total time=  46.0s\n",
      "[CV] END ...................n_neighbors=39, weights=distance; total time=  17.2s\n",
      "[CV] END ...................n_neighbors=39, weights=distance; total time=  16.8s\n",
      "[CV] END ...................n_neighbors=39, weights=distance; total time=  14.3s\n",
      "[CV] END ...................n_neighbors=39, weights=distance; total time=  11.1s\n",
      "[CV] END ....................n_neighbors=39, weights=uniform; total time=  42.5s\n",
      "[CV] END ...................n_neighbors=39, weights=distance; total time=  11.0s\n",
      "[CV] END ....................n_neighbors=39, weights=uniform; total time=  40.8s\n",
      "[CV] END ....................n_neighbors=39, weights=uniform; total time=  41.4s\n",
      "[CV] END ....................n_neighbors=39, weights=uniform; total time=  43.1s\n",
      "[CV] END ....................n_neighbors=39, weights=uniform; total time=  45.3s\n",
      "[CV] END ...................n_neighbors=41, weights=distance; total time=  17.2s\n",
      "[CV] END ...................n_neighbors=41, weights=distance; total time=  16.4s\n",
      "[CV] END ...................n_neighbors=41, weights=distance; total time=  13.0s\n",
      "[CV] END ....................n_neighbors=41, weights=uniform; total time=  43.1s\n",
      "[CV] END ...................n_neighbors=41, weights=distance; total time=  12.0s\n",
      "[CV] END ...................n_neighbors=41, weights=distance; total time=  12.0s\n",
      "[CV] END ....................n_neighbors=41, weights=uniform; total time=  41.6s\n",
      "[CV] END ....................n_neighbors=41, weights=uniform; total time=  41.9s\n",
      "[CV] END ....................n_neighbors=41, weights=uniform; total time=  42.5s\n",
      "[CV] END ....................n_neighbors=41, weights=uniform; total time=  46.8s\n",
      "[CV] END ...................n_neighbors=43, weights=distance; total time=  19.2s\n",
      "[CV] END ...................n_neighbors=43, weights=distance; total time=  18.7s\n",
      "[CV] END ...................n_neighbors=43, weights=distance; total time=  14.5s\n",
      "[CV] END ...................n_neighbors=43, weights=distance; total time=  11.5s\n",
      "[CV] END ....................n_neighbors=43, weights=uniform; total time=  44.7s\n",
      "[CV] END ...................n_neighbors=43, weights=distance; total time=  11.5s\n",
      "[CV] END ....................n_neighbors=43, weights=uniform; total time=  42.0s\n",
      "[CV] END ....................n_neighbors=43, weights=uniform; total time=  43.1s\n",
      "[CV] END ....................n_neighbors=43, weights=uniform; total time=  44.4s\n",
      "[CV] END ....................n_neighbors=43, weights=uniform; total time=  46.0s\n",
      "[CV] END ...................n_neighbors=45, weights=distance; total time=  18.5s\n",
      "[CV] END ...................n_neighbors=45, weights=distance; total time=  17.2s\n",
      "[CV] END ...................n_neighbors=45, weights=distance; total time=  14.5s\n",
      "[CV] END ....................n_neighbors=45, weights=uniform; total time=  43.9s\n",
      "[CV] END ...................n_neighbors=45, weights=distance; total time=  12.4s\n",
      "[CV] END ...................n_neighbors=45, weights=distance; total time=  12.2s\n",
      "[CV] END ....................n_neighbors=45, weights=uniform; total time=  41.9s\n",
      "[CV] END ....................n_neighbors=45, weights=uniform; total time=  42.1s\n",
      "[CV] END ....................n_neighbors=45, weights=uniform; total time=  42.6s\n",
      "[CV] END ....................n_neighbors=45, weights=uniform; total time=  46.1s\n",
      "[CV] END ...................n_neighbors=47, weights=distance; total time=  19.8s\n",
      "[CV] END ...................n_neighbors=47, weights=distance; total time=  19.7s\n",
      "[CV] END ...................n_neighbors=47, weights=distance; total time=  15.6s\n",
      "[CV] END ...................n_neighbors=47, weights=distance; total time=  11.9s\n",
      "[CV] END ....................n_neighbors=47, weights=uniform; total time=  45.3s\n",
      "[CV] END ...................n_neighbors=47, weights=distance; total time=  12.0s\n",
      "[CV] END ....................n_neighbors=47, weights=uniform; total time=  43.1s\n",
      "[CV] END ....................n_neighbors=47, weights=uniform; total time=  43.3s\n",
      "[CV] END ....................n_neighbors=47, weights=uniform; total time=  44.9s\n",
      "[CV] END ....................n_neighbors=47, weights=uniform; total time=  47.3s\n",
      "[CV] END ...................n_neighbors=49, weights=distance; total time=  19.1s\n",
      "[CV] END ...................n_neighbors=49, weights=distance; total time=  18.0s\n",
      "[CV] END ...................n_neighbors=49, weights=distance; total time=  14.9s\n",
      "[CV] END ....................n_neighbors=49, weights=uniform; total time=  44.3s\n",
      "[CV] END ...................n_neighbors=49, weights=distance; total time=  11.2s\n",
      "[CV] END ...................n_neighbors=49, weights=distance; total time=  10.5s\n",
      "[CV] END ....................n_neighbors=49, weights=uniform; total time=  38.7s\n",
      "[CV] END ....................n_neighbors=49, weights=uniform; total time=  38.8s\n",
      "[CV] END ....................n_neighbors=49, weights=uniform; total time=  38.3s\n",
      "[CV] END ....................n_neighbors=49, weights=uniform; total time=  35.7s\n",
      "Fitting 5 folds for each of 5 candidates, totalling 25 fits\n"
     ]
    },
    {
     "name": "stderr",
     "output_type": "stream",
     "text": [
      "/Users/admin/Downloads/anaconda/anaconda3/envs/my_environment_A5005da/lib/python3.12/site-packages/sklearn/utils/class_weight.py:81: FutureWarning: Calling float on a single element Series is deprecated and will raise a TypeError in the future. Use float(ser.iloc[0]) instead\n",
      "  weight[i] = class_weight[c]\n",
      "/Users/admin/Downloads/anaconda/anaconda3/envs/my_environment_A5005da/lib/python3.12/site-packages/sklearn/utils/class_weight.py:81: FutureWarning: Calling float on a single element Series is deprecated and will raise a TypeError in the future. Use float(ser.iloc[0]) instead\n",
      "  weight[i] = class_weight[c]\n",
      "/Users/admin/Downloads/anaconda/anaconda3/envs/my_environment_A5005da/lib/python3.12/site-packages/sklearn/utils/class_weight.py:81: FutureWarning: Calling float on a single element Series is deprecated and will raise a TypeError in the future. Use float(ser.iloc[0]) instead\n",
      "  weight[i] = class_weight[c]\n",
      "/Users/admin/Downloads/anaconda/anaconda3/envs/my_environment_A5005da/lib/python3.12/site-packages/sklearn/utils/class_weight.py:81: FutureWarning: Calling float on a single element Series is deprecated and will raise a TypeError in the future. Use float(ser.iloc[0]) instead\n",
      "  weight[i] = class_weight[c]\n",
      "/Users/admin/Downloads/anaconda/anaconda3/envs/my_environment_A5005da/lib/python3.12/site-packages/sklearn/utils/class_weight.py:81: FutureWarning: Calling float on a single element Series is deprecated and will raise a TypeError in the future. Use float(ser.iloc[0]) instead\n",
      "  weight[i] = class_weight[c]\n",
      "/Users/admin/Downloads/anaconda/anaconda3/envs/my_environment_A5005da/lib/python3.12/site-packages/sklearn/utils/class_weight.py:81: FutureWarning: Calling float on a single element Series is deprecated and will raise a TypeError in the future. Use float(ser.iloc[0]) instead\n",
      "  weight[i] = class_weight[c]\n",
      "/Users/admin/Downloads/anaconda/anaconda3/envs/my_environment_A5005da/lib/python3.12/site-packages/sklearn/utils/class_weight.py:81: FutureWarning: Calling float on a single element Series is deprecated and will raise a TypeError in the future. Use float(ser.iloc[0]) instead\n",
      "  weight[i] = class_weight[c]\n",
      "/Users/admin/Downloads/anaconda/anaconda3/envs/my_environment_A5005da/lib/python3.12/site-packages/sklearn/utils/class_weight.py:81: FutureWarning: Calling float on a single element Series is deprecated and will raise a TypeError in the future. Use float(ser.iloc[0]) instead\n",
      "  weight[i] = class_weight[c]\n"
     ]
    },
    {
     "ename": "KeyboardInterrupt",
     "evalue": "",
     "output_type": "error",
     "traceback": [
      "\u001b[0;31m---------------------------------------------------------------------------\u001b[0m",
      "\u001b[0;31mKeyboardInterrupt\u001b[0m                         Traceback (most recent call last)",
      "Cell \u001b[0;32mIn[15], line 12\u001b[0m\n\u001b[1;32m      4\u001b[0m  grid_search \u001b[38;5;241m=\u001b[39m GridSearchCV(estimator\u001b[38;5;241m=\u001b[39mmodel_info[\u001b[38;5;124m'\u001b[39m\u001b[38;5;124minstance\u001b[39m\u001b[38;5;124m'\u001b[39m],\n\u001b[1;32m      5\u001b[0m                             param_grid\u001b[38;5;241m=\u001b[39mmodel_info[\u001b[38;5;124m'\u001b[39m\u001b[38;5;124mparams\u001b[39m\u001b[38;5;124m'\u001b[39m],\n\u001b[1;32m      6\u001b[0m                             verbose\u001b[38;5;241m=\u001b[39m\u001b[38;5;241m2\u001b[39m,\n\u001b[1;32m      7\u001b[0m                             n_jobs\u001b[38;5;241m=\u001b[39m\u001b[38;5;241m-\u001b[39m\u001b[38;5;241m1\u001b[39m,\n\u001b[1;32m      8\u001b[0m                             cv\u001b[38;5;241m=\u001b[39m\u001b[38;5;241m5\u001b[39m\n\u001b[1;32m      9\u001b[0m                             )\n\u001b[1;32m     11\u001b[0m  \u001b[38;5;66;03m# Fit search to training data\u001b[39;00m\n\u001b[0;32m---> 12\u001b[0m  grid_search\u001b[38;5;241m.\u001b[39mfit(X_train, y_train)\n\u001b[1;32m     14\u001b[0m  \u001b[38;5;66;03m# Retrieve the best scores and params\u001b[39;00m\n\u001b[1;32m     15\u001b[0m  model_data \u001b[38;5;241m=\u001b[39m {\n\u001b[1;32m     16\u001b[0m  \u001b[38;5;124m'\u001b[39m\u001b[38;5;124mbest estimator\u001b[39m\u001b[38;5;124m'\u001b[39m: grid_search\u001b[38;5;241m.\u001b[39mbest_estimator_,\n\u001b[1;32m     17\u001b[0m  \u001b[38;5;124m'\u001b[39m\u001b[38;5;124mbest params\u001b[39m\u001b[38;5;124m'\u001b[39m: grid_search\u001b[38;5;241m.\u001b[39mbest_params_,\n\u001b[1;32m     18\u001b[0m  \u001b[38;5;124m'\u001b[39m\u001b[38;5;124mbest score\u001b[39m\u001b[38;5;124m'\u001b[39m: grid_search\u001b[38;5;241m.\u001b[39mbest_score_\n\u001b[1;32m     19\u001b[0m }\n",
      "File \u001b[0;32m~/Downloads/anaconda/anaconda3/envs/my_environment_A5005da/lib/python3.12/site-packages/sklearn/base.py:1473\u001b[0m, in \u001b[0;36m_fit_context.<locals>.decorator.<locals>.wrapper\u001b[0;34m(estimator, *args, **kwargs)\u001b[0m\n\u001b[1;32m   1466\u001b[0m     estimator\u001b[38;5;241m.\u001b[39m_validate_params()\n\u001b[1;32m   1468\u001b[0m \u001b[38;5;28;01mwith\u001b[39;00m config_context(\n\u001b[1;32m   1469\u001b[0m     skip_parameter_validation\u001b[38;5;241m=\u001b[39m(\n\u001b[1;32m   1470\u001b[0m         prefer_skip_nested_validation \u001b[38;5;129;01mor\u001b[39;00m global_skip_validation\n\u001b[1;32m   1471\u001b[0m     )\n\u001b[1;32m   1472\u001b[0m ):\n\u001b[0;32m-> 1473\u001b[0m     \u001b[38;5;28;01mreturn\u001b[39;00m fit_method(estimator, \u001b[38;5;241m*\u001b[39margs, \u001b[38;5;241m*\u001b[39m\u001b[38;5;241m*\u001b[39mkwargs)\n",
      "File \u001b[0;32m~/Downloads/anaconda/anaconda3/envs/my_environment_A5005da/lib/python3.12/site-packages/sklearn/model_selection/_search.py:1018\u001b[0m, in \u001b[0;36mBaseSearchCV.fit\u001b[0;34m(self, X, y, **params)\u001b[0m\n\u001b[1;32m   1012\u001b[0m     results \u001b[38;5;241m=\u001b[39m \u001b[38;5;28mself\u001b[39m\u001b[38;5;241m.\u001b[39m_format_results(\n\u001b[1;32m   1013\u001b[0m         all_candidate_params, n_splits, all_out, all_more_results\n\u001b[1;32m   1014\u001b[0m     )\n\u001b[1;32m   1016\u001b[0m     \u001b[38;5;28;01mreturn\u001b[39;00m results\n\u001b[0;32m-> 1018\u001b[0m \u001b[38;5;28mself\u001b[39m\u001b[38;5;241m.\u001b[39m_run_search(evaluate_candidates)\n\u001b[1;32m   1020\u001b[0m \u001b[38;5;66;03m# multimetric is determined here because in the case of a callable\u001b[39;00m\n\u001b[1;32m   1021\u001b[0m \u001b[38;5;66;03m# self.scoring the return type is only known after calling\u001b[39;00m\n\u001b[1;32m   1022\u001b[0m first_test_score \u001b[38;5;241m=\u001b[39m all_out[\u001b[38;5;241m0\u001b[39m][\u001b[38;5;124m\"\u001b[39m\u001b[38;5;124mtest_scores\u001b[39m\u001b[38;5;124m\"\u001b[39m]\n",
      "File \u001b[0;32m~/Downloads/anaconda/anaconda3/envs/my_environment_A5005da/lib/python3.12/site-packages/sklearn/model_selection/_search.py:1572\u001b[0m, in \u001b[0;36mGridSearchCV._run_search\u001b[0;34m(self, evaluate_candidates)\u001b[0m\n\u001b[1;32m   1570\u001b[0m \u001b[38;5;28;01mdef\u001b[39;00m \u001b[38;5;21m_run_search\u001b[39m(\u001b[38;5;28mself\u001b[39m, evaluate_candidates):\n\u001b[1;32m   1571\u001b[0m \u001b[38;5;250m    \u001b[39m\u001b[38;5;124;03m\"\"\"Search all candidates in param_grid\"\"\"\u001b[39;00m\n\u001b[0;32m-> 1572\u001b[0m     evaluate_candidates(ParameterGrid(\u001b[38;5;28mself\u001b[39m\u001b[38;5;241m.\u001b[39mparam_grid))\n",
      "File \u001b[0;32m~/Downloads/anaconda/anaconda3/envs/my_environment_A5005da/lib/python3.12/site-packages/sklearn/model_selection/_search.py:964\u001b[0m, in \u001b[0;36mBaseSearchCV.fit.<locals>.evaluate_candidates\u001b[0;34m(candidate_params, cv, more_results)\u001b[0m\n\u001b[1;32m    956\u001b[0m \u001b[38;5;28;01mif\u001b[39;00m \u001b[38;5;28mself\u001b[39m\u001b[38;5;241m.\u001b[39mverbose \u001b[38;5;241m>\u001b[39m \u001b[38;5;241m0\u001b[39m:\n\u001b[1;32m    957\u001b[0m     \u001b[38;5;28mprint\u001b[39m(\n\u001b[1;32m    958\u001b[0m         \u001b[38;5;124m\"\u001b[39m\u001b[38;5;124mFitting \u001b[39m\u001b[38;5;132;01m{0}\u001b[39;00m\u001b[38;5;124m folds for each of \u001b[39m\u001b[38;5;132;01m{1}\u001b[39;00m\u001b[38;5;124m candidates,\u001b[39m\u001b[38;5;124m\"\u001b[39m\n\u001b[1;32m    959\u001b[0m         \u001b[38;5;124m\"\u001b[39m\u001b[38;5;124m totalling \u001b[39m\u001b[38;5;132;01m{2}\u001b[39;00m\u001b[38;5;124m fits\u001b[39m\u001b[38;5;124m\"\u001b[39m\u001b[38;5;241m.\u001b[39mformat(\n\u001b[1;32m    960\u001b[0m             n_splits, n_candidates, n_candidates \u001b[38;5;241m*\u001b[39m n_splits\n\u001b[1;32m    961\u001b[0m         )\n\u001b[1;32m    962\u001b[0m     )\n\u001b[0;32m--> 964\u001b[0m out \u001b[38;5;241m=\u001b[39m parallel(\n\u001b[1;32m    965\u001b[0m     delayed(_fit_and_score)(\n\u001b[1;32m    966\u001b[0m         clone(base_estimator),\n\u001b[1;32m    967\u001b[0m         X,\n\u001b[1;32m    968\u001b[0m         y,\n\u001b[1;32m    969\u001b[0m         train\u001b[38;5;241m=\u001b[39mtrain,\n\u001b[1;32m    970\u001b[0m         test\u001b[38;5;241m=\u001b[39mtest,\n\u001b[1;32m    971\u001b[0m         parameters\u001b[38;5;241m=\u001b[39mparameters,\n\u001b[1;32m    972\u001b[0m         split_progress\u001b[38;5;241m=\u001b[39m(split_idx, n_splits),\n\u001b[1;32m    973\u001b[0m         candidate_progress\u001b[38;5;241m=\u001b[39m(cand_idx, n_candidates),\n\u001b[1;32m    974\u001b[0m         \u001b[38;5;241m*\u001b[39m\u001b[38;5;241m*\u001b[39mfit_and_score_kwargs,\n\u001b[1;32m    975\u001b[0m     )\n\u001b[1;32m    976\u001b[0m     \u001b[38;5;28;01mfor\u001b[39;00m (cand_idx, parameters), (split_idx, (train, test)) \u001b[38;5;129;01min\u001b[39;00m product(\n\u001b[1;32m    977\u001b[0m         \u001b[38;5;28menumerate\u001b[39m(candidate_params),\n\u001b[1;32m    978\u001b[0m         \u001b[38;5;28menumerate\u001b[39m(cv\u001b[38;5;241m.\u001b[39msplit(X, y, \u001b[38;5;241m*\u001b[39m\u001b[38;5;241m*\u001b[39mrouted_params\u001b[38;5;241m.\u001b[39msplitter\u001b[38;5;241m.\u001b[39msplit)),\n\u001b[1;32m    979\u001b[0m     )\n\u001b[1;32m    980\u001b[0m )\n\u001b[1;32m    982\u001b[0m \u001b[38;5;28;01mif\u001b[39;00m \u001b[38;5;28mlen\u001b[39m(out) \u001b[38;5;241m<\u001b[39m \u001b[38;5;241m1\u001b[39m:\n\u001b[1;32m    983\u001b[0m     \u001b[38;5;28;01mraise\u001b[39;00m \u001b[38;5;167;01mValueError\u001b[39;00m(\n\u001b[1;32m    984\u001b[0m         \u001b[38;5;124m\"\u001b[39m\u001b[38;5;124mNo fits were performed. \u001b[39m\u001b[38;5;124m\"\u001b[39m\n\u001b[1;32m    985\u001b[0m         \u001b[38;5;124m\"\u001b[39m\u001b[38;5;124mWas the CV iterator empty? \u001b[39m\u001b[38;5;124m\"\u001b[39m\n\u001b[1;32m    986\u001b[0m         \u001b[38;5;124m\"\u001b[39m\u001b[38;5;124mWere there no candidates?\u001b[39m\u001b[38;5;124m\"\u001b[39m\n\u001b[1;32m    987\u001b[0m     )\n",
      "File \u001b[0;32m~/Downloads/anaconda/anaconda3/envs/my_environment_A5005da/lib/python3.12/site-packages/sklearn/utils/parallel.py:74\u001b[0m, in \u001b[0;36mParallel.__call__\u001b[0;34m(self, iterable)\u001b[0m\n\u001b[1;32m     69\u001b[0m config \u001b[38;5;241m=\u001b[39m get_config()\n\u001b[1;32m     70\u001b[0m iterable_with_config \u001b[38;5;241m=\u001b[39m (\n\u001b[1;32m     71\u001b[0m     (_with_config(delayed_func, config), args, kwargs)\n\u001b[1;32m     72\u001b[0m     \u001b[38;5;28;01mfor\u001b[39;00m delayed_func, args, kwargs \u001b[38;5;129;01min\u001b[39;00m iterable\n\u001b[1;32m     73\u001b[0m )\n\u001b[0;32m---> 74\u001b[0m \u001b[38;5;28;01mreturn\u001b[39;00m \u001b[38;5;28msuper\u001b[39m()\u001b[38;5;241m.\u001b[39m\u001b[38;5;21m__call__\u001b[39m(iterable_with_config)\n",
      "File \u001b[0;32m~/Downloads/anaconda/anaconda3/envs/my_environment_A5005da/lib/python3.12/site-packages/joblib/parallel.py:2007\u001b[0m, in \u001b[0;36mParallel.__call__\u001b[0;34m(self, iterable)\u001b[0m\n\u001b[1;32m   2001\u001b[0m \u001b[38;5;66;03m# The first item from the output is blank, but it makes the interpreter\u001b[39;00m\n\u001b[1;32m   2002\u001b[0m \u001b[38;5;66;03m# progress until it enters the Try/Except block of the generator and\u001b[39;00m\n\u001b[1;32m   2003\u001b[0m \u001b[38;5;66;03m# reaches the first `yield` statement. This starts the asynchronous\u001b[39;00m\n\u001b[1;32m   2004\u001b[0m \u001b[38;5;66;03m# dispatch of the tasks to the workers.\u001b[39;00m\n\u001b[1;32m   2005\u001b[0m \u001b[38;5;28mnext\u001b[39m(output)\n\u001b[0;32m-> 2007\u001b[0m \u001b[38;5;28;01mreturn\u001b[39;00m output \u001b[38;5;28;01mif\u001b[39;00m \u001b[38;5;28mself\u001b[39m\u001b[38;5;241m.\u001b[39mreturn_generator \u001b[38;5;28;01melse\u001b[39;00m \u001b[38;5;28mlist\u001b[39m(output)\n",
      "File \u001b[0;32m~/Downloads/anaconda/anaconda3/envs/my_environment_A5005da/lib/python3.12/site-packages/joblib/parallel.py:1650\u001b[0m, in \u001b[0;36mParallel._get_outputs\u001b[0;34m(self, iterator, pre_dispatch)\u001b[0m\n\u001b[1;32m   1647\u001b[0m     \u001b[38;5;28;01myield\u001b[39;00m\n\u001b[1;32m   1649\u001b[0m     \u001b[38;5;28;01mwith\u001b[39;00m \u001b[38;5;28mself\u001b[39m\u001b[38;5;241m.\u001b[39m_backend\u001b[38;5;241m.\u001b[39mretrieval_context():\n\u001b[0;32m-> 1650\u001b[0m         \u001b[38;5;28;01myield from\u001b[39;00m \u001b[38;5;28mself\u001b[39m\u001b[38;5;241m.\u001b[39m_retrieve()\n\u001b[1;32m   1652\u001b[0m \u001b[38;5;28;01mexcept\u001b[39;00m \u001b[38;5;167;01mGeneratorExit\u001b[39;00m:\n\u001b[1;32m   1653\u001b[0m     \u001b[38;5;66;03m# The generator has been garbage collected before being fully\u001b[39;00m\n\u001b[1;32m   1654\u001b[0m     \u001b[38;5;66;03m# consumed. This aborts the remaining tasks if possible and warn\u001b[39;00m\n\u001b[1;32m   1655\u001b[0m     \u001b[38;5;66;03m# the user if necessary.\u001b[39;00m\n\u001b[1;32m   1656\u001b[0m     \u001b[38;5;28mself\u001b[39m\u001b[38;5;241m.\u001b[39m_exception \u001b[38;5;241m=\u001b[39m \u001b[38;5;28;01mTrue\u001b[39;00m\n",
      "File \u001b[0;32m~/Downloads/anaconda/anaconda3/envs/my_environment_A5005da/lib/python3.12/site-packages/joblib/parallel.py:1762\u001b[0m, in \u001b[0;36mParallel._retrieve\u001b[0;34m(self)\u001b[0m\n\u001b[1;32m   1757\u001b[0m \u001b[38;5;66;03m# If the next job is not ready for retrieval yet, we just wait for\u001b[39;00m\n\u001b[1;32m   1758\u001b[0m \u001b[38;5;66;03m# async callbacks to progress.\u001b[39;00m\n\u001b[1;32m   1759\u001b[0m \u001b[38;5;28;01mif\u001b[39;00m ((\u001b[38;5;28mlen\u001b[39m(\u001b[38;5;28mself\u001b[39m\u001b[38;5;241m.\u001b[39m_jobs) \u001b[38;5;241m==\u001b[39m \u001b[38;5;241m0\u001b[39m) \u001b[38;5;129;01mor\u001b[39;00m\n\u001b[1;32m   1760\u001b[0m     (\u001b[38;5;28mself\u001b[39m\u001b[38;5;241m.\u001b[39m_jobs[\u001b[38;5;241m0\u001b[39m]\u001b[38;5;241m.\u001b[39mget_status(\n\u001b[1;32m   1761\u001b[0m         timeout\u001b[38;5;241m=\u001b[39m\u001b[38;5;28mself\u001b[39m\u001b[38;5;241m.\u001b[39mtimeout) \u001b[38;5;241m==\u001b[39m TASK_PENDING)):\n\u001b[0;32m-> 1762\u001b[0m     time\u001b[38;5;241m.\u001b[39msleep(\u001b[38;5;241m0.01\u001b[39m)\n\u001b[1;32m   1763\u001b[0m     \u001b[38;5;28;01mcontinue\u001b[39;00m\n\u001b[1;32m   1765\u001b[0m \u001b[38;5;66;03m# We need to be careful: the job list can be filling up as\u001b[39;00m\n\u001b[1;32m   1766\u001b[0m \u001b[38;5;66;03m# we empty it and Python list are not thread-safe by\u001b[39;00m\n\u001b[1;32m   1767\u001b[0m \u001b[38;5;66;03m# default hence the use of the lock\u001b[39;00m\n",
      "\u001b[0;31mKeyboardInterrupt\u001b[0m: "
     ]
    }
   ],
   "source": [
    "\n",
    "for model_name, model_info in models.items():\n",
    "\n",
    "        # Set up grid search\n",
    "        grid_search = GridSearchCV(estimator=model_info['instance'],\n",
    "                                   param_grid=model_info['params'],\n",
    "                                   verbose=2,\n",
    "                                   n_jobs=-1,\n",
    "                                   cv=5\n",
    "                                   )\n",
    "\n",
    "        # Fit search to training data\n",
    "        grid_search.fit(X_train, y_train)\n",
    "\n",
    "        # Retrieve the best scores and params\n",
    "        model_data = {\n",
    "        'best estimator': grid_search.best_estimator_,\n",
    "        'best params': grid_search.best_params_,\n",
    "        'best score': grid_search.best_score_\n",
    "       }\n",
    "        \n",
    "        joblib.dump(model_data, 'models/' + model_name + '.pkl')\n",
    "        \n",
    "\n",
    "\n",
    "\n"
   ]
  },
  {
   "cell_type": "code",
   "execution_count": null,
   "metadata": {},
   "outputs": [
    {
     "name": "stdout",
     "output_type": "stream",
     "text": [
      "Testing Logistic Regression...\n",
      "Fitting 5 folds for each of 15 candidates, totalling 75 fits\n"
     ]
    },
    {
     "name": "stderr",
     "output_type": "stream",
     "text": [
      "/Users/admin/Downloads/anaconda/anaconda3/envs/my_environment_A5005da/lib/python3.12/site-packages/sklearn/utils/class_weight.py:81: FutureWarning: Calling float on a single element Series is deprecated and will raise a TypeError in the future. Use float(ser.iloc[0]) instead\n",
      "  weight[i] = class_weight[c]\n",
      "/Users/admin/Downloads/anaconda/anaconda3/envs/my_environment_A5005da/lib/python3.12/site-packages/sklearn/utils/class_weight.py:81: FutureWarning: Calling float on a single element Series is deprecated and will raise a TypeError in the future. Use float(ser.iloc[0]) instead\n",
      "  weight[i] = class_weight[c]\n",
      "/Users/admin/Downloads/anaconda/anaconda3/envs/my_environment_A5005da/lib/python3.12/site-packages/sklearn/utils/class_weight.py:81: FutureWarning: Calling float on a single element Series is deprecated and will raise a TypeError in the future. Use float(ser.iloc[0]) instead\n",
      "  weight[i] = class_weight[c]\n",
      "/Users/admin/Downloads/anaconda/anaconda3/envs/my_environment_A5005da/lib/python3.12/site-packages/sklearn/utils/class_weight.py:81: FutureWarning: Calling float on a single element Series is deprecated and will raise a TypeError in the future. Use float(ser.iloc[0]) instead\n",
      "  weight[i] = class_weight[c]\n",
      "/Users/admin/Downloads/anaconda/anaconda3/envs/my_environment_A5005da/lib/python3.12/site-packages/sklearn/utils/class_weight.py:81: FutureWarning: Calling float on a single element Series is deprecated and will raise a TypeError in the future. Use float(ser.iloc[0]) instead\n",
      "  weight[i] = class_weight[c]\n",
      "/Users/admin/Downloads/anaconda/anaconda3/envs/my_environment_A5005da/lib/python3.12/site-packages/sklearn/utils/class_weight.py:81: FutureWarning: Calling float on a single element Series is deprecated and will raise a TypeError in the future. Use float(ser.iloc[0]) instead\n",
      "  weight[i] = class_weight[c]\n",
      "/Users/admin/Downloads/anaconda/anaconda3/envs/my_environment_A5005da/lib/python3.12/site-packages/sklearn/utils/class_weight.py:81: FutureWarning: Calling float on a single element Series is deprecated and will raise a TypeError in the future. Use float(ser.iloc[0]) instead\n",
      "  weight[i] = class_weight[c]\n",
      "/Users/admin/Downloads/anaconda/anaconda3/envs/my_environment_A5005da/lib/python3.12/site-packages/sklearn/utils/class_weight.py:81: FutureWarning: Calling float on a single element Series is deprecated and will raise a TypeError in the future. Use float(ser.iloc[0]) instead\n",
      "  weight[i] = class_weight[c]\n",
      "/Users/admin/Downloads/anaconda/anaconda3/envs/my_environment_A5005da/lib/python3.12/site-packages/sklearn/linear_model/_logistic.py:469: ConvergenceWarning: lbfgs failed to converge (status=1):\n",
      "STOP: TOTAL NO. of ITERATIONS REACHED LIMIT.\n",
      "\n",
      "Increase the number of iterations (max_iter) or scale the data as shown in:\n",
      "    https://scikit-learn.org/stable/modules/preprocessing.html\n",
      "Please also refer to the documentation for alternative solver options:\n",
      "    https://scikit-learn.org/stable/modules/linear_model.html#logistic-regression\n",
      "  n_iter_i = _check_optimize_result(\n",
      "/Users/admin/Downloads/anaconda/anaconda3/envs/my_environment_A5005da/lib/python3.12/site-packages/sklearn/linear_model/_logistic.py:469: ConvergenceWarning: lbfgs failed to converge (status=1):\n",
      "STOP: TOTAL NO. of ITERATIONS REACHED LIMIT.\n",
      "\n",
      "Increase the number of iterations (max_iter) or scale the data as shown in:\n",
      "    https://scikit-learn.org/stable/modules/preprocessing.html\n",
      "Please also refer to the documentation for alternative solver options:\n",
      "    https://scikit-learn.org/stable/modules/linear_model.html#logistic-regression\n",
      "  n_iter_i = _check_optimize_result(\n",
      "/Users/admin/Downloads/anaconda/anaconda3/envs/my_environment_A5005da/lib/python3.12/site-packages/sklearn/linear_model/_logistic.py:469: ConvergenceWarning: lbfgs failed to converge (status=1):\n",
      "STOP: TOTAL NO. of ITERATIONS REACHED LIMIT.\n",
      "\n",
      "Increase the number of iterations (max_iter) or scale the data as shown in:\n",
      "    https://scikit-learn.org/stable/modules/preprocessing.html\n",
      "Please also refer to the documentation for alternative solver options:\n",
      "    https://scikit-learn.org/stable/modules/linear_model.html#logistic-regression\n",
      "  n_iter_i = _check_optimize_result(\n",
      "/Users/admin/Downloads/anaconda/anaconda3/envs/my_environment_A5005da/lib/python3.12/site-packages/sklearn/utils/class_weight.py:81: FutureWarning: Calling float on a single element Series is deprecated and will raise a TypeError in the future. Use float(ser.iloc[0]) instead\n",
      "  weight[i] = class_weight[c]\n",
      "/Users/admin/Downloads/anaconda/anaconda3/envs/my_environment_A5005da/lib/python3.12/site-packages/sklearn/utils/class_weight.py:81: FutureWarning: Calling float on a single element Series is deprecated and will raise a TypeError in the future. Use float(ser.iloc[0]) instead\n",
      "  weight[i] = class_weight[c]\n",
      "/Users/admin/Downloads/anaconda/anaconda3/envs/my_environment_A5005da/lib/python3.12/site-packages/sklearn/linear_model/_logistic.py:469: ConvergenceWarning: lbfgs failed to converge (status=1):\n",
      "STOP: TOTAL NO. of ITERATIONS REACHED LIMIT.\n",
      "\n",
      "Increase the number of iterations (max_iter) or scale the data as shown in:\n",
      "    https://scikit-learn.org/stable/modules/preprocessing.html\n",
      "Please also refer to the documentation for alternative solver options:\n",
      "    https://scikit-learn.org/stable/modules/linear_model.html#logistic-regression\n",
      "  n_iter_i = _check_optimize_result(\n",
      "/Users/admin/Downloads/anaconda/anaconda3/envs/my_environment_A5005da/lib/python3.12/site-packages/sklearn/linear_model/_logistic.py:469: ConvergenceWarning: lbfgs failed to converge (status=1):\n",
      "STOP: TOTAL NO. of ITERATIONS REACHED LIMIT.\n",
      "\n",
      "Increase the number of iterations (max_iter) or scale the data as shown in:\n",
      "    https://scikit-learn.org/stable/modules/preprocessing.html\n",
      "Please also refer to the documentation for alternative solver options:\n",
      "    https://scikit-learn.org/stable/modules/linear_model.html#logistic-regression\n",
      "  n_iter_i = _check_optimize_result(\n",
      "/Users/admin/Downloads/anaconda/anaconda3/envs/my_environment_A5005da/lib/python3.12/site-packages/sklearn/utils/class_weight.py:81: FutureWarning: Calling float on a single element Series is deprecated and will raise a TypeError in the future. Use float(ser.iloc[0]) instead\n",
      "  weight[i] = class_weight[c]\n",
      "/Users/admin/Downloads/anaconda/anaconda3/envs/my_environment_A5005da/lib/python3.12/site-packages/sklearn/utils/class_weight.py:81: FutureWarning: Calling float on a single element Series is deprecated and will raise a TypeError in the future. Use float(ser.iloc[0]) instead\n",
      "  weight[i] = class_weight[c]\n",
      "/Users/admin/Downloads/anaconda/anaconda3/envs/my_environment_A5005da/lib/python3.12/site-packages/sklearn/utils/class_weight.py:81: FutureWarning: Calling float on a single element Series is deprecated and will raise a TypeError in the future. Use float(ser.iloc[0]) instead\n",
      "  weight[i] = class_weight[c]\n",
      "/Users/admin/Downloads/anaconda/anaconda3/envs/my_environment_A5005da/lib/python3.12/site-packages/sklearn/utils/class_weight.py:81: FutureWarning: Calling float on a single element Series is deprecated and will raise a TypeError in the future. Use float(ser.iloc[0]) instead\n",
      "  weight[i] = class_weight[c]\n",
      "/Users/admin/Downloads/anaconda/anaconda3/envs/my_environment_A5005da/lib/python3.12/site-packages/sklearn/linear_model/_logistic.py:469: ConvergenceWarning: lbfgs failed to converge (status=1):\n",
      "STOP: TOTAL NO. of ITERATIONS REACHED LIMIT.\n",
      "\n",
      "Increase the number of iterations (max_iter) or scale the data as shown in:\n",
      "    https://scikit-learn.org/stable/modules/preprocessing.html\n",
      "Please also refer to the documentation for alternative solver options:\n",
      "    https://scikit-learn.org/stable/modules/linear_model.html#logistic-regression\n",
      "  n_iter_i = _check_optimize_result(\n",
      "/Users/admin/Downloads/anaconda/anaconda3/envs/my_environment_A5005da/lib/python3.12/site-packages/sklearn/linear_model/_logistic.py:469: ConvergenceWarning: lbfgs failed to converge (status=1):\n",
      "STOP: TOTAL NO. of ITERATIONS REACHED LIMIT.\n",
      "\n",
      "Increase the number of iterations (max_iter) or scale the data as shown in:\n",
      "    https://scikit-learn.org/stable/modules/preprocessing.html\n",
      "Please also refer to the documentation for alternative solver options:\n",
      "    https://scikit-learn.org/stable/modules/linear_model.html#logistic-regression\n",
      "  n_iter_i = _check_optimize_result(\n",
      "/Users/admin/Downloads/anaconda/anaconda3/envs/my_environment_A5005da/lib/python3.12/site-packages/sklearn/utils/class_weight.py:81: FutureWarning: Calling float on a single element Series is deprecated and will raise a TypeError in the future. Use float(ser.iloc[0]) instead\n",
      "  weight[i] = class_weight[c]\n",
      "/Users/admin/Downloads/anaconda/anaconda3/envs/my_environment_A5005da/lib/python3.12/site-packages/sklearn/utils/class_weight.py:81: FutureWarning: Calling float on a single element Series is deprecated and will raise a TypeError in the future. Use float(ser.iloc[0]) instead\n",
      "  weight[i] = class_weight[c]\n",
      "/Users/admin/Downloads/anaconda/anaconda3/envs/my_environment_A5005da/lib/python3.12/site-packages/sklearn/utils/class_weight.py:81: FutureWarning: Calling float on a single element Series is deprecated and will raise a TypeError in the future. Use float(ser.iloc[0]) instead\n",
      "  weight[i] = class_weight[c]\n",
      "/Users/admin/Downloads/anaconda/anaconda3/envs/my_environment_A5005da/lib/python3.12/site-packages/sklearn/utils/class_weight.py:81: FutureWarning: Calling float on a single element Series is deprecated and will raise a TypeError in the future. Use float(ser.iloc[0]) instead\n",
      "  weight[i] = class_weight[c]\n",
      "/Users/admin/Downloads/anaconda/anaconda3/envs/my_environment_A5005da/lib/python3.12/site-packages/sklearn/linear_model/_logistic.py:469: ConvergenceWarning: lbfgs failed to converge (status=1):\n",
      "STOP: TOTAL NO. of ITERATIONS REACHED LIMIT.\n",
      "\n",
      "Increase the number of iterations (max_iter) or scale the data as shown in:\n",
      "    https://scikit-learn.org/stable/modules/preprocessing.html\n",
      "Please also refer to the documentation for alternative solver options:\n",
      "    https://scikit-learn.org/stable/modules/linear_model.html#logistic-regression\n",
      "  n_iter_i = _check_optimize_result(\n",
      "/Users/admin/Downloads/anaconda/anaconda3/envs/my_environment_A5005da/lib/python3.12/site-packages/sklearn/linear_model/_logistic.py:469: ConvergenceWarning: lbfgs failed to converge (status=1):\n",
      "STOP: TOTAL NO. of ITERATIONS REACHED LIMIT.\n",
      "\n",
      "Increase the number of iterations (max_iter) or scale the data as shown in:\n",
      "    https://scikit-learn.org/stable/modules/preprocessing.html\n",
      "Please also refer to the documentation for alternative solver options:\n",
      "    https://scikit-learn.org/stable/modules/linear_model.html#logistic-regression\n",
      "  n_iter_i = _check_optimize_result(\n",
      "/Users/admin/Downloads/anaconda/anaconda3/envs/my_environment_A5005da/lib/python3.12/site-packages/sklearn/utils/class_weight.py:81: FutureWarning: Calling float on a single element Series is deprecated and will raise a TypeError in the future. Use float(ser.iloc[0]) instead\n",
      "  weight[i] = class_weight[c]\n",
      "/Users/admin/Downloads/anaconda/anaconda3/envs/my_environment_A5005da/lib/python3.12/site-packages/sklearn/utils/class_weight.py:81: FutureWarning: Calling float on a single element Series is deprecated and will raise a TypeError in the future. Use float(ser.iloc[0]) instead\n",
      "  weight[i] = class_weight[c]\n",
      "/Users/admin/Downloads/anaconda/anaconda3/envs/my_environment_A5005da/lib/python3.12/site-packages/sklearn/utils/class_weight.py:81: FutureWarning: Calling float on a single element Series is deprecated and will raise a TypeError in the future. Use float(ser.iloc[0]) instead\n",
      "  weight[i] = class_weight[c]\n",
      "/Users/admin/Downloads/anaconda/anaconda3/envs/my_environment_A5005da/lib/python3.12/site-packages/sklearn/linear_model/_logistic.py:469: ConvergenceWarning: lbfgs failed to converge (status=1):\n",
      "STOP: TOTAL NO. of ITERATIONS REACHED LIMIT.\n",
      "\n",
      "Increase the number of iterations (max_iter) or scale the data as shown in:\n",
      "    https://scikit-learn.org/stable/modules/preprocessing.html\n",
      "Please also refer to the documentation for alternative solver options:\n",
      "    https://scikit-learn.org/stable/modules/linear_model.html#logistic-regression\n",
      "  n_iter_i = _check_optimize_result(\n",
      "/Users/admin/Downloads/anaconda/anaconda3/envs/my_environment_A5005da/lib/python3.12/site-packages/sklearn/utils/class_weight.py:81: FutureWarning: Calling float on a single element Series is deprecated and will raise a TypeError in the future. Use float(ser.iloc[0]) instead\n",
      "  weight[i] = class_weight[c]\n",
      "/Users/admin/Downloads/anaconda/anaconda3/envs/my_environment_A5005da/lib/python3.12/site-packages/sklearn/linear_model/_logistic.py:469: ConvergenceWarning: lbfgs failed to converge (status=1):\n",
      "STOP: TOTAL NO. of ITERATIONS REACHED LIMIT.\n",
      "\n",
      "Increase the number of iterations (max_iter) or scale the data as shown in:\n",
      "    https://scikit-learn.org/stable/modules/preprocessing.html\n",
      "Please also refer to the documentation for alternative solver options:\n",
      "    https://scikit-learn.org/stable/modules/linear_model.html#logistic-regression\n",
      "  n_iter_i = _check_optimize_result(\n",
      "/Users/admin/Downloads/anaconda/anaconda3/envs/my_environment_A5005da/lib/python3.12/site-packages/sklearn/utils/class_weight.py:81: FutureWarning: Calling float on a single element Series is deprecated and will raise a TypeError in the future. Use float(ser.iloc[0]) instead\n",
      "  weight[i] = class_weight[c]\n",
      "/Users/admin/Downloads/anaconda/anaconda3/envs/my_environment_A5005da/lib/python3.12/site-packages/sklearn/utils/class_weight.py:81: FutureWarning: Calling float on a single element Series is deprecated and will raise a TypeError in the future. Use float(ser.iloc[0]) instead\n",
      "  weight[i] = class_weight[c]\n",
      "/Users/admin/Downloads/anaconda/anaconda3/envs/my_environment_A5005da/lib/python3.12/site-packages/sklearn/linear_model/_logistic.py:469: ConvergenceWarning: lbfgs failed to converge (status=1):\n",
      "STOP: TOTAL NO. of ITERATIONS REACHED LIMIT.\n",
      "\n",
      "Increase the number of iterations (max_iter) or scale the data as shown in:\n",
      "    https://scikit-learn.org/stable/modules/preprocessing.html\n",
      "Please also refer to the documentation for alternative solver options:\n",
      "    https://scikit-learn.org/stable/modules/linear_model.html#logistic-regression\n",
      "  n_iter_i = _check_optimize_result(\n",
      "/Users/admin/Downloads/anaconda/anaconda3/envs/my_environment_A5005da/lib/python3.12/site-packages/sklearn/utils/class_weight.py:81: FutureWarning: Calling float on a single element Series is deprecated and will raise a TypeError in the future. Use float(ser.iloc[0]) instead\n",
      "  weight[i] = class_weight[c]\n",
      "/Users/admin/Downloads/anaconda/anaconda3/envs/my_environment_A5005da/lib/python3.12/site-packages/sklearn/linear_model/_logistic.py:469: ConvergenceWarning: lbfgs failed to converge (status=1):\n",
      "STOP: TOTAL NO. of ITERATIONS REACHED LIMIT.\n",
      "\n",
      "Increase the number of iterations (max_iter) or scale the data as shown in:\n",
      "    https://scikit-learn.org/stable/modules/preprocessing.html\n",
      "Please also refer to the documentation for alternative solver options:\n",
      "    https://scikit-learn.org/stable/modules/linear_model.html#logistic-regression\n",
      "  n_iter_i = _check_optimize_result(\n",
      "/Users/admin/Downloads/anaconda/anaconda3/envs/my_environment_A5005da/lib/python3.12/site-packages/sklearn/linear_model/_logistic.py:469: ConvergenceWarning: lbfgs failed to converge (status=1):\n",
      "STOP: TOTAL NO. of ITERATIONS REACHED LIMIT.\n",
      "\n",
      "Increase the number of iterations (max_iter) or scale the data as shown in:\n",
      "    https://scikit-learn.org/stable/modules/preprocessing.html\n",
      "Please also refer to the documentation for alternative solver options:\n",
      "    https://scikit-learn.org/stable/modules/linear_model.html#logistic-regression\n",
      "  n_iter_i = _check_optimize_result(\n",
      "/Users/admin/Downloads/anaconda/anaconda3/envs/my_environment_A5005da/lib/python3.12/site-packages/sklearn/utils/class_weight.py:81: FutureWarning: Calling float on a single element Series is deprecated and will raise a TypeError in the future. Use float(ser.iloc[0]) instead\n",
      "  weight[i] = class_weight[c]\n",
      "/Users/admin/Downloads/anaconda/anaconda3/envs/my_environment_A5005da/lib/python3.12/site-packages/sklearn/utils/class_weight.py:81: FutureWarning: Calling float on a single element Series is deprecated and will raise a TypeError in the future. Use float(ser.iloc[0]) instead\n",
      "  weight[i] = class_weight[c]\n",
      "/Users/admin/Downloads/anaconda/anaconda3/envs/my_environment_A5005da/lib/python3.12/site-packages/sklearn/linear_model/_logistic.py:469: ConvergenceWarning: lbfgs failed to converge (status=1):\n",
      "STOP: TOTAL NO. of ITERATIONS REACHED LIMIT.\n",
      "\n",
      "Increase the number of iterations (max_iter) or scale the data as shown in:\n",
      "    https://scikit-learn.org/stable/modules/preprocessing.html\n",
      "Please also refer to the documentation for alternative solver options:\n",
      "    https://scikit-learn.org/stable/modules/linear_model.html#logistic-regression\n",
      "  n_iter_i = _check_optimize_result(\n",
      "/Users/admin/Downloads/anaconda/anaconda3/envs/my_environment_A5005da/lib/python3.12/site-packages/sklearn/utils/class_weight.py:81: FutureWarning: Calling float on a single element Series is deprecated and will raise a TypeError in the future. Use float(ser.iloc[0]) instead\n",
      "  weight[i] = class_weight[c]\n",
      "/Users/admin/Downloads/anaconda/anaconda3/envs/my_environment_A5005da/lib/python3.12/site-packages/sklearn/linear_model/_logistic.py:469: ConvergenceWarning: lbfgs failed to converge (status=1):\n",
      "STOP: TOTAL NO. of ITERATIONS REACHED LIMIT.\n",
      "\n",
      "Increase the number of iterations (max_iter) or scale the data as shown in:\n",
      "    https://scikit-learn.org/stable/modules/preprocessing.html\n",
      "Please also refer to the documentation for alternative solver options:\n",
      "    https://scikit-learn.org/stable/modules/linear_model.html#logistic-regression\n",
      "  n_iter_i = _check_optimize_result(\n",
      "/Users/admin/Downloads/anaconda/anaconda3/envs/my_environment_A5005da/lib/python3.12/site-packages/sklearn/utils/class_weight.py:81: FutureWarning: Calling float on a single element Series is deprecated and will raise a TypeError in the future. Use float(ser.iloc[0]) instead\n",
      "  weight[i] = class_weight[c]\n",
      "/Users/admin/Downloads/anaconda/anaconda3/envs/my_environment_A5005da/lib/python3.12/site-packages/sklearn/utils/class_weight.py:81: FutureWarning: Calling float on a single element Series is deprecated and will raise a TypeError in the future. Use float(ser.iloc[0]) instead\n",
      "  weight[i] = class_weight[c]\n",
      "/Users/admin/Downloads/anaconda/anaconda3/envs/my_environment_A5005da/lib/python3.12/site-packages/sklearn/linear_model/_logistic.py:469: ConvergenceWarning: lbfgs failed to converge (status=1):\n",
      "STOP: TOTAL NO. of ITERATIONS REACHED LIMIT.\n",
      "\n",
      "Increase the number of iterations (max_iter) or scale the data as shown in:\n",
      "    https://scikit-learn.org/stable/modules/preprocessing.html\n",
      "Please also refer to the documentation for alternative solver options:\n",
      "    https://scikit-learn.org/stable/modules/linear_model.html#logistic-regression\n",
      "  n_iter_i = _check_optimize_result(\n",
      "/Users/admin/Downloads/anaconda/anaconda3/envs/my_environment_A5005da/lib/python3.12/site-packages/sklearn/utils/class_weight.py:81: FutureWarning: Calling float on a single element Series is deprecated and will raise a TypeError in the future. Use float(ser.iloc[0]) instead\n",
      "  weight[i] = class_weight[c]\n",
      "/Users/admin/Downloads/anaconda/anaconda3/envs/my_environment_A5005da/lib/python3.12/site-packages/sklearn/linear_model/_logistic.py:469: ConvergenceWarning: lbfgs failed to converge (status=1):\n",
      "STOP: TOTAL NO. of ITERATIONS REACHED LIMIT.\n",
      "\n",
      "Increase the number of iterations (max_iter) or scale the data as shown in:\n",
      "    https://scikit-learn.org/stable/modules/preprocessing.html\n",
      "Please also refer to the documentation for alternative solver options:\n",
      "    https://scikit-learn.org/stable/modules/linear_model.html#logistic-regression\n",
      "  n_iter_i = _check_optimize_result(\n",
      "/Users/admin/Downloads/anaconda/anaconda3/envs/my_environment_A5005da/lib/python3.12/site-packages/sklearn/utils/class_weight.py:81: FutureWarning: Calling float on a single element Series is deprecated and will raise a TypeError in the future. Use float(ser.iloc[0]) instead\n",
      "  weight[i] = class_weight[c]\n",
      "/Users/admin/Downloads/anaconda/anaconda3/envs/my_environment_A5005da/lib/python3.12/site-packages/sklearn/utils/class_weight.py:81: FutureWarning: Calling float on a single element Series is deprecated and will raise a TypeError in the future. Use float(ser.iloc[0]) instead\n",
      "  weight[i] = class_weight[c]\n",
      "/Users/admin/Downloads/anaconda/anaconda3/envs/my_environment_A5005da/lib/python3.12/site-packages/sklearn/utils/class_weight.py:81: FutureWarning: Calling float on a single element Series is deprecated and will raise a TypeError in the future. Use float(ser.iloc[0]) instead\n",
      "  weight[i] = class_weight[c]\n",
      "/Users/admin/Downloads/anaconda/anaconda3/envs/my_environment_A5005da/lib/python3.12/site-packages/sklearn/linear_model/_logistic.py:469: ConvergenceWarning: lbfgs failed to converge (status=1):\n",
      "STOP: TOTAL NO. of ITERATIONS REACHED LIMIT.\n",
      "\n",
      "Increase the number of iterations (max_iter) or scale the data as shown in:\n",
      "    https://scikit-learn.org/stable/modules/preprocessing.html\n",
      "Please also refer to the documentation for alternative solver options:\n",
      "    https://scikit-learn.org/stable/modules/linear_model.html#logistic-regression\n",
      "  n_iter_i = _check_optimize_result(\n",
      "/Users/admin/Downloads/anaconda/anaconda3/envs/my_environment_A5005da/lib/python3.12/site-packages/sklearn/utils/class_weight.py:81: FutureWarning: Calling float on a single element Series is deprecated and will raise a TypeError in the future. Use float(ser.iloc[0]) instead\n",
      "  weight[i] = class_weight[c]\n",
      "/Users/admin/Downloads/anaconda/anaconda3/envs/my_environment_A5005da/lib/python3.12/site-packages/sklearn/linear_model/_logistic.py:469: ConvergenceWarning: lbfgs failed to converge (status=1):\n",
      "STOP: TOTAL NO. of ITERATIONS REACHED LIMIT.\n",
      "\n",
      "Increase the number of iterations (max_iter) or scale the data as shown in:\n",
      "    https://scikit-learn.org/stable/modules/preprocessing.html\n",
      "Please also refer to the documentation for alternative solver options:\n",
      "    https://scikit-learn.org/stable/modules/linear_model.html#logistic-regression\n",
      "  n_iter_i = _check_optimize_result(\n",
      "/Users/admin/Downloads/anaconda/anaconda3/envs/my_environment_A5005da/lib/python3.12/site-packages/sklearn/linear_model/_logistic.py:469: ConvergenceWarning: lbfgs failed to converge (status=1):\n",
      "STOP: TOTAL NO. of ITERATIONS REACHED LIMIT.\n",
      "\n",
      "Increase the number of iterations (max_iter) or scale the data as shown in:\n",
      "    https://scikit-learn.org/stable/modules/preprocessing.html\n",
      "Please also refer to the documentation for alternative solver options:\n",
      "    https://scikit-learn.org/stable/modules/linear_model.html#logistic-regression\n",
      "  n_iter_i = _check_optimize_result(\n",
      "/Users/admin/Downloads/anaconda/anaconda3/envs/my_environment_A5005da/lib/python3.12/site-packages/sklearn/linear_model/_logistic.py:469: ConvergenceWarning: lbfgs failed to converge (status=1):\n",
      "STOP: TOTAL NO. of ITERATIONS REACHED LIMIT.\n",
      "\n",
      "Increase the number of iterations (max_iter) or scale the data as shown in:\n",
      "    https://scikit-learn.org/stable/modules/preprocessing.html\n",
      "Please also refer to the documentation for alternative solver options:\n",
      "    https://scikit-learn.org/stable/modules/linear_model.html#logistic-regression\n",
      "  n_iter_i = _check_optimize_result(\n",
      "/Users/admin/Downloads/anaconda/anaconda3/envs/my_environment_A5005da/lib/python3.12/site-packages/sklearn/utils/class_weight.py:81: FutureWarning: Calling float on a single element Series is deprecated and will raise a TypeError in the future. Use float(ser.iloc[0]) instead\n",
      "  weight[i] = class_weight[c]\n",
      "/Users/admin/Downloads/anaconda/anaconda3/envs/my_environment_A5005da/lib/python3.12/site-packages/sklearn/utils/class_weight.py:81: FutureWarning: Calling float on a single element Series is deprecated and will raise a TypeError in the future. Use float(ser.iloc[0]) instead\n",
      "  weight[i] = class_weight[c]\n",
      "/Users/admin/Downloads/anaconda/anaconda3/envs/my_environment_A5005da/lib/python3.12/site-packages/sklearn/utils/class_weight.py:81: FutureWarning: Calling float on a single element Series is deprecated and will raise a TypeError in the future. Use float(ser.iloc[0]) instead\n",
      "  weight[i] = class_weight[c]\n",
      "/Users/admin/Downloads/anaconda/anaconda3/envs/my_environment_A5005da/lib/python3.12/site-packages/sklearn/utils/class_weight.py:81: FutureWarning: Calling float on a single element Series is deprecated and will raise a TypeError in the future. Use float(ser.iloc[0]) instead\n",
      "  weight[i] = class_weight[c]\n",
      "/Users/admin/Downloads/anaconda/anaconda3/envs/my_environment_A5005da/lib/python3.12/site-packages/sklearn/linear_model/_logistic.py:469: ConvergenceWarning: lbfgs failed to converge (status=1):\n",
      "STOP: TOTAL NO. of ITERATIONS REACHED LIMIT.\n",
      "\n",
      "Increase the number of iterations (max_iter) or scale the data as shown in:\n",
      "    https://scikit-learn.org/stable/modules/preprocessing.html\n",
      "Please also refer to the documentation for alternative solver options:\n",
      "    https://scikit-learn.org/stable/modules/linear_model.html#logistic-regression\n",
      "  n_iter_i = _check_optimize_result(\n",
      "/Users/admin/Downloads/anaconda/anaconda3/envs/my_environment_A5005da/lib/python3.12/site-packages/sklearn/utils/class_weight.py:81: FutureWarning: Calling float on a single element Series is deprecated and will raise a TypeError in the future. Use float(ser.iloc[0]) instead\n",
      "  weight[i] = class_weight[c]\n",
      "/Users/admin/Downloads/anaconda/anaconda3/envs/my_environment_A5005da/lib/python3.12/site-packages/sklearn/utils/class_weight.py:81: FutureWarning: Calling float on a single element Series is deprecated and will raise a TypeError in the future. Use float(ser.iloc[0]) instead\n",
      "  weight[i] = class_weight[c]\n",
      "/Users/admin/Downloads/anaconda/anaconda3/envs/my_environment_A5005da/lib/python3.12/site-packages/sklearn/linear_model/_logistic.py:469: ConvergenceWarning: lbfgs failed to converge (status=1):\n",
      "STOP: TOTAL NO. of ITERATIONS REACHED LIMIT.\n",
      "\n",
      "Increase the number of iterations (max_iter) or scale the data as shown in:\n",
      "    https://scikit-learn.org/stable/modules/preprocessing.html\n",
      "Please also refer to the documentation for alternative solver options:\n",
      "    https://scikit-learn.org/stable/modules/linear_model.html#logistic-regression\n",
      "  n_iter_i = _check_optimize_result(\n",
      "/Users/admin/Downloads/anaconda/anaconda3/envs/my_environment_A5005da/lib/python3.12/site-packages/sklearn/utils/class_weight.py:81: FutureWarning: Calling float on a single element Series is deprecated and will raise a TypeError in the future. Use float(ser.iloc[0]) instead\n",
      "  weight[i] = class_weight[c]\n",
      "/Users/admin/Downloads/anaconda/anaconda3/envs/my_environment_A5005da/lib/python3.12/site-packages/sklearn/linear_model/_logistic.py:469: ConvergenceWarning: lbfgs failed to converge (status=1):\n",
      "STOP: TOTAL NO. of ITERATIONS REACHED LIMIT.\n",
      "\n",
      "Increase the number of iterations (max_iter) or scale the data as shown in:\n",
      "    https://scikit-learn.org/stable/modules/preprocessing.html\n",
      "Please also refer to the documentation for alternative solver options:\n",
      "    https://scikit-learn.org/stable/modules/linear_model.html#logistic-regression\n",
      "  n_iter_i = _check_optimize_result(\n",
      "/Users/admin/Downloads/anaconda/anaconda3/envs/my_environment_A5005da/lib/python3.12/site-packages/sklearn/utils/class_weight.py:81: FutureWarning: Calling float on a single element Series is deprecated and will raise a TypeError in the future. Use float(ser.iloc[0]) instead\n",
      "  weight[i] = class_weight[c]\n",
      "/Users/admin/Downloads/anaconda/anaconda3/envs/my_environment_A5005da/lib/python3.12/site-packages/sklearn/utils/class_weight.py:81: FutureWarning: Calling float on a single element Series is deprecated and will raise a TypeError in the future. Use float(ser.iloc[0]) instead\n",
      "  weight[i] = class_weight[c]\n",
      "/Users/admin/Downloads/anaconda/anaconda3/envs/my_environment_A5005da/lib/python3.12/site-packages/sklearn/utils/class_weight.py:81: FutureWarning: Calling float on a single element Series is deprecated and will raise a TypeError in the future. Use float(ser.iloc[0]) instead\n",
      "  weight[i] = class_weight[c]\n",
      "/Users/admin/Downloads/anaconda/anaconda3/envs/my_environment_A5005da/lib/python3.12/site-packages/sklearn/utils/class_weight.py:81: FutureWarning: Calling float on a single element Series is deprecated and will raise a TypeError in the future. Use float(ser.iloc[0]) instead\n",
      "  weight[i] = class_weight[c]\n",
      "/Users/admin/Downloads/anaconda/anaconda3/envs/my_environment_A5005da/lib/python3.12/site-packages/sklearn/utils/class_weight.py:81: FutureWarning: Calling float on a single element Series is deprecated and will raise a TypeError in the future. Use float(ser.iloc[0]) instead\n",
      "  weight[i] = class_weight[c]\n",
      "/Users/admin/Downloads/anaconda/anaconda3/envs/my_environment_A5005da/lib/python3.12/site-packages/sklearn/utils/class_weight.py:81: FutureWarning: Calling float on a single element Series is deprecated and will raise a TypeError in the future. Use float(ser.iloc[0]) instead\n",
      "  weight[i] = class_weight[c]\n",
      "/Users/admin/Downloads/anaconda/anaconda3/envs/my_environment_A5005da/lib/python3.12/site-packages/sklearn/utils/class_weight.py:81: FutureWarning: Calling float on a single element Series is deprecated and will raise a TypeError in the future. Use float(ser.iloc[0]) instead\n",
      "  weight[i] = class_weight[c]\n",
      "/Users/admin/Downloads/anaconda/anaconda3/envs/my_environment_A5005da/lib/python3.12/site-packages/sklearn/utils/class_weight.py:81: FutureWarning: Calling float on a single element Series is deprecated and will raise a TypeError in the future. Use float(ser.iloc[0]) instead\n",
      "  weight[i] = class_weight[c]\n",
      "/Users/admin/Downloads/anaconda/anaconda3/envs/my_environment_A5005da/lib/python3.12/site-packages/sklearn/linear_model/_logistic.py:469: ConvergenceWarning: lbfgs failed to converge (status=1):\n",
      "STOP: TOTAL NO. of ITERATIONS REACHED LIMIT.\n",
      "\n",
      "Increase the number of iterations (max_iter) or scale the data as shown in:\n",
      "    https://scikit-learn.org/stable/modules/preprocessing.html\n",
      "Please also refer to the documentation for alternative solver options:\n",
      "    https://scikit-learn.org/stable/modules/linear_model.html#logistic-regression\n",
      "  n_iter_i = _check_optimize_result(\n",
      "/Users/admin/Downloads/anaconda/anaconda3/envs/my_environment_A5005da/lib/python3.12/site-packages/sklearn/utils/class_weight.py:81: FutureWarning: Calling float on a single element Series is deprecated and will raise a TypeError in the future. Use float(ser.iloc[0]) instead\n",
      "  weight[i] = class_weight[c]\n",
      "/Users/admin/Downloads/anaconda/anaconda3/envs/my_environment_A5005da/lib/python3.12/site-packages/sklearn/utils/class_weight.py:81: FutureWarning: Calling float on a single element Series is deprecated and will raise a TypeError in the future. Use float(ser.iloc[0]) instead\n",
      "  weight[i] = class_weight[c]\n",
      "/Users/admin/Downloads/anaconda/anaconda3/envs/my_environment_A5005da/lib/python3.12/site-packages/sklearn/linear_model/_logistic.py:469: ConvergenceWarning: lbfgs failed to converge (status=1):\n",
      "STOP: TOTAL NO. of ITERATIONS REACHED LIMIT.\n",
      "\n",
      "Increase the number of iterations (max_iter) or scale the data as shown in:\n",
      "    https://scikit-learn.org/stable/modules/preprocessing.html\n",
      "Please also refer to the documentation for alternative solver options:\n",
      "    https://scikit-learn.org/stable/modules/linear_model.html#logistic-regression\n",
      "  n_iter_i = _check_optimize_result(\n",
      "/Users/admin/Downloads/anaconda/anaconda3/envs/my_environment_A5005da/lib/python3.12/site-packages/sklearn/linear_model/_logistic.py:469: ConvergenceWarning: lbfgs failed to converge (status=1):\n",
      "STOP: TOTAL NO. of ITERATIONS REACHED LIMIT.\n",
      "\n",
      "Increase the number of iterations (max_iter) or scale the data as shown in:\n",
      "    https://scikit-learn.org/stable/modules/preprocessing.html\n",
      "Please also refer to the documentation for alternative solver options:\n",
      "    https://scikit-learn.org/stable/modules/linear_model.html#logistic-regression\n",
      "  n_iter_i = _check_optimize_result(\n",
      "/Users/admin/Downloads/anaconda/anaconda3/envs/my_environment_A5005da/lib/python3.12/site-packages/sklearn/utils/class_weight.py:81: FutureWarning: Calling float on a single element Series is deprecated and will raise a TypeError in the future. Use float(ser.iloc[0]) instead\n",
      "  weight[i] = class_weight[c]\n",
      "/Users/admin/Downloads/anaconda/anaconda3/envs/my_environment_A5005da/lib/python3.12/site-packages/sklearn/utils/class_weight.py:81: FutureWarning: Calling float on a single element Series is deprecated and will raise a TypeError in the future. Use float(ser.iloc[0]) instead\n",
      "  weight[i] = class_weight[c]\n",
      "/Users/admin/Downloads/anaconda/anaconda3/envs/my_environment_A5005da/lib/python3.12/site-packages/sklearn/linear_model/_logistic.py:469: ConvergenceWarning: lbfgs failed to converge (status=1):\n",
      "STOP: TOTAL NO. of ITERATIONS REACHED LIMIT.\n",
      "\n",
      "Increase the number of iterations (max_iter) or scale the data as shown in:\n",
      "    https://scikit-learn.org/stable/modules/preprocessing.html\n",
      "Please also refer to the documentation for alternative solver options:\n",
      "    https://scikit-learn.org/stable/modules/linear_model.html#logistic-regression\n",
      "  n_iter_i = _check_optimize_result(\n",
      "/Users/admin/Downloads/anaconda/anaconda3/envs/my_environment_A5005da/lib/python3.12/site-packages/sklearn/utils/class_weight.py:81: FutureWarning: Calling float on a single element Series is deprecated and will raise a TypeError in the future. Use float(ser.iloc[0]) instead\n",
      "  weight[i] = class_weight[c]\n",
      "/Users/admin/Downloads/anaconda/anaconda3/envs/my_environment_A5005da/lib/python3.12/site-packages/sklearn/utils/class_weight.py:81: FutureWarning: Calling float on a single element Series is deprecated and will raise a TypeError in the future. Use float(ser.iloc[0]) instead\n",
      "  weight[i] = class_weight[c]\n",
      "/Users/admin/Downloads/anaconda/anaconda3/envs/my_environment_A5005da/lib/python3.12/site-packages/sklearn/utils/class_weight.py:81: FutureWarning: Calling float on a single element Series is deprecated and will raise a TypeError in the future. Use float(ser.iloc[0]) instead\n",
      "  weight[i] = class_weight[c]\n",
      "/Users/admin/Downloads/anaconda/anaconda3/envs/my_environment_A5005da/lib/python3.12/site-packages/sklearn/linear_model/_logistic.py:469: ConvergenceWarning: lbfgs failed to converge (status=1):\n",
      "STOP: TOTAL NO. of ITERATIONS REACHED LIMIT.\n",
      "\n",
      "Increase the number of iterations (max_iter) or scale the data as shown in:\n",
      "    https://scikit-learn.org/stable/modules/preprocessing.html\n",
      "Please also refer to the documentation for alternative solver options:\n",
      "    https://scikit-learn.org/stable/modules/linear_model.html#logistic-regression\n",
      "  n_iter_i = _check_optimize_result(\n",
      "/Users/admin/Downloads/anaconda/anaconda3/envs/my_environment_A5005da/lib/python3.12/site-packages/sklearn/utils/class_weight.py:81: FutureWarning: Calling float on a single element Series is deprecated and will raise a TypeError in the future. Use float(ser.iloc[0]) instead\n",
      "  weight[i] = class_weight[c]\n",
      "/Users/admin/Downloads/anaconda/anaconda3/envs/my_environment_A5005da/lib/python3.12/site-packages/sklearn/utils/class_weight.py:81: FutureWarning: Calling float on a single element Series is deprecated and will raise a TypeError in the future. Use float(ser.iloc[0]) instead\n",
      "  weight[i] = class_weight[c]\n",
      "/Users/admin/Downloads/anaconda/anaconda3/envs/my_environment_A5005da/lib/python3.12/site-packages/sklearn/utils/class_weight.py:81: FutureWarning: Calling float on a single element Series is deprecated and will raise a TypeError in the future. Use float(ser.iloc[0]) instead\n",
      "  weight[i] = class_weight[c]\n",
      "/Users/admin/Downloads/anaconda/anaconda3/envs/my_environment_A5005da/lib/python3.12/site-packages/sklearn/linear_model/_logistic.py:469: ConvergenceWarning: lbfgs failed to converge (status=1):\n",
      "STOP: TOTAL NO. of ITERATIONS REACHED LIMIT.\n",
      "\n",
      "Increase the number of iterations (max_iter) or scale the data as shown in:\n",
      "    https://scikit-learn.org/stable/modules/preprocessing.html\n",
      "Please also refer to the documentation for alternative solver options:\n",
      "    https://scikit-learn.org/stable/modules/linear_model.html#logistic-regression\n",
      "  n_iter_i = _check_optimize_result(\n",
      "/Users/admin/Downloads/anaconda/anaconda3/envs/my_environment_A5005da/lib/python3.12/site-packages/sklearn/utils/class_weight.py:81: FutureWarning: Calling float on a single element Series is deprecated and will raise a TypeError in the future. Use float(ser.iloc[0]) instead\n",
      "  weight[i] = class_weight[c]\n",
      "/Users/admin/Downloads/anaconda/anaconda3/envs/my_environment_A5005da/lib/python3.12/site-packages/sklearn/utils/class_weight.py:81: FutureWarning: Calling float on a single element Series is deprecated and will raise a TypeError in the future. Use float(ser.iloc[0]) instead\n",
      "  weight[i] = class_weight[c]\n",
      "/Users/admin/Downloads/anaconda/anaconda3/envs/my_environment_A5005da/lib/python3.12/site-packages/sklearn/utils/class_weight.py:81: FutureWarning: Calling float on a single element Series is deprecated and will raise a TypeError in the future. Use float(ser.iloc[0]) instead\n",
      "  weight[i] = class_weight[c]\n",
      "/Users/admin/Downloads/anaconda/anaconda3/envs/my_environment_A5005da/lib/python3.12/site-packages/sklearn/linear_model/_logistic.py:469: ConvergenceWarning: lbfgs failed to converge (status=1):\n",
      "STOP: TOTAL NO. of ITERATIONS REACHED LIMIT.\n",
      "\n",
      "Increase the number of iterations (max_iter) or scale the data as shown in:\n",
      "    https://scikit-learn.org/stable/modules/preprocessing.html\n",
      "Please also refer to the documentation for alternative solver options:\n",
      "    https://scikit-learn.org/stable/modules/linear_model.html#logistic-regression\n",
      "  n_iter_i = _check_optimize_result(\n",
      "/Users/admin/Downloads/anaconda/anaconda3/envs/my_environment_A5005da/lib/python3.12/site-packages/sklearn/utils/class_weight.py:81: FutureWarning: Calling float on a single element Series is deprecated and will raise a TypeError in the future. Use float(ser.iloc[0]) instead\n",
      "  weight[i] = class_weight[c]\n",
      "/Users/admin/Downloads/anaconda/anaconda3/envs/my_environment_A5005da/lib/python3.12/site-packages/sklearn/utils/class_weight.py:81: FutureWarning: Calling float on a single element Series is deprecated and will raise a TypeError in the future. Use float(ser.iloc[0]) instead\n",
      "  weight[i] = class_weight[c]\n",
      "/Users/admin/Downloads/anaconda/anaconda3/envs/my_environment_A5005da/lib/python3.12/site-packages/sklearn/linear_model/_logistic.py:469: ConvergenceWarning: lbfgs failed to converge (status=1):\n",
      "STOP: TOTAL NO. of ITERATIONS REACHED LIMIT.\n",
      "\n",
      "Increase the number of iterations (max_iter) or scale the data as shown in:\n",
      "    https://scikit-learn.org/stable/modules/preprocessing.html\n",
      "Please also refer to the documentation for alternative solver options:\n",
      "    https://scikit-learn.org/stable/modules/linear_model.html#logistic-regression\n",
      "  n_iter_i = _check_optimize_result(\n",
      "/Users/admin/Downloads/anaconda/anaconda3/envs/my_environment_A5005da/lib/python3.12/site-packages/sklearn/linear_model/_logistic.py:469: ConvergenceWarning: lbfgs failed to converge (status=1):\n",
      "STOP: TOTAL NO. of ITERATIONS REACHED LIMIT.\n",
      "\n",
      "Increase the number of iterations (max_iter) or scale the data as shown in:\n",
      "    https://scikit-learn.org/stable/modules/preprocessing.html\n",
      "Please also refer to the documentation for alternative solver options:\n",
      "    https://scikit-learn.org/stable/modules/linear_model.html#logistic-regression\n",
      "  n_iter_i = _check_optimize_result(\n",
      "/Users/admin/Downloads/anaconda/anaconda3/envs/my_environment_A5005da/lib/python3.12/site-packages/sklearn/utils/class_weight.py:81: FutureWarning: Calling float on a single element Series is deprecated and will raise a TypeError in the future. Use float(ser.iloc[0]) instead\n",
      "  weight[i] = class_weight[c]\n",
      "/Users/admin/Downloads/anaconda/anaconda3/envs/my_environment_A5005da/lib/python3.12/site-packages/sklearn/utils/class_weight.py:81: FutureWarning: Calling float on a single element Series is deprecated and will raise a TypeError in the future. Use float(ser.iloc[0]) instead\n",
      "  weight[i] = class_weight[c]\n",
      "/Users/admin/Downloads/anaconda/anaconda3/envs/my_environment_A5005da/lib/python3.12/site-packages/sklearn/linear_model/_logistic.py:469: ConvergenceWarning: lbfgs failed to converge (status=1):\n",
      "STOP: TOTAL NO. of ITERATIONS REACHED LIMIT.\n",
      "\n",
      "Increase the number of iterations (max_iter) or scale the data as shown in:\n",
      "    https://scikit-learn.org/stable/modules/preprocessing.html\n",
      "Please also refer to the documentation for alternative solver options:\n",
      "    https://scikit-learn.org/stable/modules/linear_model.html#logistic-regression\n",
      "  n_iter_i = _check_optimize_result(\n",
      "/Users/admin/Downloads/anaconda/anaconda3/envs/my_environment_A5005da/lib/python3.12/site-packages/sklearn/utils/class_weight.py:81: FutureWarning: Calling float on a single element Series is deprecated and will raise a TypeError in the future. Use float(ser.iloc[0]) instead\n",
      "  weight[i] = class_weight[c]\n",
      "/Users/admin/Downloads/anaconda/anaconda3/envs/my_environment_A5005da/lib/python3.12/site-packages/sklearn/utils/class_weight.py:81: FutureWarning: Calling float on a single element Series is deprecated and will raise a TypeError in the future. Use float(ser.iloc[0]) instead\n",
      "  weight[i] = class_weight[c]\n",
      "/Users/admin/Downloads/anaconda/anaconda3/envs/my_environment_A5005da/lib/python3.12/site-packages/sklearn/linear_model/_logistic.py:469: ConvergenceWarning: lbfgs failed to converge (status=1):\n",
      "STOP: TOTAL NO. of ITERATIONS REACHED LIMIT.\n",
      "\n",
      "Increase the number of iterations (max_iter) or scale the data as shown in:\n",
      "    https://scikit-learn.org/stable/modules/preprocessing.html\n",
      "Please also refer to the documentation for alternative solver options:\n",
      "    https://scikit-learn.org/stable/modules/linear_model.html#logistic-regression\n",
      "  n_iter_i = _check_optimize_result(\n",
      "/Users/admin/Downloads/anaconda/anaconda3/envs/my_environment_A5005da/lib/python3.12/site-packages/sklearn/utils/class_weight.py:81: FutureWarning: Calling float on a single element Series is deprecated and will raise a TypeError in the future. Use float(ser.iloc[0]) instead\n",
      "  weight[i] = class_weight[c]\n",
      "/Users/admin/Downloads/anaconda/anaconda3/envs/my_environment_A5005da/lib/python3.12/site-packages/sklearn/linear_model/_logistic.py:469: ConvergenceWarning: lbfgs failed to converge (status=1):\n",
      "STOP: TOTAL NO. of ITERATIONS REACHED LIMIT.\n",
      "\n",
      "Increase the number of iterations (max_iter) or scale the data as shown in:\n",
      "    https://scikit-learn.org/stable/modules/preprocessing.html\n",
      "Please also refer to the documentation for alternative solver options:\n",
      "    https://scikit-learn.org/stable/modules/linear_model.html#logistic-regression\n",
      "  n_iter_i = _check_optimize_result(\n",
      "/Users/admin/Downloads/anaconda/anaconda3/envs/my_environment_A5005da/lib/python3.12/site-packages/sklearn/linear_model/_logistic.py:469: ConvergenceWarning: lbfgs failed to converge (status=1):\n",
      "STOP: TOTAL NO. of ITERATIONS REACHED LIMIT.\n",
      "\n",
      "Increase the number of iterations (max_iter) or scale the data as shown in:\n",
      "    https://scikit-learn.org/stable/modules/preprocessing.html\n",
      "Please also refer to the documentation for alternative solver options:\n",
      "    https://scikit-learn.org/stable/modules/linear_model.html#logistic-regression\n",
      "  n_iter_i = _check_optimize_result(\n",
      "/Users/admin/Downloads/anaconda/anaconda3/envs/my_environment_A5005da/lib/python3.12/site-packages/sklearn/utils/class_weight.py:81: FutureWarning: Calling float on a single element Series is deprecated and will raise a TypeError in the future. Use float(ser.iloc[0]) instead\n",
      "  weight[i] = class_weight[c]\n",
      "/Users/admin/Downloads/anaconda/anaconda3/envs/my_environment_A5005da/lib/python3.12/site-packages/sklearn/utils/class_weight.py:81: FutureWarning: Calling float on a single element Series is deprecated and will raise a TypeError in the future. Use float(ser.iloc[0]) instead\n",
      "  weight[i] = class_weight[c]\n",
      "/Users/admin/Downloads/anaconda/anaconda3/envs/my_environment_A5005da/lib/python3.12/site-packages/sklearn/utils/class_weight.py:81: FutureWarning: Calling float on a single element Series is deprecated and will raise a TypeError in the future. Use float(ser.iloc[0]) instead\n",
      "  weight[i] = class_weight[c]\n",
      "/Users/admin/Downloads/anaconda/anaconda3/envs/my_environment_A5005da/lib/python3.12/site-packages/sklearn/utils/class_weight.py:81: FutureWarning: Calling float on a single element Series is deprecated and will raise a TypeError in the future. Use float(ser.iloc[0]) instead\n",
      "  weight[i] = class_weight[c]\n",
      "/Users/admin/Downloads/anaconda/anaconda3/envs/my_environment_A5005da/lib/python3.12/site-packages/sklearn/utils/class_weight.py:81: FutureWarning: Calling float on a single element Series is deprecated and will raise a TypeError in the future. Use float(ser.iloc[0]) instead\n",
      "  weight[i] = class_weight[c]\n",
      "/Users/admin/Downloads/anaconda/anaconda3/envs/my_environment_A5005da/lib/python3.12/site-packages/sklearn/utils/class_weight.py:81: FutureWarning: Calling float on a single element Series is deprecated and will raise a TypeError in the future. Use float(ser.iloc[0]) instead\n",
      "  weight[i] = class_weight[c]\n"
     ]
    },
    {
     "name": "stdout",
     "output_type": "stream",
     "text": [
      "Logistic Regression completed. Test Accuracy: 0.4826\n",
      "Testing K-Nearest Neighbors...\n",
      "Fitting 5 folds for each of 46 candidates, totalling 230 fits\n",
      "K-Nearest Neighbors completed. Test Accuracy: 0.7961\n",
      "Testing Random Forest...\n",
      "Fitting 5 folds for each of 16 candidates, totalling 80 fits\n"
     ]
    },
    {
     "name": "stderr",
     "output_type": "stream",
     "text": [
      "/Users/admin/Downloads/anaconda/anaconda3/envs/my_environment_A5005da/lib/python3.12/site-packages/sklearn/utils/class_weight.py:81: FutureWarning: Calling float on a single element Series is deprecated and will raise a TypeError in the future. Use float(ser.iloc[0]) instead\n",
      "  weight[i] = class_weight[c]\n",
      "/Users/admin/Downloads/anaconda/anaconda3/envs/my_environment_A5005da/lib/python3.12/site-packages/sklearn/utils/class_weight.py:81: FutureWarning: Calling float on a single element Series is deprecated and will raise a TypeError in the future. Use float(ser.iloc[0]) instead\n",
      "  weight[i] = class_weight[c]\n",
      "/Users/admin/Downloads/anaconda/anaconda3/envs/my_environment_A5005da/lib/python3.12/site-packages/sklearn/utils/class_weight.py:81: FutureWarning: Calling float on a single element Series is deprecated and will raise a TypeError in the future. Use float(ser.iloc[0]) instead\n",
      "  weight[i] = class_weight[c]\n",
      "/Users/admin/Downloads/anaconda/anaconda3/envs/my_environment_A5005da/lib/python3.12/site-packages/sklearn/utils/class_weight.py:81: FutureWarning: Calling float on a single element Series is deprecated and will raise a TypeError in the future. Use float(ser.iloc[0]) instead\n",
      "  weight[i] = class_weight[c]\n",
      "/Users/admin/Downloads/anaconda/anaconda3/envs/my_environment_A5005da/lib/python3.12/site-packages/sklearn/utils/class_weight.py:81: FutureWarning: Calling float on a single element Series is deprecated and will raise a TypeError in the future. Use float(ser.iloc[0]) instead\n",
      "  weight[i] = class_weight[c]\n",
      "/Users/admin/Downloads/anaconda/anaconda3/envs/my_environment_A5005da/lib/python3.12/site-packages/sklearn/utils/class_weight.py:81: FutureWarning: Calling float on a single element Series is deprecated and will raise a TypeError in the future. Use float(ser.iloc[0]) instead\n",
      "  weight[i] = class_weight[c]\n",
      "/Users/admin/Downloads/anaconda/anaconda3/envs/my_environment_A5005da/lib/python3.12/site-packages/sklearn/utils/class_weight.py:81: FutureWarning: Calling float on a single element Series is deprecated and will raise a TypeError in the future. Use float(ser.iloc[0]) instead\n",
      "  weight[i] = class_weight[c]\n",
      "/Users/admin/Downloads/anaconda/anaconda3/envs/my_environment_A5005da/lib/python3.12/site-packages/sklearn/utils/class_weight.py:81: FutureWarning: Calling float on a single element Series is deprecated and will raise a TypeError in the future. Use float(ser.iloc[0]) instead\n",
      "  weight[i] = class_weight[c]\n",
      "/Users/admin/Downloads/anaconda/anaconda3/envs/my_environment_A5005da/lib/python3.12/site-packages/sklearn/utils/class_weight.py:81: FutureWarning: Calling float on a single element Series is deprecated and will raise a TypeError in the future. Use float(ser.iloc[0]) instead\n",
      "  weight[i] = class_weight[c]\n",
      "/Users/admin/Downloads/anaconda/anaconda3/envs/my_environment_A5005da/lib/python3.12/site-packages/sklearn/utils/class_weight.py:81: FutureWarning: Calling float on a single element Series is deprecated and will raise a TypeError in the future. Use float(ser.iloc[0]) instead\n",
      "  weight[i] = class_weight[c]\n",
      "/Users/admin/Downloads/anaconda/anaconda3/envs/my_environment_A5005da/lib/python3.12/site-packages/sklearn/utils/class_weight.py:81: FutureWarning: Calling float on a single element Series is deprecated and will raise a TypeError in the future. Use float(ser.iloc[0]) instead\n",
      "  weight[i] = class_weight[c]\n",
      "/Users/admin/Downloads/anaconda/anaconda3/envs/my_environment_A5005da/lib/python3.12/site-packages/sklearn/utils/class_weight.py:81: FutureWarning: Calling float on a single element Series is deprecated and will raise a TypeError in the future. Use float(ser.iloc[0]) instead\n",
      "  weight[i] = class_weight[c]\n",
      "/Users/admin/Downloads/anaconda/anaconda3/envs/my_environment_A5005da/lib/python3.12/site-packages/sklearn/utils/class_weight.py:81: FutureWarning: Calling float on a single element Series is deprecated and will raise a TypeError in the future. Use float(ser.iloc[0]) instead\n",
      "  weight[i] = class_weight[c]\n",
      "/Users/admin/Downloads/anaconda/anaconda3/envs/my_environment_A5005da/lib/python3.12/site-packages/sklearn/utils/class_weight.py:81: FutureWarning: Calling float on a single element Series is deprecated and will raise a TypeError in the future. Use float(ser.iloc[0]) instead\n",
      "  weight[i] = class_weight[c]\n",
      "/Users/admin/Downloads/anaconda/anaconda3/envs/my_environment_A5005da/lib/python3.12/site-packages/sklearn/utils/class_weight.py:81: FutureWarning: Calling float on a single element Series is deprecated and will raise a TypeError in the future. Use float(ser.iloc[0]) instead\n",
      "  weight[i] = class_weight[c]\n",
      "/Users/admin/Downloads/anaconda/anaconda3/envs/my_environment_A5005da/lib/python3.12/site-packages/sklearn/utils/class_weight.py:81: FutureWarning: Calling float on a single element Series is deprecated and will raise a TypeError in the future. Use float(ser.iloc[0]) instead\n",
      "  weight[i] = class_weight[c]\n",
      "/Users/admin/Downloads/anaconda/anaconda3/envs/my_environment_A5005da/lib/python3.12/site-packages/sklearn/utils/class_weight.py:81: FutureWarning: Calling float on a single element Series is deprecated and will raise a TypeError in the future. Use float(ser.iloc[0]) instead\n",
      "  weight[i] = class_weight[c]\n",
      "/Users/admin/Downloads/anaconda/anaconda3/envs/my_environment_A5005da/lib/python3.12/site-packages/sklearn/utils/class_weight.py:81: FutureWarning: Calling float on a single element Series is deprecated and will raise a TypeError in the future. Use float(ser.iloc[0]) instead\n",
      "  weight[i] = class_weight[c]\n",
      "/Users/admin/Downloads/anaconda/anaconda3/envs/my_environment_A5005da/lib/python3.12/site-packages/sklearn/utils/class_weight.py:81: FutureWarning: Calling float on a single element Series is deprecated and will raise a TypeError in the future. Use float(ser.iloc[0]) instead\n",
      "  weight[i] = class_weight[c]\n",
      "/Users/admin/Downloads/anaconda/anaconda3/envs/my_environment_A5005da/lib/python3.12/site-packages/sklearn/utils/class_weight.py:81: FutureWarning: Calling float on a single element Series is deprecated and will raise a TypeError in the future. Use float(ser.iloc[0]) instead\n",
      "  weight[i] = class_weight[c]\n",
      "/Users/admin/Downloads/anaconda/anaconda3/envs/my_environment_A5005da/lib/python3.12/site-packages/sklearn/utils/class_weight.py:81: FutureWarning: Calling float on a single element Series is deprecated and will raise a TypeError in the future. Use float(ser.iloc[0]) instead\n",
      "  weight[i] = class_weight[c]\n",
      "/Users/admin/Downloads/anaconda/anaconda3/envs/my_environment_A5005da/lib/python3.12/site-packages/sklearn/utils/class_weight.py:81: FutureWarning: Calling float on a single element Series is deprecated and will raise a TypeError in the future. Use float(ser.iloc[0]) instead\n",
      "  weight[i] = class_weight[c]\n",
      "/Users/admin/Downloads/anaconda/anaconda3/envs/my_environment_A5005da/lib/python3.12/site-packages/sklearn/utils/class_weight.py:81: FutureWarning: Calling float on a single element Series is deprecated and will raise a TypeError in the future. Use float(ser.iloc[0]) instead\n",
      "  weight[i] = class_weight[c]\n",
      "/Users/admin/Downloads/anaconda/anaconda3/envs/my_environment_A5005da/lib/python3.12/site-packages/sklearn/utils/class_weight.py:81: FutureWarning: Calling float on a single element Series is deprecated and will raise a TypeError in the future. Use float(ser.iloc[0]) instead\n",
      "  weight[i] = class_weight[c]\n",
      "/Users/admin/Downloads/anaconda/anaconda3/envs/my_environment_A5005da/lib/python3.12/site-packages/sklearn/utils/class_weight.py:81: FutureWarning: Calling float on a single element Series is deprecated and will raise a TypeError in the future. Use float(ser.iloc[0]) instead\n",
      "  weight[i] = class_weight[c]\n",
      "/Users/admin/Downloads/anaconda/anaconda3/envs/my_environment_A5005da/lib/python3.12/site-packages/sklearn/utils/class_weight.py:81: FutureWarning: Calling float on a single element Series is deprecated and will raise a TypeError in the future. Use float(ser.iloc[0]) instead\n",
      "  weight[i] = class_weight[c]\n",
      "/Users/admin/Downloads/anaconda/anaconda3/envs/my_environment_A5005da/lib/python3.12/site-packages/sklearn/utils/class_weight.py:81: FutureWarning: Calling float on a single element Series is deprecated and will raise a TypeError in the future. Use float(ser.iloc[0]) instead\n",
      "  weight[i] = class_weight[c]\n",
      "/Users/admin/Downloads/anaconda/anaconda3/envs/my_environment_A5005da/lib/python3.12/site-packages/sklearn/utils/class_weight.py:81: FutureWarning: Calling float on a single element Series is deprecated and will raise a TypeError in the future. Use float(ser.iloc[0]) instead\n",
      "  weight[i] = class_weight[c]\n",
      "/Users/admin/Downloads/anaconda/anaconda3/envs/my_environment_A5005da/lib/python3.12/site-packages/sklearn/utils/class_weight.py:81: FutureWarning: Calling float on a single element Series is deprecated and will raise a TypeError in the future. Use float(ser.iloc[0]) instead\n",
      "  weight[i] = class_weight[c]\n",
      "/Users/admin/Downloads/anaconda/anaconda3/envs/my_environment_A5005da/lib/python3.12/site-packages/sklearn/utils/class_weight.py:81: FutureWarning: Calling float on a single element Series is deprecated and will raise a TypeError in the future. Use float(ser.iloc[0]) instead\n",
      "  weight[i] = class_weight[c]\n",
      "/Users/admin/Downloads/anaconda/anaconda3/envs/my_environment_A5005da/lib/python3.12/site-packages/sklearn/utils/class_weight.py:81: FutureWarning: Calling float on a single element Series is deprecated and will raise a TypeError in the future. Use float(ser.iloc[0]) instead\n",
      "  weight[i] = class_weight[c]\n",
      "/Users/admin/Downloads/anaconda/anaconda3/envs/my_environment_A5005da/lib/python3.12/site-packages/sklearn/utils/class_weight.py:81: FutureWarning: Calling float on a single element Series is deprecated and will raise a TypeError in the future. Use float(ser.iloc[0]) instead\n",
      "  weight[i] = class_weight[c]\n",
      "/Users/admin/Downloads/anaconda/anaconda3/envs/my_environment_A5005da/lib/python3.12/site-packages/sklearn/utils/class_weight.py:81: FutureWarning: Calling float on a single element Series is deprecated and will raise a TypeError in the future. Use float(ser.iloc[0]) instead\n",
      "  weight[i] = class_weight[c]\n",
      "/Users/admin/Downloads/anaconda/anaconda3/envs/my_environment_A5005da/lib/python3.12/site-packages/sklearn/utils/class_weight.py:81: FutureWarning: Calling float on a single element Series is deprecated and will raise a TypeError in the future. Use float(ser.iloc[0]) instead\n",
      "  weight[i] = class_weight[c]\n",
      "/Users/admin/Downloads/anaconda/anaconda3/envs/my_environment_A5005da/lib/python3.12/site-packages/sklearn/utils/class_weight.py:81: FutureWarning: Calling float on a single element Series is deprecated and will raise a TypeError in the future. Use float(ser.iloc[0]) instead\n",
      "  weight[i] = class_weight[c]\n",
      "/Users/admin/Downloads/anaconda/anaconda3/envs/my_environment_A5005da/lib/python3.12/site-packages/sklearn/utils/class_weight.py:81: FutureWarning: Calling float on a single element Series is deprecated and will raise a TypeError in the future. Use float(ser.iloc[0]) instead\n",
      "  weight[i] = class_weight[c]\n",
      "/Users/admin/Downloads/anaconda/anaconda3/envs/my_environment_A5005da/lib/python3.12/site-packages/sklearn/utils/class_weight.py:81: FutureWarning: Calling float on a single element Series is deprecated and will raise a TypeError in the future. Use float(ser.iloc[0]) instead\n",
      "  weight[i] = class_weight[c]\n",
      "/Users/admin/Downloads/anaconda/anaconda3/envs/my_environment_A5005da/lib/python3.12/site-packages/sklearn/utils/class_weight.py:81: FutureWarning: Calling float on a single element Series is deprecated and will raise a TypeError in the future. Use float(ser.iloc[0]) instead\n",
      "  weight[i] = class_weight[c]\n",
      "/Users/admin/Downloads/anaconda/anaconda3/envs/my_environment_A5005da/lib/python3.12/site-packages/sklearn/utils/class_weight.py:81: FutureWarning: Calling float on a single element Series is deprecated and will raise a TypeError in the future. Use float(ser.iloc[0]) instead\n",
      "  weight[i] = class_weight[c]\n",
      "/Users/admin/Downloads/anaconda/anaconda3/envs/my_environment_A5005da/lib/python3.12/site-packages/sklearn/utils/class_weight.py:81: FutureWarning: Calling float on a single element Series is deprecated and will raise a TypeError in the future. Use float(ser.iloc[0]) instead\n",
      "  weight[i] = class_weight[c]\n",
      "/Users/admin/Downloads/anaconda/anaconda3/envs/my_environment_A5005da/lib/python3.12/site-packages/sklearn/utils/class_weight.py:81: FutureWarning: Calling float on a single element Series is deprecated and will raise a TypeError in the future. Use float(ser.iloc[0]) instead\n",
      "  weight[i] = class_weight[c]\n",
      "/Users/admin/Downloads/anaconda/anaconda3/envs/my_environment_A5005da/lib/python3.12/site-packages/sklearn/utils/class_weight.py:81: FutureWarning: Calling float on a single element Series is deprecated and will raise a TypeError in the future. Use float(ser.iloc[0]) instead\n",
      "  weight[i] = class_weight[c]\n",
      "/Users/admin/Downloads/anaconda/anaconda3/envs/my_environment_A5005da/lib/python3.12/site-packages/sklearn/utils/class_weight.py:81: FutureWarning: Calling float on a single element Series is deprecated and will raise a TypeError in the future. Use float(ser.iloc[0]) instead\n",
      "  weight[i] = class_weight[c]\n",
      "/Users/admin/Downloads/anaconda/anaconda3/envs/my_environment_A5005da/lib/python3.12/site-packages/sklearn/utils/class_weight.py:81: FutureWarning: Calling float on a single element Series is deprecated and will raise a TypeError in the future. Use float(ser.iloc[0]) instead\n",
      "  weight[i] = class_weight[c]\n",
      "/Users/admin/Downloads/anaconda/anaconda3/envs/my_environment_A5005da/lib/python3.12/site-packages/sklearn/utils/class_weight.py:81: FutureWarning: Calling float on a single element Series is deprecated and will raise a TypeError in the future. Use float(ser.iloc[0]) instead\n",
      "  weight[i] = class_weight[c]\n",
      "/Users/admin/Downloads/anaconda/anaconda3/envs/my_environment_A5005da/lib/python3.12/site-packages/sklearn/utils/class_weight.py:81: FutureWarning: Calling float on a single element Series is deprecated and will raise a TypeError in the future. Use float(ser.iloc[0]) instead\n",
      "  weight[i] = class_weight[c]\n",
      "/Users/admin/Downloads/anaconda/anaconda3/envs/my_environment_A5005da/lib/python3.12/site-packages/sklearn/utils/class_weight.py:81: FutureWarning: Calling float on a single element Series is deprecated and will raise a TypeError in the future. Use float(ser.iloc[0]) instead\n",
      "  weight[i] = class_weight[c]\n",
      "/Users/admin/Downloads/anaconda/anaconda3/envs/my_environment_A5005da/lib/python3.12/site-packages/sklearn/utils/class_weight.py:81: FutureWarning: Calling float on a single element Series is deprecated and will raise a TypeError in the future. Use float(ser.iloc[0]) instead\n",
      "  weight[i] = class_weight[c]\n",
      "/Users/admin/Downloads/anaconda/anaconda3/envs/my_environment_A5005da/lib/python3.12/site-packages/sklearn/utils/class_weight.py:81: FutureWarning: Calling float on a single element Series is deprecated and will raise a TypeError in the future. Use float(ser.iloc[0]) instead\n",
      "  weight[i] = class_weight[c]\n",
      "/Users/admin/Downloads/anaconda/anaconda3/envs/my_environment_A5005da/lib/python3.12/site-packages/sklearn/utils/class_weight.py:81: FutureWarning: Calling float on a single element Series is deprecated and will raise a TypeError in the future. Use float(ser.iloc[0]) instead\n",
      "  weight[i] = class_weight[c]\n",
      "/Users/admin/Downloads/anaconda/anaconda3/envs/my_environment_A5005da/lib/python3.12/site-packages/sklearn/utils/class_weight.py:81: FutureWarning: Calling float on a single element Series is deprecated and will raise a TypeError in the future. Use float(ser.iloc[0]) instead\n",
      "  weight[i] = class_weight[c]\n",
      "/Users/admin/Downloads/anaconda/anaconda3/envs/my_environment_A5005da/lib/python3.12/site-packages/sklearn/utils/class_weight.py:81: FutureWarning: Calling float on a single element Series is deprecated and will raise a TypeError in the future. Use float(ser.iloc[0]) instead\n",
      "  weight[i] = class_weight[c]\n",
      "/Users/admin/Downloads/anaconda/anaconda3/envs/my_environment_A5005da/lib/python3.12/site-packages/sklearn/utils/class_weight.py:81: FutureWarning: Calling float on a single element Series is deprecated and will raise a TypeError in the future. Use float(ser.iloc[0]) instead\n",
      "  weight[i] = class_weight[c]\n",
      "/Users/admin/Downloads/anaconda/anaconda3/envs/my_environment_A5005da/lib/python3.12/site-packages/sklearn/utils/class_weight.py:81: FutureWarning: Calling float on a single element Series is deprecated and will raise a TypeError in the future. Use float(ser.iloc[0]) instead\n",
      "  weight[i] = class_weight[c]\n",
      "/Users/admin/Downloads/anaconda/anaconda3/envs/my_environment_A5005da/lib/python3.12/site-packages/sklearn/utils/class_weight.py:81: FutureWarning: Calling float on a single element Series is deprecated and will raise a TypeError in the future. Use float(ser.iloc[0]) instead\n",
      "  weight[i] = class_weight[c]\n",
      "/Users/admin/Downloads/anaconda/anaconda3/envs/my_environment_A5005da/lib/python3.12/site-packages/sklearn/utils/class_weight.py:81: FutureWarning: Calling float on a single element Series is deprecated and will raise a TypeError in the future. Use float(ser.iloc[0]) instead\n",
      "  weight[i] = class_weight[c]\n",
      "/Users/admin/Downloads/anaconda/anaconda3/envs/my_environment_A5005da/lib/python3.12/site-packages/sklearn/utils/class_weight.py:81: FutureWarning: Calling float on a single element Series is deprecated and will raise a TypeError in the future. Use float(ser.iloc[0]) instead\n",
      "  weight[i] = class_weight[c]\n",
      "/Users/admin/Downloads/anaconda/anaconda3/envs/my_environment_A5005da/lib/python3.12/site-packages/sklearn/utils/class_weight.py:81: FutureWarning: Calling float on a single element Series is deprecated and will raise a TypeError in the future. Use float(ser.iloc[0]) instead\n",
      "  weight[i] = class_weight[c]\n",
      "/Users/admin/Downloads/anaconda/anaconda3/envs/my_environment_A5005da/lib/python3.12/site-packages/sklearn/utils/class_weight.py:81: FutureWarning: Calling float on a single element Series is deprecated and will raise a TypeError in the future. Use float(ser.iloc[0]) instead\n",
      "  weight[i] = class_weight[c]\n",
      "/Users/admin/Downloads/anaconda/anaconda3/envs/my_environment_A5005da/lib/python3.12/site-packages/sklearn/utils/class_weight.py:81: FutureWarning: Calling float on a single element Series is deprecated and will raise a TypeError in the future. Use float(ser.iloc[0]) instead\n",
      "  weight[i] = class_weight[c]\n",
      "/Users/admin/Downloads/anaconda/anaconda3/envs/my_environment_A5005da/lib/python3.12/site-packages/sklearn/utils/class_weight.py:81: FutureWarning: Calling float on a single element Series is deprecated and will raise a TypeError in the future. Use float(ser.iloc[0]) instead\n",
      "  weight[i] = class_weight[c]\n",
      "/Users/admin/Downloads/anaconda/anaconda3/envs/my_environment_A5005da/lib/python3.12/site-packages/sklearn/utils/class_weight.py:81: FutureWarning: Calling float on a single element Series is deprecated and will raise a TypeError in the future. Use float(ser.iloc[0]) instead\n",
      "  weight[i] = class_weight[c]\n",
      "/Users/admin/Downloads/anaconda/anaconda3/envs/my_environment_A5005da/lib/python3.12/site-packages/sklearn/utils/class_weight.py:81: FutureWarning: Calling float on a single element Series is deprecated and will raise a TypeError in the future. Use float(ser.iloc[0]) instead\n",
      "  weight[i] = class_weight[c]\n",
      "/Users/admin/Downloads/anaconda/anaconda3/envs/my_environment_A5005da/lib/python3.12/site-packages/sklearn/utils/class_weight.py:81: FutureWarning: Calling float on a single element Series is deprecated and will raise a TypeError in the future. Use float(ser.iloc[0]) instead\n",
      "  weight[i] = class_weight[c]\n",
      "/Users/admin/Downloads/anaconda/anaconda3/envs/my_environment_A5005da/lib/python3.12/site-packages/sklearn/utils/class_weight.py:81: FutureWarning: Calling float on a single element Series is deprecated and will raise a TypeError in the future. Use float(ser.iloc[0]) instead\n",
      "  weight[i] = class_weight[c]\n",
      "/Users/admin/Downloads/anaconda/anaconda3/envs/my_environment_A5005da/lib/python3.12/site-packages/sklearn/utils/class_weight.py:81: FutureWarning: Calling float on a single element Series is deprecated and will raise a TypeError in the future. Use float(ser.iloc[0]) instead\n",
      "  weight[i] = class_weight[c]\n",
      "/Users/admin/Downloads/anaconda/anaconda3/envs/my_environment_A5005da/lib/python3.12/site-packages/sklearn/utils/class_weight.py:81: FutureWarning: Calling float on a single element Series is deprecated and will raise a TypeError in the future. Use float(ser.iloc[0]) instead\n",
      "  weight[i] = class_weight[c]\n",
      "/Users/admin/Downloads/anaconda/anaconda3/envs/my_environment_A5005da/lib/python3.12/site-packages/sklearn/utils/class_weight.py:81: FutureWarning: Calling float on a single element Series is deprecated and will raise a TypeError in the future. Use float(ser.iloc[0]) instead\n",
      "  weight[i] = class_weight[c]\n",
      "/Users/admin/Downloads/anaconda/anaconda3/envs/my_environment_A5005da/lib/python3.12/site-packages/sklearn/utils/class_weight.py:81: FutureWarning: Calling float on a single element Series is deprecated and will raise a TypeError in the future. Use float(ser.iloc[0]) instead\n",
      "  weight[i] = class_weight[c]\n",
      "/Users/admin/Downloads/anaconda/anaconda3/envs/my_environment_A5005da/lib/python3.12/site-packages/sklearn/utils/class_weight.py:81: FutureWarning: Calling float on a single element Series is deprecated and will raise a TypeError in the future. Use float(ser.iloc[0]) instead\n",
      "  weight[i] = class_weight[c]\n",
      "/Users/admin/Downloads/anaconda/anaconda3/envs/my_environment_A5005da/lib/python3.12/site-packages/sklearn/utils/class_weight.py:81: FutureWarning: Calling float on a single element Series is deprecated and will raise a TypeError in the future. Use float(ser.iloc[0]) instead\n",
      "  weight[i] = class_weight[c]\n",
      "/Users/admin/Downloads/anaconda/anaconda3/envs/my_environment_A5005da/lib/python3.12/site-packages/sklearn/utils/class_weight.py:81: FutureWarning: Calling float on a single element Series is deprecated and will raise a TypeError in the future. Use float(ser.iloc[0]) instead\n",
      "  weight[i] = class_weight[c]\n",
      "/Users/admin/Downloads/anaconda/anaconda3/envs/my_environment_A5005da/lib/python3.12/site-packages/sklearn/utils/class_weight.py:81: FutureWarning: Calling float on a single element Series is deprecated and will raise a TypeError in the future. Use float(ser.iloc[0]) instead\n",
      "  weight[i] = class_weight[c]\n",
      "/Users/admin/Downloads/anaconda/anaconda3/envs/my_environment_A5005da/lib/python3.12/site-packages/sklearn/utils/class_weight.py:81: FutureWarning: Calling float on a single element Series is deprecated and will raise a TypeError in the future. Use float(ser.iloc[0]) instead\n",
      "  weight[i] = class_weight[c]\n",
      "/Users/admin/Downloads/anaconda/anaconda3/envs/my_environment_A5005da/lib/python3.12/site-packages/sklearn/utils/class_weight.py:81: FutureWarning: Calling float on a single element Series is deprecated and will raise a TypeError in the future. Use float(ser.iloc[0]) instead\n",
      "  weight[i] = class_weight[c]\n",
      "/Users/admin/Downloads/anaconda/anaconda3/envs/my_environment_A5005da/lib/python3.12/site-packages/sklearn/utils/class_weight.py:81: FutureWarning: Calling float on a single element Series is deprecated and will raise a TypeError in the future. Use float(ser.iloc[0]) instead\n",
      "  weight[i] = class_weight[c]\n",
      "/Users/admin/Downloads/anaconda/anaconda3/envs/my_environment_A5005da/lib/python3.12/site-packages/sklearn/utils/class_weight.py:81: FutureWarning: Calling float on a single element Series is deprecated and will raise a TypeError in the future. Use float(ser.iloc[0]) instead\n",
      "  weight[i] = class_weight[c]\n",
      "/Users/admin/Downloads/anaconda/anaconda3/envs/my_environment_A5005da/lib/python3.12/site-packages/sklearn/utils/class_weight.py:81: FutureWarning: Calling float on a single element Series is deprecated and will raise a TypeError in the future. Use float(ser.iloc[0]) instead\n",
      "  weight[i] = class_weight[c]\n",
      "/Users/admin/Downloads/anaconda/anaconda3/envs/my_environment_A5005da/lib/python3.12/site-packages/sklearn/utils/class_weight.py:81: FutureWarning: Calling float on a single element Series is deprecated and will raise a TypeError in the future. Use float(ser.iloc[0]) instead\n",
      "  weight[i] = class_weight[c]\n",
      "/Users/admin/Downloads/anaconda/anaconda3/envs/my_environment_A5005da/lib/python3.12/site-packages/sklearn/utils/class_weight.py:81: FutureWarning: Calling float on a single element Series is deprecated and will raise a TypeError in the future. Use float(ser.iloc[0]) instead\n",
      "  weight[i] = class_weight[c]\n",
      "/Users/admin/Downloads/anaconda/anaconda3/envs/my_environment_A5005da/lib/python3.12/site-packages/sklearn/utils/class_weight.py:81: FutureWarning: Calling float on a single element Series is deprecated and will raise a TypeError in the future. Use float(ser.iloc[0]) instead\n",
      "  weight[i] = class_weight[c]\n"
     ]
    },
    {
     "name": "stdout",
     "output_type": "stream",
     "text": [
      "Random Forest completed. Test Accuracy: 0.9974\n",
      "Testing Decision Tree...\n",
      "Fitting 5 folds for each of 12 candidates, totalling 60 fits\n"
     ]
    },
    {
     "name": "stderr",
     "output_type": "stream",
     "text": [
      "/Users/admin/Downloads/anaconda/anaconda3/envs/my_environment_A5005da/lib/python3.12/site-packages/sklearn/utils/class_weight.py:81: FutureWarning: Calling float on a single element Series is deprecated and will raise a TypeError in the future. Use float(ser.iloc[0]) instead\n",
      "  weight[i] = class_weight[c]\n",
      "/Users/admin/Downloads/anaconda/anaconda3/envs/my_environment_A5005da/lib/python3.12/site-packages/sklearn/utils/class_weight.py:81: FutureWarning: Calling float on a single element Series is deprecated and will raise a TypeError in the future. Use float(ser.iloc[0]) instead\n",
      "  weight[i] = class_weight[c]\n",
      "/Users/admin/Downloads/anaconda/anaconda3/envs/my_environment_A5005da/lib/python3.12/site-packages/sklearn/utils/class_weight.py:81: FutureWarning: Calling float on a single element Series is deprecated and will raise a TypeError in the future. Use float(ser.iloc[0]) instead\n",
      "  weight[i] = class_weight[c]\n",
      "/Users/admin/Downloads/anaconda/anaconda3/envs/my_environment_A5005da/lib/python3.12/site-packages/sklearn/utils/class_weight.py:81: FutureWarning: Calling float on a single element Series is deprecated and will raise a TypeError in the future. Use float(ser.iloc[0]) instead\n",
      "  weight[i] = class_weight[c]\n",
      "/Users/admin/Downloads/anaconda/anaconda3/envs/my_environment_A5005da/lib/python3.12/site-packages/sklearn/utils/class_weight.py:81: FutureWarning: Calling float on a single element Series is deprecated and will raise a TypeError in the future. Use float(ser.iloc[0]) instead\n",
      "  weight[i] = class_weight[c]\n",
      "/Users/admin/Downloads/anaconda/anaconda3/envs/my_environment_A5005da/lib/python3.12/site-packages/sklearn/utils/class_weight.py:81: FutureWarning: Calling float on a single element Series is deprecated and will raise a TypeError in the future. Use float(ser.iloc[0]) instead\n",
      "  weight[i] = class_weight[c]\n",
      "/Users/admin/Downloads/anaconda/anaconda3/envs/my_environment_A5005da/lib/python3.12/site-packages/sklearn/utils/class_weight.py:81: FutureWarning: Calling float on a single element Series is deprecated and will raise a TypeError in the future. Use float(ser.iloc[0]) instead\n",
      "  weight[i] = class_weight[c]\n",
      "/Users/admin/Downloads/anaconda/anaconda3/envs/my_environment_A5005da/lib/python3.12/site-packages/sklearn/utils/class_weight.py:81: FutureWarning: Calling float on a single element Series is deprecated and will raise a TypeError in the future. Use float(ser.iloc[0]) instead\n",
      "  weight[i] = class_weight[c]\n",
      "/Users/admin/Downloads/anaconda/anaconda3/envs/my_environment_A5005da/lib/python3.12/site-packages/sklearn/utils/class_weight.py:81: FutureWarning: Calling float on a single element Series is deprecated and will raise a TypeError in the future. Use float(ser.iloc[0]) instead\n",
      "  weight[i] = class_weight[c]\n",
      "/Users/admin/Downloads/anaconda/anaconda3/envs/my_environment_A5005da/lib/python3.12/site-packages/sklearn/utils/class_weight.py:81: FutureWarning: Calling float on a single element Series is deprecated and will raise a TypeError in the future. Use float(ser.iloc[0]) instead\n",
      "  weight[i] = class_weight[c]\n",
      "/Users/admin/Downloads/anaconda/anaconda3/envs/my_environment_A5005da/lib/python3.12/site-packages/sklearn/utils/class_weight.py:81: FutureWarning: Calling float on a single element Series is deprecated and will raise a TypeError in the future. Use float(ser.iloc[0]) instead\n",
      "  weight[i] = class_weight[c]\n",
      "/Users/admin/Downloads/anaconda/anaconda3/envs/my_environment_A5005da/lib/python3.12/site-packages/sklearn/utils/class_weight.py:81: FutureWarning: Calling float on a single element Series is deprecated and will raise a TypeError in the future. Use float(ser.iloc[0]) instead\n",
      "  weight[i] = class_weight[c]\n",
      "/Users/admin/Downloads/anaconda/anaconda3/envs/my_environment_A5005da/lib/python3.12/site-packages/sklearn/utils/class_weight.py:81: FutureWarning: Calling float on a single element Series is deprecated and will raise a TypeError in the future. Use float(ser.iloc[0]) instead\n",
      "  weight[i] = class_weight[c]\n",
      "/Users/admin/Downloads/anaconda/anaconda3/envs/my_environment_A5005da/lib/python3.12/site-packages/sklearn/utils/class_weight.py:81: FutureWarning: Calling float on a single element Series is deprecated and will raise a TypeError in the future. Use float(ser.iloc[0]) instead\n",
      "  weight[i] = class_weight[c]\n",
      "/Users/admin/Downloads/anaconda/anaconda3/envs/my_environment_A5005da/lib/python3.12/site-packages/sklearn/utils/class_weight.py:81: FutureWarning: Calling float on a single element Series is deprecated and will raise a TypeError in the future. Use float(ser.iloc[0]) instead\n",
      "  weight[i] = class_weight[c]\n",
      "/Users/admin/Downloads/anaconda/anaconda3/envs/my_environment_A5005da/lib/python3.12/site-packages/sklearn/utils/class_weight.py:81: FutureWarning: Calling float on a single element Series is deprecated and will raise a TypeError in the future. Use float(ser.iloc[0]) instead\n",
      "  weight[i] = class_weight[c]\n",
      "/Users/admin/Downloads/anaconda/anaconda3/envs/my_environment_A5005da/lib/python3.12/site-packages/sklearn/utils/class_weight.py:81: FutureWarning: Calling float on a single element Series is deprecated and will raise a TypeError in the future. Use float(ser.iloc[0]) instead\n",
      "  weight[i] = class_weight[c]\n",
      "/Users/admin/Downloads/anaconda/anaconda3/envs/my_environment_A5005da/lib/python3.12/site-packages/sklearn/utils/class_weight.py:81: FutureWarning: Calling float on a single element Series is deprecated and will raise a TypeError in the future. Use float(ser.iloc[0]) instead\n",
      "  weight[i] = class_weight[c]\n",
      "/Users/admin/Downloads/anaconda/anaconda3/envs/my_environment_A5005da/lib/python3.12/site-packages/sklearn/utils/class_weight.py:81: FutureWarning: Calling float on a single element Series is deprecated and will raise a TypeError in the future. Use float(ser.iloc[0]) instead\n",
      "  weight[i] = class_weight[c]\n",
      "/Users/admin/Downloads/anaconda/anaconda3/envs/my_environment_A5005da/lib/python3.12/site-packages/sklearn/utils/class_weight.py:81: FutureWarning: Calling float on a single element Series is deprecated and will raise a TypeError in the future. Use float(ser.iloc[0]) instead\n",
      "  weight[i] = class_weight[c]\n",
      "/Users/admin/Downloads/anaconda/anaconda3/envs/my_environment_A5005da/lib/python3.12/site-packages/sklearn/utils/class_weight.py:81: FutureWarning: Calling float on a single element Series is deprecated and will raise a TypeError in the future. Use float(ser.iloc[0]) instead\n",
      "  weight[i] = class_weight[c]\n",
      "/Users/admin/Downloads/anaconda/anaconda3/envs/my_environment_A5005da/lib/python3.12/site-packages/sklearn/utils/class_weight.py:81: FutureWarning: Calling float on a single element Series is deprecated and will raise a TypeError in the future. Use float(ser.iloc[0]) instead\n",
      "  weight[i] = class_weight[c]\n",
      "/Users/admin/Downloads/anaconda/anaconda3/envs/my_environment_A5005da/lib/python3.12/site-packages/sklearn/utils/class_weight.py:81: FutureWarning: Calling float on a single element Series is deprecated and will raise a TypeError in the future. Use float(ser.iloc[0]) instead\n",
      "  weight[i] = class_weight[c]\n",
      "/Users/admin/Downloads/anaconda/anaconda3/envs/my_environment_A5005da/lib/python3.12/site-packages/sklearn/utils/class_weight.py:81: FutureWarning: Calling float on a single element Series is deprecated and will raise a TypeError in the future. Use float(ser.iloc[0]) instead\n",
      "  weight[i] = class_weight[c]\n",
      "/Users/admin/Downloads/anaconda/anaconda3/envs/my_environment_A5005da/lib/python3.12/site-packages/sklearn/utils/class_weight.py:81: FutureWarning: Calling float on a single element Series is deprecated and will raise a TypeError in the future. Use float(ser.iloc[0]) instead\n",
      "  weight[i] = class_weight[c]\n",
      "/Users/admin/Downloads/anaconda/anaconda3/envs/my_environment_A5005da/lib/python3.12/site-packages/sklearn/utils/class_weight.py:81: FutureWarning: Calling float on a single element Series is deprecated and will raise a TypeError in the future. Use float(ser.iloc[0]) instead\n",
      "  weight[i] = class_weight[c]\n",
      "/Users/admin/Downloads/anaconda/anaconda3/envs/my_environment_A5005da/lib/python3.12/site-packages/sklearn/utils/class_weight.py:81: FutureWarning: Calling float on a single element Series is deprecated and will raise a TypeError in the future. Use float(ser.iloc[0]) instead\n",
      "  weight[i] = class_weight[c]\n",
      "/Users/admin/Downloads/anaconda/anaconda3/envs/my_environment_A5005da/lib/python3.12/site-packages/sklearn/utils/class_weight.py:81: FutureWarning: Calling float on a single element Series is deprecated and will raise a TypeError in the future. Use float(ser.iloc[0]) instead\n",
      "  weight[i] = class_weight[c]\n",
      "/Users/admin/Downloads/anaconda/anaconda3/envs/my_environment_A5005da/lib/python3.12/site-packages/sklearn/utils/class_weight.py:81: FutureWarning: Calling float on a single element Series is deprecated and will raise a TypeError in the future. Use float(ser.iloc[0]) instead\n",
      "  weight[i] = class_weight[c]\n",
      "/Users/admin/Downloads/anaconda/anaconda3/envs/my_environment_A5005da/lib/python3.12/site-packages/sklearn/utils/class_weight.py:81: FutureWarning: Calling float on a single element Series is deprecated and will raise a TypeError in the future. Use float(ser.iloc[0]) instead\n",
      "  weight[i] = class_weight[c]\n",
      "/Users/admin/Downloads/anaconda/anaconda3/envs/my_environment_A5005da/lib/python3.12/site-packages/sklearn/utils/class_weight.py:81: FutureWarning: Calling float on a single element Series is deprecated and will raise a TypeError in the future. Use float(ser.iloc[0]) instead\n",
      "  weight[i] = class_weight[c]\n",
      "/Users/admin/Downloads/anaconda/anaconda3/envs/my_environment_A5005da/lib/python3.12/site-packages/sklearn/utils/class_weight.py:81: FutureWarning: Calling float on a single element Series is deprecated and will raise a TypeError in the future. Use float(ser.iloc[0]) instead\n",
      "  weight[i] = class_weight[c]\n",
      "/Users/admin/Downloads/anaconda/anaconda3/envs/my_environment_A5005da/lib/python3.12/site-packages/sklearn/utils/class_weight.py:81: FutureWarning: Calling float on a single element Series is deprecated and will raise a TypeError in the future. Use float(ser.iloc[0]) instead\n",
      "  weight[i] = class_weight[c]\n",
      "/Users/admin/Downloads/anaconda/anaconda3/envs/my_environment_A5005da/lib/python3.12/site-packages/sklearn/utils/class_weight.py:81: FutureWarning: Calling float on a single element Series is deprecated and will raise a TypeError in the future. Use float(ser.iloc[0]) instead\n",
      "  weight[i] = class_weight[c]\n",
      "/Users/admin/Downloads/anaconda/anaconda3/envs/my_environment_A5005da/lib/python3.12/site-packages/sklearn/utils/class_weight.py:81: FutureWarning: Calling float on a single element Series is deprecated and will raise a TypeError in the future. Use float(ser.iloc[0]) instead\n",
      "  weight[i] = class_weight[c]\n",
      "/Users/admin/Downloads/anaconda/anaconda3/envs/my_environment_A5005da/lib/python3.12/site-packages/sklearn/utils/class_weight.py:81: FutureWarning: Calling float on a single element Series is deprecated and will raise a TypeError in the future. Use float(ser.iloc[0]) instead\n",
      "  weight[i] = class_weight[c]\n",
      "/Users/admin/Downloads/anaconda/anaconda3/envs/my_environment_A5005da/lib/python3.12/site-packages/sklearn/utils/class_weight.py:81: FutureWarning: Calling float on a single element Series is deprecated and will raise a TypeError in the future. Use float(ser.iloc[0]) instead\n",
      "  weight[i] = class_weight[c]\n",
      "/Users/admin/Downloads/anaconda/anaconda3/envs/my_environment_A5005da/lib/python3.12/site-packages/sklearn/utils/class_weight.py:81: FutureWarning: Calling float on a single element Series is deprecated and will raise a TypeError in the future. Use float(ser.iloc[0]) instead\n",
      "  weight[i] = class_weight[c]\n",
      "/Users/admin/Downloads/anaconda/anaconda3/envs/my_environment_A5005da/lib/python3.12/site-packages/sklearn/utils/class_weight.py:81: FutureWarning: Calling float on a single element Series is deprecated and will raise a TypeError in the future. Use float(ser.iloc[0]) instead\n",
      "  weight[i] = class_weight[c]\n",
      "/Users/admin/Downloads/anaconda/anaconda3/envs/my_environment_A5005da/lib/python3.12/site-packages/sklearn/utils/class_weight.py:81: FutureWarning: Calling float on a single element Series is deprecated and will raise a TypeError in the future. Use float(ser.iloc[0]) instead\n",
      "  weight[i] = class_weight[c]\n",
      "/Users/admin/Downloads/anaconda/anaconda3/envs/my_environment_A5005da/lib/python3.12/site-packages/sklearn/utils/class_weight.py:81: FutureWarning: Calling float on a single element Series is deprecated and will raise a TypeError in the future. Use float(ser.iloc[0]) instead\n",
      "  weight[i] = class_weight[c]\n",
      "/Users/admin/Downloads/anaconda/anaconda3/envs/my_environment_A5005da/lib/python3.12/site-packages/sklearn/utils/class_weight.py:81: FutureWarning: Calling float on a single element Series is deprecated and will raise a TypeError in the future. Use float(ser.iloc[0]) instead\n",
      "  weight[i] = class_weight[c]\n",
      "/Users/admin/Downloads/anaconda/anaconda3/envs/my_environment_A5005da/lib/python3.12/site-packages/sklearn/utils/class_weight.py:81: FutureWarning: Calling float on a single element Series is deprecated and will raise a TypeError in the future. Use float(ser.iloc[0]) instead\n",
      "  weight[i] = class_weight[c]\n",
      "/Users/admin/Downloads/anaconda/anaconda3/envs/my_environment_A5005da/lib/python3.12/site-packages/sklearn/utils/class_weight.py:81: FutureWarning: Calling float on a single element Series is deprecated and will raise a TypeError in the future. Use float(ser.iloc[0]) instead\n",
      "  weight[i] = class_weight[c]\n",
      "/Users/admin/Downloads/anaconda/anaconda3/envs/my_environment_A5005da/lib/python3.12/site-packages/sklearn/utils/class_weight.py:81: FutureWarning: Calling float on a single element Series is deprecated and will raise a TypeError in the future. Use float(ser.iloc[0]) instead\n",
      "  weight[i] = class_weight[c]\n",
      "/Users/admin/Downloads/anaconda/anaconda3/envs/my_environment_A5005da/lib/python3.12/site-packages/sklearn/utils/class_weight.py:81: FutureWarning: Calling float on a single element Series is deprecated and will raise a TypeError in the future. Use float(ser.iloc[0]) instead\n",
      "  weight[i] = class_weight[c]\n",
      "/Users/admin/Downloads/anaconda/anaconda3/envs/my_environment_A5005da/lib/python3.12/site-packages/sklearn/utils/class_weight.py:81: FutureWarning: Calling float on a single element Series is deprecated and will raise a TypeError in the future. Use float(ser.iloc[0]) instead\n",
      "  weight[i] = class_weight[c]\n",
      "/Users/admin/Downloads/anaconda/anaconda3/envs/my_environment_A5005da/lib/python3.12/site-packages/sklearn/utils/class_weight.py:81: FutureWarning: Calling float on a single element Series is deprecated and will raise a TypeError in the future. Use float(ser.iloc[0]) instead\n",
      "  weight[i] = class_weight[c]\n",
      "/Users/admin/Downloads/anaconda/anaconda3/envs/my_environment_A5005da/lib/python3.12/site-packages/sklearn/utils/class_weight.py:81: FutureWarning: Calling float on a single element Series is deprecated and will raise a TypeError in the future. Use float(ser.iloc[0]) instead\n",
      "  weight[i] = class_weight[c]\n",
      "/Users/admin/Downloads/anaconda/anaconda3/envs/my_environment_A5005da/lib/python3.12/site-packages/sklearn/utils/class_weight.py:81: FutureWarning: Calling float on a single element Series is deprecated and will raise a TypeError in the future. Use float(ser.iloc[0]) instead\n",
      "  weight[i] = class_weight[c]\n",
      "/Users/admin/Downloads/anaconda/anaconda3/envs/my_environment_A5005da/lib/python3.12/site-packages/sklearn/utils/class_weight.py:81: FutureWarning: Calling float on a single element Series is deprecated and will raise a TypeError in the future. Use float(ser.iloc[0]) instead\n",
      "  weight[i] = class_weight[c]\n",
      "/Users/admin/Downloads/anaconda/anaconda3/envs/my_environment_A5005da/lib/python3.12/site-packages/sklearn/utils/class_weight.py:81: FutureWarning: Calling float on a single element Series is deprecated and will raise a TypeError in the future. Use float(ser.iloc[0]) instead\n",
      "  weight[i] = class_weight[c]\n",
      "/Users/admin/Downloads/anaconda/anaconda3/envs/my_environment_A5005da/lib/python3.12/site-packages/sklearn/utils/class_weight.py:81: FutureWarning: Calling float on a single element Series is deprecated and will raise a TypeError in the future. Use float(ser.iloc[0]) instead\n",
      "  weight[i] = class_weight[c]\n",
      "/Users/admin/Downloads/anaconda/anaconda3/envs/my_environment_A5005da/lib/python3.12/site-packages/sklearn/utils/class_weight.py:81: FutureWarning: Calling float on a single element Series is deprecated and will raise a TypeError in the future. Use float(ser.iloc[0]) instead\n",
      "  weight[i] = class_weight[c]\n",
      "/Users/admin/Downloads/anaconda/anaconda3/envs/my_environment_A5005da/lib/python3.12/site-packages/sklearn/utils/class_weight.py:81: FutureWarning: Calling float on a single element Series is deprecated and will raise a TypeError in the future. Use float(ser.iloc[0]) instead\n",
      "  weight[i] = class_weight[c]\n",
      "/Users/admin/Downloads/anaconda/anaconda3/envs/my_environment_A5005da/lib/python3.12/site-packages/sklearn/utils/class_weight.py:81: FutureWarning: Calling float on a single element Series is deprecated and will raise a TypeError in the future. Use float(ser.iloc[0]) instead\n",
      "  weight[i] = class_weight[c]\n",
      "/Users/admin/Downloads/anaconda/anaconda3/envs/my_environment_A5005da/lib/python3.12/site-packages/sklearn/utils/class_weight.py:81: FutureWarning: Calling float on a single element Series is deprecated and will raise a TypeError in the future. Use float(ser.iloc[0]) instead\n",
      "  weight[i] = class_weight[c]\n",
      "/Users/admin/Downloads/anaconda/anaconda3/envs/my_environment_A5005da/lib/python3.12/site-packages/sklearn/utils/class_weight.py:81: FutureWarning: Calling float on a single element Series is deprecated and will raise a TypeError in the future. Use float(ser.iloc[0]) instead\n",
      "  weight[i] = class_weight[c]\n",
      "/Users/admin/Downloads/anaconda/anaconda3/envs/my_environment_A5005da/lib/python3.12/site-packages/sklearn/utils/class_weight.py:81: FutureWarning: Calling float on a single element Series is deprecated and will raise a TypeError in the future. Use float(ser.iloc[0]) instead\n",
      "  weight[i] = class_weight[c]\n",
      "/Users/admin/Downloads/anaconda/anaconda3/envs/my_environment_A5005da/lib/python3.12/site-packages/sklearn/utils/class_weight.py:81: FutureWarning: Calling float on a single element Series is deprecated and will raise a TypeError in the future. Use float(ser.iloc[0]) instead\n",
      "  weight[i] = class_weight[c]\n",
      "/Users/admin/Downloads/anaconda/anaconda3/envs/my_environment_A5005da/lib/python3.12/site-packages/sklearn/utils/class_weight.py:81: FutureWarning: Calling float on a single element Series is deprecated and will raise a TypeError in the future. Use float(ser.iloc[0]) instead\n",
      "  weight[i] = class_weight[c]\n"
     ]
    },
    {
     "name": "stdout",
     "output_type": "stream",
     "text": [
      "Decision Tree completed. Test Accuracy: 0.9944\n",
      "Model: Logistic Regression\n",
      "Best Params: {'C': 1, 'max_iter': 300}\n",
      "Accuracy: 0.4826\n",
      "Classification Report:\n",
      "              precision    recall  f1-score   support\n",
      "\n",
      "           0       1.00      0.48      0.65   1270881\n",
      "           1       0.00      1.00      0.00      1643\n",
      "\n",
      "    accuracy                           0.48   1272524\n",
      "   macro avg       0.50      0.74      0.33   1272524\n",
      "weighted avg       1.00      0.48      0.65   1272524\n",
      "\n",
      "Confusion Matrix:\n",
      "[[612531 658350]\n",
      " [     1   1642]]\n",
      "--------------------------------------------------------------------------------\n",
      "Model: K-Nearest Neighbors\n",
      "Best Params: {'n_neighbors': 5, 'weights': 'distance'}\n",
      "Accuracy: 0.7961\n",
      "Classification Report:\n",
      "              precision    recall  f1-score   support\n",
      "\n",
      "           0       1.00      0.80      0.89   1270881\n",
      "           1       0.00      0.34      0.00      1643\n",
      "\n",
      "    accuracy                           0.80   1272524\n",
      "   macro avg       0.50      0.57      0.45   1272524\n",
      "weighted avg       1.00      0.80      0.89   1272524\n",
      "\n",
      "Confusion Matrix:\n",
      "[[1012487  258394]\n",
      " [   1084     559]]\n",
      "--------------------------------------------------------------------------------\n",
      "Model: Random Forest\n",
      "Best Params: {'max_depth': None, 'n_estimators': 300}\n",
      "Accuracy: 0.9974\n",
      "Classification Report:\n",
      "              precision    recall  f1-score   support\n",
      "\n",
      "           0       1.00      1.00      1.00   1270881\n",
      "           1       0.32      0.93      0.48      1643\n",
      "\n",
      "    accuracy                           1.00   1272524\n",
      "   macro avg       0.66      0.97      0.74   1272524\n",
      "weighted avg       1.00      1.00      1.00   1272524\n",
      "\n",
      "Confusion Matrix:\n",
      "[[1267650    3231]\n",
      " [    110    1533]]\n",
      "--------------------------------------------------------------------------------\n",
      "Model: Decision Tree\n",
      "Best Params: {'max_depth': 40, 'min_samples_split': 2}\n",
      "Accuracy: 0.9944\n",
      "Classification Report:\n",
      "              precision    recall  f1-score   support\n",
      "\n",
      "           0       1.00      0.99      1.00   1270881\n",
      "           1       0.18      0.95      0.30      1643\n",
      "\n",
      "    accuracy                           0.99   1272524\n",
      "   macro avg       0.59      0.97      0.65   1272524\n",
      "weighted avg       1.00      0.99      1.00   1272524\n",
      "\n",
      "Confusion Matrix:\n",
      "[[1263835    7046]\n",
      " [     83    1560]]\n",
      "--------------------------------------------------------------------------------\n"
     ]
    }
   ],
   "source": [
    "results = {}\n",
    "from sklearn import metrics\n",
    "\n",
    "for model_name, model_info in models.items():\n",
    "    print(f\"Testing {model_name}...\")\n",
    "\n",
    "    grid_search = GridSearchCV(\n",
    "        estimator=model_info[\"instance\"],\n",
    "        param_grid=model_info[\"params\"],\n",
    "        scoring=\"accuracy\",\n",
    "        cv=5,\n",
    "        n_jobs=-1,\n",
    "        verbose=1,\n",
    "    )\n",
    "    \n",
    "\n",
    "    grid_search.fit(X_train, y_train)\n",
    "\n",
    "    best_model = grid_search.best_estimator_\n",
    "\n",
    "    y_pred = best_model.predict(X_test)\n",
    "    \n",
    "\n",
    "    acc = metrics.accuracy_score(y_test, y_pred)\n",
    "    report = metrics.classification_report(y_test, y_pred)\n",
    "    cm = metrics.confusion_matrix(y_test, y_pred)\n",
    "    \n",
    "    results[model_name] = {\n",
    "        \"Best Params\": grid_search.best_params_,\n",
    "        \"Accuracy\": acc,\n",
    "        \"Classification Report\": report,\n",
    "        \"Confusion Matrix\": cm,\n",
    "    }\n",
    "    print(f\"{model_name} completed. Test Accuracy: {acc:.4f}\")\n",
    "\n",
    "for model, metrics in results.items():\n",
    "    print(f\"Model: {model}\")\n",
    "    print(f\"Best Params: {metrics['Best Params']}\")\n",
    "    print(f\"Accuracy: {metrics['Accuracy']:.4f}\")\n",
    "    print(\"Classification Report:\")\n",
    "    print(metrics[\"Classification Report\"])\n",
    "    print(\"Confusion Matrix:\")\n",
    "    print(metrics[\"Confusion Matrix\"])\n",
    "    print(\"-\" * 80)\n"
   ]
  },
  {
   "cell_type": "code",
   "execution_count": 16,
   "metadata": {},
   "outputs": [
    {
     "name": "stdout",
     "output_type": "stream",
     "text": [
      "Model: Logistic Regression\n",
      "Best Params: {'C': 1, 'max_iter': 300}\n",
      "Accuracy: 0.4826\n",
      "Classification Report:\n",
      "              precision    recall  f1-score   support\n",
      "\n",
      "           0       1.00      0.48      0.65   1270881\n",
      "           1       0.00      1.00      0.00      1643\n",
      "\n",
      "    accuracy                           0.48   1272524\n",
      "   macro avg       0.50      0.74      0.33   1272524\n",
      "weighted avg       1.00      0.48      0.65   1272524\n",
      "\n",
      "Confusion Matrix:\n",
      "[[612531 658350]\n",
      " [     1   1642]]\n",
      "--------------------------------------------------------------------------------\n",
      "Model: K-Nearest Neighbors\n",
      "Best Params: {'n_neighbors': 5, 'weights': 'distance'}\n",
      "Accuracy: 0.7961\n",
      "Classification Report:\n",
      "              precision    recall  f1-score   support\n",
      "\n",
      "           0       1.00      0.80      0.89   1270881\n",
      "           1       0.00      0.34      0.00      1643\n",
      "\n",
      "    accuracy                           0.80   1272524\n",
      "   macro avg       0.50      0.57      0.45   1272524\n",
      "weighted avg       1.00      0.80      0.89   1272524\n",
      "\n",
      "Confusion Matrix:\n",
      "[[1012487  258394]\n",
      " [   1084     559]]\n",
      "--------------------------------------------------------------------------------\n",
      "Model: Random Forest\n",
      "Best Params: {'max_depth': None, 'n_estimators': 300}\n",
      "Accuracy: 0.9974\n",
      "Classification Report:\n",
      "              precision    recall  f1-score   support\n",
      "\n",
      "           0       1.00      1.00      1.00   1270881\n",
      "           1       0.32      0.93      0.48      1643\n",
      "\n",
      "    accuracy                           1.00   1272524\n",
      "   macro avg       0.66      0.97      0.74   1272524\n",
      "weighted avg       1.00      1.00      1.00   1272524\n",
      "\n",
      "Confusion Matrix:\n",
      "[[1267650    3231]\n",
      " [    110    1533]]\n",
      "--------------------------------------------------------------------------------\n",
      "Model: Decision Tree\n",
      "Best Params: {'max_depth': 40, 'min_samples_split': 2}\n",
      "Accuracy: 0.9944\n",
      "Classification Report:\n",
      "              precision    recall  f1-score   support\n",
      "\n",
      "           0       1.00      0.99      1.00   1270881\n",
      "           1       0.18      0.95      0.30      1643\n",
      "\n",
      "    accuracy                           0.99   1272524\n",
      "   macro avg       0.59      0.97      0.65   1272524\n",
      "weighted avg       1.00      0.99      1.00   1272524\n",
      "\n",
      "Confusion Matrix:\n",
      "[[1263835    7046]\n",
      " [     83    1560]]\n",
      "--------------------------------------------------------------------------------\n"
     ]
    }
   ],
   "source": [
    "# Display results for each model\n",
    "for model, metrics in results.items():\n",
    "    print(f\"Model: {model}\")\n",
    "    print(f\"Best Params: {metrics['Best Params']}\")\n",
    "    print(f\"Accuracy: {metrics['Accuracy']:.4f}\")\n",
    "    print(\"Classification Report:\")\n",
    "    print(metrics[\"Classification Report\"])\n",
    "    print(\"Confusion Matrix:\")\n",
    "    print(metrics[\"Confusion Matrix\"])\n",
    "    print(\"-\" * 80)"
   ]
  },
  {
   "cell_type": "code",
   "execution_count": null,
   "metadata": {},
   "outputs": [
    {
     "name": "stderr",
     "output_type": "stream",
     "text": [
      "/var/folders/56/5l7d9_y936d5pw2zt37_51j80000gn/T/ipykernel_18497/514267632.py:11: FutureWarning: \n",
      "\n",
      "Passing `palette` without assigning `hue` is deprecated and will be removed in v0.14.0. Assign the `x` variable to `hue` and set `legend=False` for the same effect.\n",
      "\n",
      "  sns.barplot(x=model_names, y=accuracies, palette=\"viridis\")\n"
     ]
    },
    {
     "data": {
      "image/png": "[encoded data removed]",
      "text/plain": [
       "<Figure size 1000x600 with 1 Axes>"
      ]
     },
     "metadata": {},
     "output_type": "display_data"
    },
    {
     "data": {
      "image/png": "[encoded data removed]",
      "text/plain": [
       "<Figure size 800x600 with 1 Axes>"
      ]
     },
     "metadata": {},
     "output_type": "display_data"
    },
    {
     "data": {
      "image/png": "[encoded data removed]",
      "text/plain": [
       "<Figure size 800x600 with 1 Axes>"
      ]
     },
     "metadata": {},
     "output_type": "display_data"
    },
    {
     "data": {
      "image/png": "[encoded data removed]",
      "text/plain": [
       "<Figure size 800x600 with 1 Axes>"
      ]
     },
     "metadata": {},
     "output_type": "display_data"
    },
    {
     "data": {
      "image/png": "[encoded data removed]",
      "text/plain": [
       "<Figure size 800x600 with 1 Axes>"
      ]
     },
     "metadata": {},
     "output_type": "display_data"
    },
    {
     "data": {
      "image/png": "[encoded data removed]",
      "text/plain": [
       "<Figure size 1200x600 with 1 Axes>"
      ]
     },
     "metadata": {},
     "output_type": "display_data"
    },
    {
     "data": {
      "image/png": "[encoded data removed]",
      "text/plain": [
       "<Figure size 1200x600 with 1 Axes>"
      ]
     },
     "metadata": {},
     "output_type": "display_data"
    },
    {
     "data": {
      "image/png": "[encoded data removed]",
      "text/plain": [
       "<Figure size 1200x600 with 1 Axes>"
      ]
     },
     "metadata": {},
     "output_type": "display_data"
    }
   ],
   "source": [
    "import matplotlib.pyplot as plt\n",
    "import seaborn as sns\n",
    "import numpy as np\n",
    "\n",
    "model_names = list(results.keys())\n",
    "accuracies = [results[model][\"Accuracy\"] for model in model_names]\n",
    "\n",
    "plt.figure(figsize=(10, 6))\n",
    "sns.barplot(x=model_names, y=accuracies, palette=\"viridis\")\n",
    "plt.title(\"Model Accuracies\")\n",
    "plt.xlabel(\"Model\")\n",
    "plt.ylabel(\"Accuracy\")\n",
    "plt.ylim(0, 1)\n",
    "plt.xticks(rotation=45)\n",
    "plt.tight_layout()\n",
    "plt.show()\n",
    "\n",
    "for model_name, metrics in results.items():\n",
    "    cm = metrics[\"Confusion Matrix\"]\n",
    "    plt.figure(figsize=(8, 6))\n",
    "    sns.heatmap(cm, annot=True, fmt=\"d\", cmap=\"Blues\", cbar=False)\n",
    "    plt.title(f\"Confusion Matrix for {model_name}\")\n",
    "    plt.xlabel(\"Predicted\")\n",
    "    plt.ylabel(\"Actual\")\n",
    "    plt.tight_layout()\n",
    "    plt.show()\n",
    "\n",
    "report_data = {}\n",
    "\n",
    "for model_name, metrics in results.items():\n",
    "    report_lines = metrics[\"Classification Report\"].split(\"\\n\")\n",
    "    for line in report_lines[2:-5]:\n",
    "        row = line.split()\n",
    "        if len(row) >= 5:\n",
    "            label = row[0]\n",
    "            precision, recall, f1_score = map(float, row[1:4])\n",
    "            if label not in report_data:\n",
    "                report_data[label] = {\"Precision\": [], \"Recall\": [], \"F1-Score\": []}\n",
    "            report_data[label][\"Precision\"].append(precision)\n",
    "            report_data[label][\"Recall\"].append(recall)\n",
    "            report_data[label][\"F1-Score\"].append(f1_score)\n",
    "\n",
    "for metric in [\"Precision\", \"Recall\", \"F1-Score\"]:\n",
    "    plt.figure(figsize=(12, 6))\n",
    "    index = np.arange(len(report_data))\n",
    "    bar_width = 0.2\n",
    "\n",
    "    for i, model_name in enumerate(model_names):\n",
    "        values = [report_data[label][metric][i] for label in report_data]\n",
    "        plt.bar(index + i * bar_width, values, bar_width, label=model_name)\n",
    "\n",
    "    plt.title(f\"{metric} by Class for Each Model\")\n",
    "    plt.xlabel(\"Class\")\n",
    "    plt.ylabel(metric)\n",
    "    plt.xticks(index + bar_width * (len(model_names) - 1) / 2, list(report_data.keys()))\n",
    "    plt.legend()\n",
    "    plt.tight_layout()\n",
    "    plt.show()\n"
   ]
  },
  {
   "cell_type": "code",
   "execution_count": null,
   "metadata": {},
   "outputs": [],
   "source": []
  }
 ],
 "metadata": {
  "kernelspec": {
   "display_name": "my_environment_A5005da",
   "language": "python",
   "name": "python3"
  },
  "language_info": {
   "codemirror_mode": {
    "name": "ipython",
    "version": 3
   },
   "file_extension": ".py",
   "mimetype": "text/x-python",
   "name": "python",
   "nbconvert_exporter": "python",
   "pygments_lexer": "ipython3",
   "version": "3.12.4"
  }
 },
 "nbformat": 4,
 "nbformat_minor": 2
}
